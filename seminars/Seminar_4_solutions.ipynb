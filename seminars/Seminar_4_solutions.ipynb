{
 "cells": [
  {
   "cell_type": "code",
   "execution_count": 1,
   "metadata": {
    "slideshow": {
     "slide_type": "skip"
    }
   },
   "outputs": [],
   "source": [
    "# import visualization and data processing libraries\n",
    "import numpy as np\n",
    "import matplotlib.pyplot as plt\n",
    "%matplotlib inline"
   ]
  },
  {
   "cell_type": "markdown",
   "metadata": {
    "slideshow": {
     "slide_type": "slide"
    }
   },
   "source": [
    "### Support Vector Machines\n",
    "\n",
    "$$\\frac{1}{2}\\|w\\|^2 + C\\sum_{i=1}^l\\xi_i \\to \\min_{w, b}\\\\\n",
    "y_i(w^Tx_i + b) \\geq 1 - \\xi_i\\\\\n",
    "\\xi_i \\geq 0$$"
   ]
  },
  {
   "cell_type": "markdown",
   "metadata": {
    "slideshow": {
     "slide_type": "fragment"
    }
   },
   "source": [
    "#### Equivalent\n",
    "$$ \\frac{1}{2}\\|w\\|^2 + C\\sum_{i=1}^l h(\\hat{y}_i, y_i)$$\n",
    "\n"
   ]
  },
  {
   "cell_type": "markdown",
   "metadata": {
    "slideshow": {
     "slide_type": "fragment"
    }
   },
   "source": [
    "Where:\n",
    "$$h(\\hat{y}_i, y_i) = \\max(0, 1 - y_i\\hat{y}_i)$$"
   ]
  },
  {
   "cell_type": "markdown",
   "metadata": {
    "slideshow": {
     "slide_type": "fragment"
    }
   },
   "source": [
    "\n",
    "$$ \\hat{y}_i = (w, x_i) + b$$"
   ]
  },
  {
   "cell_type": "markdown",
   "metadata": {
    "slideshow": {
     "slide_type": "slide"
    }
   },
   "source": [
    "### SVM as a Risk Minimization Problem\n",
    "\n",
    "$$ \\frac{1}{2}\\|w\\|^2 + C\\sum_{i=1}^l h(\\hat{y}_i, y_i)$$\n",
    "\n"
   ]
  },
  {
   "cell_type": "markdown",
   "metadata": {
    "slideshow": {
     "slide_type": "fragment"
    }
   },
   "source": [
    "* $h(\\hat{y}_i, y_i)$ -- emprirical risk"
   ]
  },
  {
   "cell_type": "markdown",
   "metadata": {
    "slideshow": {
     "slide_type": "fragment"
    }
   },
   "source": [
    "* $\\frac{1}{2} \\|w\\|^2$ - regularization"
   ]
  },
  {
   "cell_type": "markdown",
   "metadata": {
    "slideshow": {
     "slide_type": "slide"
    }
   },
   "source": [
    "### Let's Classify Something"
   ]
  },
  {
   "cell_type": "code",
   "execution_count": 2,
   "metadata": {
    "slideshow": {
     "slide_type": "skip"
    }
   },
   "outputs": [],
   "source": [
    "# Automated data loading and feature preprocessing routines\n",
    "from sklearn.preprocessing import scale\n",
    "from sklearn.datasets import load_iris"
   ]
  },
  {
   "cell_type": "markdown",
   "metadata": {
    "slideshow": {
     "slide_type": "skip"
    }
   },
   "source": [
    "Out of box sklearn supports various techniques for data preprocessing.\n",
    "\n",
    "http://scikit-learn.org/stable/modules/preprocessing.html"
   ]
  },
  {
   "cell_type": "code",
   "execution_count": 3,
   "metadata": {
    "slideshow": {
     "slide_type": "skip"
    }
   },
   "outputs": [],
   "source": [
    "X, y = load_iris(return_X_y=True)\n",
    "X_train_non_normalized = X[-100:, [1, 2]]\n",
    "y_train = y[-100:]\n",
    "# SVM take data with -1 and 1 labels\n",
    "y_train[y_train == 1] = 1\n",
    "y_train[y_train == 2] = -1\n",
    "# Scale input X\n",
    "X_train = scale(X_train_non_normalized)\n",
    "# Some general info\n",
    "n_dim = X_train.shape[1]\n",
    "n_elements = X.shape[0]"
   ]
  },
  {
   "cell_type": "markdown",
   "metadata": {
    "slideshow": {
     "slide_type": "fragment"
    }
   },
   "source": [
    "![title](http://5047-presscdn.pagely.netdna-cdn.com/wp-content/uploads/2015/04/iris_petal_sepal.png)"
   ]
  },
  {
   "cell_type": "markdown",
   "metadata": {
    "slideshow": {
     "slide_type": "slide"
    }
   },
   "source": [
    "### Let's Classify Something"
   ]
  },
  {
   "cell_type": "code",
   "execution_count": 4,
   "metadata": {
    "slideshow": {
     "slide_type": "fragment"
    }
   },
   "outputs": [
    {
     "data": {
      "text/plain": [
       "Text(0,0.5,'petal width (cm)')"
      ]
     },
     "execution_count": 4,
     "metadata": {},
     "output_type": "execute_result"
    },
    {
     "data": {
      "image/png": "[encoded data removed]",
      "text/plain": [
       "<matplotlib.figure.Figure at 0x1a122b7d30>"
      ]
     },
     "metadata": {},
     "output_type": "display_data"
    }
   ],
   "source": [
    "axis = plt.gca()\n",
    "axis.scatter(X_train[:, 0], X_train[:, 1], c=y_train)\n",
    "axis.set_xlabel('sepal width (cm)')\n",
    "axis.set_ylabel('petal width (cm)')"
   ]
  },
  {
   "cell_type": "markdown",
   "metadata": {
    "slideshow": {
     "slide_type": "slide"
    }
   },
   "source": [
    "### Gradient Descent \n",
    "\n",
    "We can use simple gradient descent\n",
    "\n",
    "![title](https://qph.ec.quoracdn.net/main-qimg-4f535a48019fa697d74e8658b692097a)"
   ]
  },
  {
   "cell_type": "code",
   "execution_count": 5,
   "metadata": {
    "slideshow": {
     "slide_type": "slide"
    }
   },
   "outputs": [],
   "source": [
    "def calculate_hinge_loss(X, y, w, b, C=1):\n",
    "    '''Calculate hinge loss function\n",
    "    :param: X -- numpy array of shape l x n\n",
    "    :param: y -- numpy array of shape l with values 1 and -1\n",
    "    :param: w -- numpy array of shape n\n",
    "    :param: b -- np.float64\n",
    "    '''\n",
    "    loss = 0\n",
    "    # Calculate Loss\n",
    "    predictions = X @ w + b\n",
    "    elementwise_loss = np.maximum(0, 1 - y*predictions)\n",
    "    loss = C*elementwise_loss.sum() + 0.5*np.sum(w * w)\n",
    "    \n",
    "    w_grad = np.zeros_like(w)\n",
    "    b_grad = 0\n",
    "    # Calculate Gradient for hinge loss\n",
    "    suspicion_predictions = elementwise_loss > 0\n",
    "    suspicion_indices = suspicion_predictions.nonzero()[0]\n",
    "    w_grad = -(X * y[:, None])[suspicion_predictions, :].sum(axis=0) * C + w\n",
    "    b_grad = -np.sum(y[suspicion_indices]) * C\n",
    "    \n",
    "    return loss, w_grad, b_grad"
   ]
  },
  {
   "cell_type": "code",
   "execution_count": 6,
   "metadata": {
    "slideshow": {
     "slide_type": "slide"
    }
   },
   "outputs": [],
   "source": [
    "step = 1e-5\n",
    "tolerance = 1e-5\n",
    "converged = False\n",
    "C = 100\n",
    "index = 0\n",
    "\n",
    "training_loss_history = []\n",
    "training_loss_iteration = []\n",
    "\n",
    "# Initialization\n",
    "w = np.zeros(n_dim)\n",
    "b = 0\n",
    "\n",
    "#Initial gradient\n",
    "loss, w_grad, b_grad = calculate_hinge_loss(X_train, y_train, w, b, C)\n",
    "while not converged:\n",
    "    # Update parameters\n",
    "    new_w = w - step * w_grad\n",
    "    new_b = b - step * b_grad\n",
    "    # Calculate new loss and gradient\n",
    "    new_loss, w_grad, b_grad = calculate_hinge_loss(X_train, \n",
    "                                                    y_train, \n",
    "                                                    new_w, new_b, C)\n",
    "    # Check convergence\n",
    "    if np.abs(loss - new_loss) < tolerance:\n",
    "        converged = True\n",
    "    \n",
    "    b, w, loss = new_b, new_w, new_loss\n",
    "    \n",
    "    # Update history\n",
    "    index+=1\n",
    "    if index % 10 == 0:\n",
    "        training_loss_history.append(new_loss)\n",
    "        training_loss_iteration.append(index)"
   ]
  },
  {
   "cell_type": "markdown",
   "metadata": {
    "slideshow": {
     "slide_type": "slide"
    }
   },
   "source": [
    "### Learning History"
   ]
  },
  {
   "cell_type": "code",
   "execution_count": 7,
   "metadata": {
    "slideshow": {
     "slide_type": "fragment"
    }
   },
   "outputs": [
    {
     "data": {
      "text/plain": [
       "Text(0,0.5,'Loss Value')"
      ]
     },
     "execution_count": 7,
     "metadata": {},
     "output_type": "execute_result"
    },
    {
     "data": {
      "image/png": "[encoded data removed]",
      "text/plain": [
       "<matplotlib.figure.Figure at 0x1a1b00c940>"
      ]
     },
     "metadata": {},
     "output_type": "display_data"
    }
   ],
   "source": [
    "plt.plot(training_loss_iteration, training_loss_history)\n",
    "plt.xlabel('Iteration Counts')\n",
    "plt.ylabel('Loss Value')"
   ]
  },
  {
   "cell_type": "code",
   "execution_count": 8,
   "metadata": {
    "slideshow": {
     "slide_type": "skip"
    }
   },
   "outputs": [],
   "source": [
    "# In order to visualize results we generate\n",
    "# all possible pairs of (x, y) on a grid\n",
    "grid_x = np.linspace(-3, 3, 100)\n",
    "grid_y = np.linspace(-3, 3, 100)\n",
    "XX, YY = np.meshgrid(grid_x, grid_y)\n",
    "grid_test_x = np.c_[XX.ravel(), YY.ravel()]"
   ]
  },
  {
   "cell_type": "markdown",
   "metadata": {
    "slideshow": {
     "slide_type": "slide"
    }
   },
   "source": [
    "### Plot Decision Value"
   ]
  },
  {
   "cell_type": "code",
   "execution_count": 9,
   "metadata": {
    "slideshow": {
     "slide_type": "fragment"
    }
   },
   "outputs": [],
   "source": [
    "predictions_primal = grid_test_x @ w + b"
   ]
  },
  {
   "cell_type": "code",
   "execution_count": 10,
   "metadata": {
    "slideshow": {
     "slide_type": "skip"
    }
   },
   "outputs": [],
   "source": [
    "def plot_prediction_on_grid(predictions, axis):\n",
    "    '''Plots results on a grid\n",
    "    :param: predictions -- numpy array with predictions on grid_test_x\n",
    "    :param: axis -- current axis'''\n",
    "    # visualize decision function value with color\n",
    "    CS = axis.contourf(grid_x, grid_y, predictions.reshape(XX.shape))\n",
    "    # plots separating line\n",
    "    axis.contour(grid_x, grid_y, predictions.reshape(XX.shape), colors=['k', 'k', 'k'],\n",
    "                linestyles=['--', '-', '--'], levels=[-.1, 0, .1], linewidths=2)\n",
    "    # Plot dataset\n",
    "    axis.scatter(X_train[:, 0], X_train[:, 1], c=y_train)\n",
    "    # Add colorbar to axis\n",
    "    plt.colorbar(CS, ax=axis)\n",
    "    axis.set_xlabel('sepal width (cm)')\n",
    "    axis.set_ylabel('petal width (cm)')"
   ]
  },
  {
   "cell_type": "code",
   "execution_count": 11,
   "metadata": {
    "slideshow": {
     "slide_type": "fragment"
    }
   },
   "outputs": [
    {
     "data": {
      "image/png": "[encoded data removed]",
      "text/plain": [
       "<matplotlib.figure.Figure at 0x1a1b0ddbe0>"
      ]
     },
     "metadata": {},
     "output_type": "display_data"
    }
   ],
   "source": [
    "ax = plt.gca()\n",
    "plot_prediction_on_grid(predictions_primal, ax)"
   ]
  },
  {
   "cell_type": "markdown",
   "metadata": {
    "slideshow": {
     "slide_type": "slide"
    }
   },
   "source": [
    "### SVM Dual Problem\n",
    "$$ \\frac{1}{2}(\\alpha * y)^T K (\\alpha * y) - \\sum\\alpha \\to \\min_{\\alpha}\\\\\n",
    "\\sum y * \\alpha = 0\\\\\n",
    "0 \\leq \\alpha \\leq C$$"
   ]
  },
  {
   "cell_type": "markdown",
   "metadata": {
    "slideshow": {
     "slide_type": "fragment"
    }
   },
   "source": [
    "### Quadtratic Optimization Problem\n",
    "$$\\frac{1}{2}x^T P x + q^T x \\to \\min_{x}\\\\\n",
    "G x \\leq h\\\\\n",
    "Ax = b$$"
   ]
  },
  {
   "cell_type": "markdown",
   "metadata": {
    "slideshow": {
     "slide_type": "skip"
    }
   },
   "source": [
    "Now we are going to use cvxopt library which produce solvers for different kind of optimization problems.\n",
    "\n",
    "http://cvxopt.org/"
   ]
  },
  {
   "cell_type": "markdown",
   "metadata": {
    "slideshow": {
     "slide_type": "skip"
    }
   },
   "source": [
    "In the next cell we are going to install cvxopt. In case of any problem please ask TAs for help."
   ]
  },
  {
   "cell_type": "code",
   "execution_count": 12,
   "metadata": {
    "slideshow": {
     "slide_type": "skip"
    }
   },
   "outputs": [
    {
     "name": "stdout",
     "output_type": "stream",
     "text": [
      "Solving environment: done\n",
      "\n",
      "\n",
      "==> WARNING: A newer version of conda exists. <==\n",
      "  current version: 4.4.7\n",
      "  latest version: 4.4.8\n",
      "\n",
      "Please update conda by running\n",
      "\n",
      "    $ conda update -n base conda\n",
      "\n",
      "\n",
      "\n",
      "# All requested packages already installed.\n",
      "\n"
     ]
    }
   ],
   "source": [
    "!conda install cvxopt --yes"
   ]
  },
  {
   "cell_type": "markdown",
   "metadata": {
    "slideshow": {
     "slide_type": "skip"
    }
   },
   "source": [
    "For more information about different types of optimization problem you can check this presentations. This material could be helpful however is not necessary for understatnding this course in Machine Learning\n",
    "\n",
    "http://ee364a.stanford.edu/lectures/problems.pdf"
   ]
  },
  {
   "cell_type": "markdown",
   "metadata": {
    "slideshow": {
     "slide_type": "slide"
    }
   },
   "source": [
    "### Reformulate Problem"
   ]
  },
  {
   "cell_type": "code",
   "execution_count": 13,
   "metadata": {
    "slideshow": {
     "slide_type": "fragment"
    }
   },
   "outputs": [],
   "source": [
    "from cvxopt import matrix\n",
    "\n",
    "# all values should be of cvxopt.matrix datatype\n",
    "# you can just use matrix(a) where a is np.array\n",
    "\n",
    "def formulate_problem(X, y, kernel, C):\n",
    "    \"\"\"Formulate quadratic optimization\n",
    "    problem by defining matrices\n",
    "    :param: X np.array of size n_elem * n_dim with reaining values\n",
    "    :param: y np.array of size n_elem with labels 1 and -1\n",
    "    :kernel: kernel function wich accept two matrices of objects\"\"\"\n",
    "    quadratic_problem = {}\n",
    "    P = kernel(X, X) * (y[:, None] @ y[None, :])\n",
    "    quadratic_problem['P'] = matrix(P)\n",
    "    quadratic_problem['q'] = -matrix(np.ones_like(y, dtype=float).reshape(-1, 1))\n",
    "    quadratic_problem['A'] = matrix(y.reshape(1, -1))\n",
    "    quadratic_problem['b'] = matrix(0.0)\n",
    "    G = np.block([[-np.eye(len(y), dtype=float)], [np.eye(len(y), dtype=float)]])\n",
    "    quadratic_problem['G'] = matrix(G)\n",
    "    h = np.zeros(2 * len(y))\n",
    "    h[len(y):] = C\n",
    "    quadratic_problem['h'] = matrix(h)\n",
    "    return quadratic_problem"
   ]
  },
  {
   "cell_type": "markdown",
   "metadata": {
    "slideshow": {
     "slide_type": "slide"
    }
   },
   "source": [
    "### Check the Results"
   ]
  },
  {
   "cell_type": "code",
   "execution_count": 14,
   "metadata": {
    "slideshow": {
     "slide_type": "skip"
    }
   },
   "outputs": [],
   "source": [
    "# Optimization routine\n",
    "from cvxopt.solvers import qp\n",
    "# Kernel function\n",
    "from sklearn.metrics.pairwise import linear_kernel"
   ]
  },
  {
   "cell_type": "code",
   "execution_count": null,
   "metadata": {
    "slideshow": {
     "slide_type": "fragment"
    }
   },
   "outputs": [],
   "source": [
    "kernel = linear_kernel # Function is an object\n",
    "\n",
    "qudratic_problem = formulate_problem(X_train, y_train.astype(float), kernel, C)\n",
    "results = qp(**qudratic_problem)"
   ]
  },
  {
   "cell_type": "markdown",
   "metadata": {
    "slideshow": {
     "slide_type": "fragment"
    }
   },
   "source": [
    "Extract results and round small values"
   ]
  },
  {
   "cell_type": "code",
   "execution_count": 17,
   "metadata": {
    "slideshow": {
     "slide_type": "fragment"
    }
   },
   "outputs": [],
   "source": [
    "optimal_alpha = np.array(results['x']).ravel()"
   ]
  },
  {
   "cell_type": "markdown",
   "metadata": {
    "slideshow": {
     "slide_type": "slide"
    }
   },
   "source": [
    "### Prediction\n",
    "\n",
    "Having a kernel function $K$ and optimal $\\alpha$ compute a dot product $(w\\cdot x_i)$:\n",
    "\n",
    "$$(w \\cdot x_{test}) = \\sum_{i=1}^l\\alpha_i y_i K(x_i, x_{test})$$"
   ]
  },
  {
   "cell_type": "code",
   "execution_count": 18,
   "metadata": {
    "slideshow": {
     "slide_type": "fragment"
    }
   },
   "outputs": [],
   "source": [
    "def kernel_dot_product(X_train, y_train, X_test, kernel, alpha):\n",
    "    '''Calculate scalar product with vector w\n",
    "    based on support vectors and dual coefficients\n",
    "    :param: X_train np.array with train data\n",
    "    :param: y_train np.array with train labels\n",
    "    :param: X_test np.array with test data\n",
    "    :parma: kernel kernel function\n",
    "    :param: alpha dual coefficients'''\n",
    "    \n",
    "    prediction = np.zeros(X_test.shape[0])\n",
    "    # Your code here\n",
    "    kernel_matrix = kernel(X_train, X_test)\n",
    "    prediction = (y_train * alpha).reshape(1, -1) @ kernel_matrix\n",
    "    return prediction.ravel()"
   ]
  },
  {
   "cell_type": "markdown",
   "metadata": {
    "slideshow": {
     "slide_type": "slide"
    }
   },
   "source": [
    "### Prediction\n",
    "\n",
    "Having a kernel function $K$ and optimal $\\alpha$ compute a dot product $(w\\cdot x_i)$:\n",
    "\n",
    "$$(w \\cdot x_{test}) = \\sum_{i=1}^l\\alpha_i y_i K(x_i, x_{test})$$"
   ]
  },
  {
   "cell_type": "markdown",
   "metadata": {
    "slideshow": {
     "slide_type": "slide"
    }
   },
   "source": [
    "### Constant Calculation\n",
    "\n",
    "We can get constant $b$ based on support vectors' properties\n",
    "\n",
    "$$ b = y_i - (w \\cdot x_i)\\\\\n",
    "0 < \\alpha_i < C$$"
   ]
  },
  {
   "cell_type": "code",
   "execution_count": 19,
   "metadata": {
    "slideshow": {
     "slide_type": "slide"
    }
   },
   "outputs": [],
   "source": [
    "def calculate_bias(X_train, y_train, kernel, alpha):\n",
    "    \"\"\"Calculates the bias \n",
    "    :param: X_train np.array with train data\n",
    "    :param: y_train np.array with train labels\n",
    "    :parma: kernel kernel function\n",
    "    :param: alpha dual coefficients'''\n",
    "    \"\"\"\n",
    "    # Search for support element index\n",
    "    support_index = -1\n",
    "    for index, alpha in enumerate(alpha):\n",
    "        if 0 < alpha < C:\n",
    "            support_index = index\n",
    "            break\n",
    "\n",
    "    # Calculate dot produt\n",
    "    dot_product = kernel_dot_product(X_train, y_train, \n",
    "                                     X_train[[support_index], :], \n",
    "                                     kernel, alpha)\n",
    "    # Calculate bias\n",
    "    b = y_train[support_index] - dot_product\n",
    "    return b"
   ]
  },
  {
   "cell_type": "code",
   "execution_count": 20,
   "metadata": {
    "slideshow": {
     "slide_type": "fragment"
    }
   },
   "outputs": [],
   "source": [
    "b = calculate_bias(X_train, y_train, kernel, optimal_alpha)"
   ]
  },
  {
   "cell_type": "markdown",
   "metadata": {
    "slideshow": {
     "slide_type": "slide"
    }
   },
   "source": [
    "### Plot the Results"
   ]
  },
  {
   "cell_type": "code",
   "execution_count": 24,
   "metadata": {
    "slideshow": {
     "slide_type": "fragment"
    }
   },
   "outputs": [],
   "source": [
    "predictions_dual = kernel_dot_product(X_train, y_train, \n",
    "                                      grid_test_x, kernel, \n",
    "                                      optimal_alpha) + b"
   ]
  },
  {
   "cell_type": "code",
   "execution_count": 25,
   "metadata": {
    "slideshow": {
     "slide_type": "fragment"
    }
   },
   "outputs": [
    {
     "data": {
      "text/plain": [
       "Text(0.5,1,'Primal')"
      ]
     },
     "execution_count": 25,
     "metadata": {},
     "output_type": "execute_result"
    },
    {
     "data": {
      "image/png": "[encoded data removed]",
      "text/plain": [
       "<matplotlib.figure.Figure at 0x1a1c5295f8>"
      ]
     },
     "metadata": {},
     "output_type": "display_data"
    }
   ],
   "source": [
    "figure, (ax1, ax2) = plt.subplots(nrows=1, ncols=2)\n",
    "figure.set_size_inches(15, 5)\n",
    "plot_prediction_on_grid(predictions_dual, ax1)\n",
    "ax1.set_title('Dual')\n",
    "plot_prediction_on_grid(predictions_primal, ax2)\n",
    "ax2.set_title('Primal')"
   ]
  },
  {
   "cell_type": "markdown",
   "metadata": {
    "slideshow": {
     "slide_type": "slide"
    }
   },
   "source": [
    "### Lets Try Gaussian Kernel\n",
    "\n",
    "![title](https://jamesmccaffrey.files.wordpress.com/2014/01/gaussiankernel.jpg)"
   ]
  },
  {
   "cell_type": "markdown",
   "metadata": {
    "slideshow": {
     "slide_type": "slide"
    }
   },
   "source": [
    "### Lets Try Gaussian Kernel\n",
    "\n",
    "$$K(x, y) = \\exp{\\left(-\\gamma \\cdot \\|x - y\\|^2\\right)}$$"
   ]
  },
  {
   "cell_type": "code",
   "execution_count": 26,
   "metadata": {},
   "outputs": [],
   "source": [
    "# Importing gaussian kernel\n",
    "from sklearn.metrics.pairwise import rbf_kernel\n",
    "# Some helper function for getting kernel function\n",
    "from functools import partial"
   ]
  },
  {
   "cell_type": "code",
   "execution_count": null,
   "metadata": {
    "slideshow": {
     "slide_type": "slide"
    }
   },
   "outputs": [],
   "source": [
    "# Fix parameter gamma\n",
    "kernel = partial(rbf_kernel, gamma=0.1)\n",
    "\n",
    "qudratic_problem = formulate_problem(X_train, y_train.astype(float), kernel, C)\n",
    "results = qp(**qudratic_problem)"
   ]
  },
  {
   "cell_type": "code",
   "execution_count": 28,
   "metadata": {
    "slideshow": {
     "slide_type": "fragment"
    }
   },
   "outputs": [],
   "source": [
    "optimal_alpha = np.array(results['x']).ravel()"
   ]
  },
  {
   "cell_type": "code",
   "execution_count": 29,
   "metadata": {
    "slideshow": {
     "slide_type": "fragment"
    }
   },
   "outputs": [],
   "source": [
    "b = calculate_bias(X_train, y_train, kernel, optimal_alpha)"
   ]
  },
  {
   "cell_type": "markdown",
   "metadata": {
    "slideshow": {
     "slide_type": "slide"
    }
   },
   "source": [
    "### Plot Predictions"
   ]
  },
  {
   "cell_type": "code",
   "execution_count": 30,
   "metadata": {
    "slideshow": {
     "slide_type": "fragment"
    }
   },
   "outputs": [],
   "source": [
    "# Calculate decision function\n",
    "predictions_dual = kernel_dot_product(X_train, y_train, \n",
    "                                     grid_test_x, kernel, \n",
    "                                     optimal_alpha) + b"
   ]
  },
  {
   "cell_type": "code",
   "execution_count": 31,
   "metadata": {
    "slideshow": {
     "slide_type": "fragment"
    }
   },
   "outputs": [
    {
     "data": {
      "image/png": "[encoded data removed]",
      "text/plain": [
       "<matplotlib.figure.Figure at 0x1a1bbf0b70>"
      ]
     },
     "metadata": {},
     "output_type": "display_data"
    }
   ],
   "source": [
    "plot_prediction_on_grid(predictions_dual, plt.gca())"
   ]
  },
  {
   "cell_type": "markdown",
   "metadata": {
    "slideshow": {
     "slide_type": "slide"
    }
   },
   "source": [
    "### Kernels\n",
    "\n",
    "We can explicetly define feature mapping. If we define function $K(x, y)$\n",
    "\n",
    "Which is:\n",
    "\n",
    "* Symmetric\n",
    "* Positevly defined\n",
    "\n",
    "\n",
    "It can be defined not only on vectors\n",
    "\n",
    "There are kernels for graphs, textes, etc."
   ]
  },
  {
   "cell_type": "markdown",
   "metadata": {
    "slideshow": {
     "slide_type": "slide"
    }
   },
   "source": [
    "### Explicit Mapping\n",
    "\n",
    "$$K(x, y) = (x^Ty + 1)^2$$\n",
    "\n",
    "In case of $x, y \\in R^2$:\n"
   ]
  },
  {
   "cell_type": "markdown",
   "metadata": {
    "slideshow": {
     "slide_type": "fragment"
    }
   },
   "source": [
    "$$K(x, y) = (x_1 \\cdot y_1 + x_2 \\cdot y_2 + 1)^2$$"
   ]
  },
  {
   "cell_type": "markdown",
   "metadata": {
    "slideshow": {
     "slide_type": "fragment"
    }
   },
   "source": [
    "$$K(x, y) = x_1^2 \\cdot y_1^2 + x^2_2 \\cdot y_2^2 + \\sqrt{2}x_1\\cdot \\sqrt{2}y_1 + \\sqrt{2}x_2 \\cdot \\sqrt{2}y_2 + \\sqrt{2}x_1x_2 \\cdot \\sqrt{2}y_1y_2 + 1 \\cdot 1$$"
   ]
  },
  {
   "cell_type": "markdown",
   "metadata": {
    "slideshow": {
     "slide_type": "fragment"
    }
   },
   "source": [
    "$$K(x, y) = \\phi(x) \\cdot \\phi(y)$$"
   ]
  },
  {
   "cell_type": "markdown",
   "metadata": {
    "slideshow": {
     "slide_type": "fragment"
    }
   },
   "source": [
    "Explicit mapping:\n",
    "$$\\phi(x) = \\phi(x_1, x_2) = (x_1^2, x_2^2, \\sqrt{2}x_1, \\sqrt{2}x_2, \\sqrt{2}x_1 x_2, 1)$$"
   ]
  },
  {
   "cell_type": "markdown",
   "metadata": {
    "slideshow": {
     "slide_type": "slide"
    }
   },
   "source": [
    "### Kernel vs. Explicit Mapping\n",
    "\n",
    "Let's try to compare kernel svm and exact mapping"
   ]
  },
  {
   "cell_type": "markdown",
   "metadata": {
    "slideshow": {
     "slide_type": "fragment"
    }
   },
   "source": [
    "Explicit mapping:\n",
    "$$\\phi(x) = \\phi(x_1, x_2) = (x_1^2, x_2^2, \\sqrt{2}x_1, \\sqrt{2}x_2, \\sqrt{2}x_1 x_2, 1)$$"
   ]
  },
  {
   "cell_type": "code",
   "execution_count": 32,
   "metadata": {
    "slideshow": {
     "slide_type": "fragment"
    }
   },
   "outputs": [],
   "source": [
    "def poly_features_extraction(X):\n",
    "    quadratic = X ** 2\n",
    "    linear = np.sqrt(2) * X\n",
    "    pairwise = np.sqrt(2) * X.prod(axis=1).reshape((-1, 1))\n",
    "    constant = np.ones((len(X), 1))\n",
    "    poly_features = np.hstack([quadratic,\n",
    "                               linear,\n",
    "                               pairwise,\n",
    "                               constant])\n",
    "    return poly_features"
   ]
  },
  {
   "cell_type": "code",
   "execution_count": 33,
   "metadata": {
    "slideshow": {
     "slide_type": "skip"
    }
   },
   "outputs": [],
   "source": [
    "# Support vector classifier import\n",
    "from sklearn.svm import SVC"
   ]
  },
  {
   "cell_type": "markdown",
   "metadata": {
    "slideshow": {
     "slide_type": "skip"
    }
   },
   "source": [
    "For more info check documentation and examples\n",
    "\n",
    "http://scikit-learn.org/stable/modules/generated/sklearn.svm.SVC.html\n",
    "\n",
    "http://scikit-learn.org/stable/modules/svm.html"
   ]
  },
  {
   "cell_type": "markdown",
   "metadata": {
    "slideshow": {
     "slide_type": "slide"
    }
   },
   "source": [
    "### Test Explicit Mapping"
   ]
  },
  {
   "cell_type": "code",
   "execution_count": 34,
   "metadata": {
    "slideshow": {
     "slide_type": "fragment"
    }
   },
   "outputs": [],
   "source": [
    "# Polynomial Kernel\n",
    "model_kernel = SVC(kernel='poly', degree=2, coef0=1)\n",
    "model_kernel.fit(X_train, y_train)\n",
    "prediction_kernel = model_kernel.decision_function(grid_test_x)"
   ]
  },
  {
   "cell_type": "code",
   "execution_count": 35,
   "metadata": {
    "slideshow": {
     "slide_type": "fragment"
    }
   },
   "outputs": [],
   "source": [
    "# Explicit mapping\n",
    "poly_features_train = poly_features_extraction(X_train)\n",
    "model_explicit = SVC(kernel='linear')\n",
    "model_explicit.fit(poly_features_train, y_train)\n",
    "\n",
    "poly_features_test = poly_features_extraction(grid_test_x)\n",
    "prediction_explicit = model_explicit.decision_function(poly_features_test)"
   ]
  },
  {
   "cell_type": "markdown",
   "metadata": {
    "slideshow": {
     "slide_type": "slide"
    }
   },
   "source": [
    "### Plot the Results"
   ]
  },
  {
   "cell_type": "code",
   "execution_count": 36,
   "metadata": {
    "slideshow": {
     "slide_type": "fragment"
    }
   },
   "outputs": [
    {
     "data": {
      "text/plain": [
       "Text(0.5,1,'Explicit Mapping')"
      ]
     },
     "execution_count": 36,
     "metadata": {},
     "output_type": "execute_result"
    },
    {
     "data": {
      "image/png": "[encoded data removed]",
      "text/plain": [
       "<matplotlib.figure.Figure at 0x1a1cf36208>"
      ]
     },
     "metadata": {},
     "output_type": "display_data"
    }
   ],
   "source": [
    "figure, (ax1, ax2) = plt.subplots(nrows=1, ncols=2)\n",
    "figure.set_size_inches((15, 5))\n",
    "plot_prediction_on_grid(prediction_kernel, ax1)\n",
    "ax1.set_title('Kernel')\n",
    "plot_prediction_on_grid(prediction_explicit, ax2)\n",
    "ax2.set_title('Explicit Mapping')"
   ]
  },
  {
   "cell_type": "markdown",
   "metadata": {
    "slideshow": {
     "slide_type": "slide"
    }
   },
   "source": [
    "### Why Kernels?\n"
   ]
  },
  {
   "cell_type": "markdown",
   "metadata": {
    "slideshow": {
     "slide_type": "fragment"
    }
   },
   "source": [
    "* Initial $x$ from $R^n$. Dimensions of feature space with polynomial kernel of degree 2?"
   ]
  },
  {
   "cell_type": "markdown",
   "metadata": {
    "slideshow": {
     "slide_type": "fragment"
    }
   },
   "source": [
    "* Dimensions grows as $n^2$"
   ]
  },
  {
   "cell_type": "markdown",
   "metadata": {
    "slideshow": {
     "slide_type": "fragment"
    }
   },
   "source": [
    "* Some kernels represent infinite dimensions space"
   ]
  },
  {
   "cell_type": "markdown",
   "metadata": {
    "slideshow": {
     "slide_type": "fragment"
    }
   },
   "source": [
    "* It's possible to define kernel for non numerical objects like graphs or texts"
   ]
  },
  {
   "cell_type": "markdown",
   "metadata": {
    "slideshow": {
     "slide_type": "slide"
    }
   },
   "source": [
    "### Linear vs. Kernel"
   ]
  },
  {
   "cell_type": "markdown",
   "metadata": {
    "slideshow": {
     "slide_type": "fragment"
    }
   },
   "source": [
    "##### Linear\n",
    "* Fast to compute\n",
    "* Robust\n",
    "* Require explicit feature extraction\n",
    "\n",
    "##### Kernel\n",
    "* Qudratic-Cubic time to compute\n",
    "* Robustness depend on kernel type\n",
    "* Suitable even for nonnumrical data"
   ]
  }
 ],
 "metadata": {
  "celltoolbar": "Slideshow",
  "kernelspec": {
   "display_name": "Python 3",
   "language": "python",
   "name": "python3"
  },
  "language_info": {
   "codemirror_mode": {
    "name": "ipython",
    "version": 3
   },
   "file_extension": ".py",
   "mimetype": "text/x-python",
   "name": "python",
   "nbconvert_exporter": "python",
   "pygments_lexer": "ipython3",
   "version": "3.6.4"
  }
 },
 "nbformat": 4,
 "nbformat_minor": 2
}
