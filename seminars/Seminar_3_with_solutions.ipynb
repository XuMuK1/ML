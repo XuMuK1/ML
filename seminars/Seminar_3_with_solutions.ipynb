{
 "cells": [
  {
   "cell_type": "markdown",
   "metadata": {},
   "source": [
    "# Measure quality of a classification model\n",
    "\n",
    "This notebook explains how to measure quality of a classification machine learning model.\n",
    "We provide definitions for various quality measures and try to find out if they are suitable or not for a particular machine learning classification problem.\n",
    "\n",
    "The data is a subsample from the kaggle comptetion \"Give me some credit\"\n",
    "https://www.kaggle.com/c/GiveMeSomeCredit#description"
   ]
  },
  {
   "cell_type": "code",
   "execution_count": 1,
   "metadata": {
    "_cell_guid": "cfdaacbc-23a3-423d-8d4d-120939ac7383",
    "collapsed": true
   },
   "outputs": [],
   "source": [
    "# Imports\n",
    "\n",
    "# data processing tools: pandas and numpy\n",
    "import numpy as np\n",
    "import pandas as pd\n",
    "\n",
    "# visualization tools: matplotlib, seaborn\n",
    "import matplotlib.pyplot as plt\n",
    "import seaborn as sns\n",
    "sns.set_style('whitegrid')\n",
    "%matplotlib inline\n",
    "\n",
    "# machine learning tools: various methods from scikit-learn\n",
    "from sklearn.tree import DecisionTreeClassifier\n",
    "\n",
    "from sklearn.neighbors import KNeighborsClassifier\n",
    "\n",
    "\n",
    "from sklearn.metrics import confusion_matrix, roc_curve, precision_recall_curve, auc\n",
    "from sklearn.metrics import f1_score, accuracy_score, average_precision_score"
   ]
  },
  {
   "cell_type": "markdown",
   "metadata": {},
   "source": [
    "# Load data"
   ]
  },
  {
   "cell_type": "code",
   "execution_count": 2,
   "metadata": {
    "_cell_guid": "3ab4c525-a5cb-4183-9468-c1dd005c4c78",
    "collapsed": true
   },
   "outputs": [],
   "source": [
    "# load the data\n",
    "training_data = pd.read_csv('data/training_data.csv')\n",
    "test_data = pd.read_csv('data/test_data.csv')"
   ]
  },
  {
   "cell_type": "markdown",
   "metadata": {},
   "source": [
    "See some technical info about data"
   ]
  },
  {
   "cell_type": "code",
   "execution_count": 3,
   "metadata": {},
   "outputs": [
    {
     "name": "stdout",
     "output_type": "stream",
     "text": [
      "<class 'pandas.core.frame.DataFrame'>\n",
      "RangeIndex: 5001 entries, 0 to 5000\n",
      "Data columns (total 11 columns):\n",
      "SeriousDlqin2yrs                        5001 non-null int64\n",
      "RevolvingUtilizationOfUnsecuredLines    5001 non-null float64\n",
      "age                                     5001 non-null int64\n",
      "NumberOfTime30-59DaysPastDueNotWorse    5001 non-null int64\n",
      "DebtRatio                               5001 non-null float64\n",
      "MonthlyIncome                           4031 non-null float64\n",
      "NumberOfOpenCreditLinesAndLoans         5001 non-null int64\n",
      "NumberOfTimes90DaysLate                 5001 non-null int64\n",
      "NumberRealEstateLoansOrLines            5001 non-null int64\n",
      "NumberOfTime60-89DaysPastDueNotWorse    5001 non-null int64\n",
      "NumberOfDependents                      4859 non-null float64\n",
      "dtypes: float64(4), int64(7)\n",
      "memory usage: 429.9 KB\n"
     ]
    }
   ],
   "source": [
    "# print information about the data\n",
    "training_data.info(verbose=True)"
   ]
  },
  {
   "cell_type": "markdown",
   "metadata": {},
   "source": [
    "Let's look at some general statistics of data:\n",
    "* **count** -- number of not `NaN` values;\n",
    "* **mean**, **std** -- mean and standard deviation;\n",
    "* other -- minimal, maximal values, quantiles."
   ]
  },
  {
   "cell_type": "code",
   "execution_count": 4,
   "metadata": {},
   "outputs": [
    {
     "data": {
      "text/html": [
       "<div>\n",
       "<style>\n",
       "    .dataframe thead tr:only-child th {\n",
       "        text-align: right;\n",
       "    }\n",
       "\n",
       "    .dataframe thead th {\n",
       "        text-align: left;\n",
       "    }\n",
       "\n",
       "    .dataframe tbody tr th {\n",
       "        vertical-align: top;\n",
       "    }\n",
       "</style>\n",
       "<table border=\"1\" class=\"dataframe\">\n",
       "  <thead>\n",
       "    <tr style=\"text-align: right;\">\n",
       "      <th></th>\n",
       "      <th>count</th>\n",
       "      <th>mean</th>\n",
       "      <th>std</th>\n",
       "      <th>min</th>\n",
       "      <th>25%</th>\n",
       "      <th>50%</th>\n",
       "      <th>75%</th>\n",
       "      <th>max</th>\n",
       "    </tr>\n",
       "  </thead>\n",
       "  <tbody>\n",
       "    <tr>\n",
       "      <th>SeriousDlqin2yrs</th>\n",
       "      <td>5001.0</td>\n",
       "      <td>0.060988</td>\n",
       "      <td>0.239332</td>\n",
       "      <td>0.0</td>\n",
       "      <td>0.000000</td>\n",
       "      <td>0.000000</td>\n",
       "      <td>0.000000</td>\n",
       "      <td>1.0</td>\n",
       "    </tr>\n",
       "    <tr>\n",
       "      <th>RevolvingUtilizationOfUnsecuredLines</th>\n",
       "      <td>5001.0</td>\n",
       "      <td>3.842957</td>\n",
       "      <td>117.415101</td>\n",
       "      <td>0.0</td>\n",
       "      <td>0.030053</td>\n",
       "      <td>0.163463</td>\n",
       "      <td>0.556134</td>\n",
       "      <td>6324.0</td>\n",
       "    </tr>\n",
       "    <tr>\n",
       "      <th>age</th>\n",
       "      <td>5001.0</td>\n",
       "      <td>52.128374</td>\n",
       "      <td>14.907257</td>\n",
       "      <td>21.0</td>\n",
       "      <td>41.000000</td>\n",
       "      <td>52.000000</td>\n",
       "      <td>63.000000</td>\n",
       "      <td>99.0</td>\n",
       "    </tr>\n",
       "    <tr>\n",
       "      <th>NumberOfTime30-59DaysPastDueNotWorse</th>\n",
       "      <td>5001.0</td>\n",
       "      <td>0.355729</td>\n",
       "      <td>3.178306</td>\n",
       "      <td>0.0</td>\n",
       "      <td>0.000000</td>\n",
       "      <td>0.000000</td>\n",
       "      <td>0.000000</td>\n",
       "      <td>98.0</td>\n",
       "    </tr>\n",
       "    <tr>\n",
       "      <th>DebtRatio</th>\n",
       "      <td>5001.0</td>\n",
       "      <td>368.032252</td>\n",
       "      <td>2593.676885</td>\n",
       "      <td>0.0</td>\n",
       "      <td>0.177007</td>\n",
       "      <td>0.365727</td>\n",
       "      <td>0.829553</td>\n",
       "      <td>168835.0</td>\n",
       "    </tr>\n",
       "    <tr>\n",
       "      <th>MonthlyIncome</th>\n",
       "      <td>4031.0</td>\n",
       "      <td>6554.690151</td>\n",
       "      <td>7058.453424</td>\n",
       "      <td>0.0</td>\n",
       "      <td>3454.500000</td>\n",
       "      <td>5333.000000</td>\n",
       "      <td>8167.500000</td>\n",
       "      <td>208333.0</td>\n",
       "    </tr>\n",
       "    <tr>\n",
       "      <th>NumberOfOpenCreditLinesAndLoans</th>\n",
       "      <td>5001.0</td>\n",
       "      <td>8.383323</td>\n",
       "      <td>5.111950</td>\n",
       "      <td>0.0</td>\n",
       "      <td>5.000000</td>\n",
       "      <td>8.000000</td>\n",
       "      <td>11.000000</td>\n",
       "      <td>46.0</td>\n",
       "    </tr>\n",
       "    <tr>\n",
       "      <th>NumberOfTimes90DaysLate</th>\n",
       "      <td>5001.0</td>\n",
       "      <td>0.194361</td>\n",
       "      <td>3.132956</td>\n",
       "      <td>0.0</td>\n",
       "      <td>0.000000</td>\n",
       "      <td>0.000000</td>\n",
       "      <td>0.000000</td>\n",
       "      <td>98.0</td>\n",
       "    </tr>\n",
       "    <tr>\n",
       "      <th>NumberRealEstateLoansOrLines</th>\n",
       "      <td>5001.0</td>\n",
       "      <td>1.022795</td>\n",
       "      <td>1.107556</td>\n",
       "      <td>0.0</td>\n",
       "      <td>0.000000</td>\n",
       "      <td>1.000000</td>\n",
       "      <td>2.000000</td>\n",
       "      <td>17.0</td>\n",
       "    </tr>\n",
       "    <tr>\n",
       "      <th>NumberOfTime60-89DaysPastDueNotWorse</th>\n",
       "      <td>5001.0</td>\n",
       "      <td>0.165167</td>\n",
       "      <td>3.111899</td>\n",
       "      <td>0.0</td>\n",
       "      <td>0.000000</td>\n",
       "      <td>0.000000</td>\n",
       "      <td>0.000000</td>\n",
       "      <td>98.0</td>\n",
       "    </tr>\n",
       "    <tr>\n",
       "      <th>NumberOfDependents</th>\n",
       "      <td>4859.0</td>\n",
       "      <td>0.742745</td>\n",
       "      <td>1.103014</td>\n",
       "      <td>0.0</td>\n",
       "      <td>0.000000</td>\n",
       "      <td>0.000000</td>\n",
       "      <td>1.000000</td>\n",
       "      <td>8.0</td>\n",
       "    </tr>\n",
       "  </tbody>\n",
       "</table>\n",
       "</div>"
      ],
      "text/plain": [
       "                                       count         mean          std   min  \\\n",
       "SeriousDlqin2yrs                      5001.0     0.060988     0.239332   0.0   \n",
       "RevolvingUtilizationOfUnsecuredLines  5001.0     3.842957   117.415101   0.0   \n",
       "age                                   5001.0    52.128374    14.907257  21.0   \n",
       "NumberOfTime30-59DaysPastDueNotWorse  5001.0     0.355729     3.178306   0.0   \n",
       "DebtRatio                             5001.0   368.032252  2593.676885   0.0   \n",
       "MonthlyIncome                         4031.0  6554.690151  7058.453424   0.0   \n",
       "NumberOfOpenCreditLinesAndLoans       5001.0     8.383323     5.111950   0.0   \n",
       "NumberOfTimes90DaysLate               5001.0     0.194361     3.132956   0.0   \n",
       "NumberRealEstateLoansOrLines          5001.0     1.022795     1.107556   0.0   \n",
       "NumberOfTime60-89DaysPastDueNotWorse  5001.0     0.165167     3.111899   0.0   \n",
       "NumberOfDependents                    4859.0     0.742745     1.103014   0.0   \n",
       "\n",
       "                                              25%          50%          75%  \\\n",
       "SeriousDlqin2yrs                         0.000000     0.000000     0.000000   \n",
       "RevolvingUtilizationOfUnsecuredLines     0.030053     0.163463     0.556134   \n",
       "age                                     41.000000    52.000000    63.000000   \n",
       "NumberOfTime30-59DaysPastDueNotWorse     0.000000     0.000000     0.000000   \n",
       "DebtRatio                                0.177007     0.365727     0.829553   \n",
       "MonthlyIncome                         3454.500000  5333.000000  8167.500000   \n",
       "NumberOfOpenCreditLinesAndLoans          5.000000     8.000000    11.000000   \n",
       "NumberOfTimes90DaysLate                  0.000000     0.000000     0.000000   \n",
       "NumberRealEstateLoansOrLines             0.000000     1.000000     2.000000   \n",
       "NumberOfTime60-89DaysPastDueNotWorse     0.000000     0.000000     0.000000   \n",
       "NumberOfDependents                       0.000000     0.000000     1.000000   \n",
       "\n",
       "                                           max  \n",
       "SeriousDlqin2yrs                           1.0  \n",
       "RevolvingUtilizationOfUnsecuredLines    6324.0  \n",
       "age                                       99.0  \n",
       "NumberOfTime30-59DaysPastDueNotWorse      98.0  \n",
       "DebtRatio                             168835.0  \n",
       "MonthlyIncome                         208333.0  \n",
       "NumberOfOpenCreditLinesAndLoans           46.0  \n",
       "NumberOfTimes90DaysLate                   98.0  \n",
       "NumberRealEstateLoansOrLines              17.0  \n",
       "NumberOfTime60-89DaysPastDueNotWorse      98.0  \n",
       "NumberOfDependents                         8.0  "
      ]
     },
     "execution_count": 4,
     "metadata": {},
     "output_type": "execute_result"
    }
   ],
   "source": [
    "training_data.describe().T"
   ]
  },
  {
   "cell_type": "markdown",
   "metadata": {},
   "source": [
    "Choose randomly ten objects from dataset:"
   ]
  },
  {
   "cell_type": "code",
   "execution_count": 5,
   "metadata": {},
   "outputs": [
    {
     "data": {
      "text/html": [
       "<div>\n",
       "<style>\n",
       "    .dataframe thead tr:only-child th {\n",
       "        text-align: right;\n",
       "    }\n",
       "\n",
       "    .dataframe thead th {\n",
       "        text-align: left;\n",
       "    }\n",
       "\n",
       "    .dataframe tbody tr th {\n",
       "        vertical-align: top;\n",
       "    }\n",
       "</style>\n",
       "<table border=\"1\" class=\"dataframe\">\n",
       "  <thead>\n",
       "    <tr style=\"text-align: right;\">\n",
       "      <th></th>\n",
       "      <th>SeriousDlqin2yrs</th>\n",
       "      <th>RevolvingUtilizationOfUnsecuredLines</th>\n",
       "      <th>age</th>\n",
       "      <th>NumberOfTime30-59DaysPastDueNotWorse</th>\n",
       "      <th>DebtRatio</th>\n",
       "      <th>MonthlyIncome</th>\n",
       "      <th>NumberOfOpenCreditLinesAndLoans</th>\n",
       "      <th>NumberOfTimes90DaysLate</th>\n",
       "      <th>NumberRealEstateLoansOrLines</th>\n",
       "      <th>NumberOfTime60-89DaysPastDueNotWorse</th>\n",
       "      <th>NumberOfDependents</th>\n",
       "    </tr>\n",
       "  </thead>\n",
       "  <tbody>\n",
       "    <tr>\n",
       "      <th>2648</th>\n",
       "      <td>0</td>\n",
       "      <td>0.000000</td>\n",
       "      <td>57</td>\n",
       "      <td>0</td>\n",
       "      <td>0.000000</td>\n",
       "      <td>8500.0</td>\n",
       "      <td>3</td>\n",
       "      <td>0</td>\n",
       "      <td>0</td>\n",
       "      <td>0</td>\n",
       "      <td>3.0</td>\n",
       "    </tr>\n",
       "    <tr>\n",
       "      <th>2456</th>\n",
       "      <td>0</td>\n",
       "      <td>0.265081</td>\n",
       "      <td>32</td>\n",
       "      <td>0</td>\n",
       "      <td>0.207063</td>\n",
       "      <td>6200.0</td>\n",
       "      <td>6</td>\n",
       "      <td>0</td>\n",
       "      <td>0</td>\n",
       "      <td>0</td>\n",
       "      <td>3.0</td>\n",
       "    </tr>\n",
       "    <tr>\n",
       "      <th>4558</th>\n",
       "      <td>0</td>\n",
       "      <td>0.067098</td>\n",
       "      <td>34</td>\n",
       "      <td>0</td>\n",
       "      <td>0.280673</td>\n",
       "      <td>8500.0</td>\n",
       "      <td>7</td>\n",
       "      <td>0</td>\n",
       "      <td>2</td>\n",
       "      <td>0</td>\n",
       "      <td>2.0</td>\n",
       "    </tr>\n",
       "    <tr>\n",
       "      <th>4885</th>\n",
       "      <td>0</td>\n",
       "      <td>1.123876</td>\n",
       "      <td>26</td>\n",
       "      <td>1</td>\n",
       "      <td>0.356159</td>\n",
       "      <td>2540.0</td>\n",
       "      <td>5</td>\n",
       "      <td>3</td>\n",
       "      <td>0</td>\n",
       "      <td>3</td>\n",
       "      <td>2.0</td>\n",
       "    </tr>\n",
       "    <tr>\n",
       "      <th>92</th>\n",
       "      <td>0</td>\n",
       "      <td>0.784836</td>\n",
       "      <td>52</td>\n",
       "      <td>0</td>\n",
       "      <td>2662.000000</td>\n",
       "      <td>NaN</td>\n",
       "      <td>10</td>\n",
       "      <td>0</td>\n",
       "      <td>2</td>\n",
       "      <td>1</td>\n",
       "      <td>0.0</td>\n",
       "    </tr>\n",
       "    <tr>\n",
       "      <th>3602</th>\n",
       "      <td>0</td>\n",
       "      <td>0.004000</td>\n",
       "      <td>70</td>\n",
       "      <td>0</td>\n",
       "      <td>0.169479</td>\n",
       "      <td>8000.0</td>\n",
       "      <td>8</td>\n",
       "      <td>0</td>\n",
       "      <td>1</td>\n",
       "      <td>0</td>\n",
       "      <td>1.0</td>\n",
       "    </tr>\n",
       "    <tr>\n",
       "      <th>30</th>\n",
       "      <td>0</td>\n",
       "      <td>0.704074</td>\n",
       "      <td>28</td>\n",
       "      <td>1</td>\n",
       "      <td>0.155201</td>\n",
       "      <td>4200.0</td>\n",
       "      <td>8</td>\n",
       "      <td>0</td>\n",
       "      <td>0</td>\n",
       "      <td>0</td>\n",
       "      <td>0.0</td>\n",
       "    </tr>\n",
       "    <tr>\n",
       "      <th>1746</th>\n",
       "      <td>0</td>\n",
       "      <td>0.142398</td>\n",
       "      <td>57</td>\n",
       "      <td>0</td>\n",
       "      <td>0.264080</td>\n",
       "      <td>4225.0</td>\n",
       "      <td>6</td>\n",
       "      <td>0</td>\n",
       "      <td>1</td>\n",
       "      <td>0</td>\n",
       "      <td>0.0</td>\n",
       "    </tr>\n",
       "    <tr>\n",
       "      <th>1692</th>\n",
       "      <td>0</td>\n",
       "      <td>0.016862</td>\n",
       "      <td>48</td>\n",
       "      <td>0</td>\n",
       "      <td>0.425822</td>\n",
       "      <td>12260.0</td>\n",
       "      <td>12</td>\n",
       "      <td>0</td>\n",
       "      <td>5</td>\n",
       "      <td>0</td>\n",
       "      <td>4.0</td>\n",
       "    </tr>\n",
       "    <tr>\n",
       "      <th>2277</th>\n",
       "      <td>1</td>\n",
       "      <td>0.935497</td>\n",
       "      <td>55</td>\n",
       "      <td>0</td>\n",
       "      <td>0.450293</td>\n",
       "      <td>6477.0</td>\n",
       "      <td>10</td>\n",
       "      <td>0</td>\n",
       "      <td>2</td>\n",
       "      <td>0</td>\n",
       "      <td>0.0</td>\n",
       "    </tr>\n",
       "  </tbody>\n",
       "</table>\n",
       "</div>"
      ],
      "text/plain": [
       "      SeriousDlqin2yrs  RevolvingUtilizationOfUnsecuredLines  age  \\\n",
       "2648                 0                              0.000000   57   \n",
       "2456                 0                              0.265081   32   \n",
       "4558                 0                              0.067098   34   \n",
       "4885                 0                              1.123876   26   \n",
       "92                   0                              0.784836   52   \n",
       "3602                 0                              0.004000   70   \n",
       "30                   0                              0.704074   28   \n",
       "1746                 0                              0.142398   57   \n",
       "1692                 0                              0.016862   48   \n",
       "2277                 1                              0.935497   55   \n",
       "\n",
       "      NumberOfTime30-59DaysPastDueNotWorse    DebtRatio  MonthlyIncome  \\\n",
       "2648                                     0     0.000000         8500.0   \n",
       "2456                                     0     0.207063         6200.0   \n",
       "4558                                     0     0.280673         8500.0   \n",
       "4885                                     1     0.356159         2540.0   \n",
       "92                                       0  2662.000000            NaN   \n",
       "3602                                     0     0.169479         8000.0   \n",
       "30                                       1     0.155201         4200.0   \n",
       "1746                                     0     0.264080         4225.0   \n",
       "1692                                     0     0.425822        12260.0   \n",
       "2277                                     0     0.450293         6477.0   \n",
       "\n",
       "      NumberOfOpenCreditLinesAndLoans  NumberOfTimes90DaysLate  \\\n",
       "2648                                3                        0   \n",
       "2456                                6                        0   \n",
       "4558                                7                        0   \n",
       "4885                                5                        3   \n",
       "92                                 10                        0   \n",
       "3602                                8                        0   \n",
       "30                                  8                        0   \n",
       "1746                                6                        0   \n",
       "1692                               12                        0   \n",
       "2277                               10                        0   \n",
       "\n",
       "      NumberRealEstateLoansOrLines  NumberOfTime60-89DaysPastDueNotWorse  \\\n",
       "2648                             0                                     0   \n",
       "2456                             0                                     0   \n",
       "4558                             2                                     0   \n",
       "4885                             0                                     3   \n",
       "92                               2                                     1   \n",
       "3602                             1                                     0   \n",
       "30                               0                                     0   \n",
       "1746                             1                                     0   \n",
       "1692                             5                                     0   \n",
       "2277                             2                                     0   \n",
       "\n",
       "      NumberOfDependents  \n",
       "2648                 3.0  \n",
       "2456                 3.0  \n",
       "4558                 2.0  \n",
       "4885                 2.0  \n",
       "92                   0.0  \n",
       "3602                 1.0  \n",
       "30                   0.0  \n",
       "1746                 0.0  \n",
       "1692                 4.0  \n",
       "2277                 0.0  "
      ]
     },
     "execution_count": 5,
     "metadata": {},
     "output_type": "execute_result"
    }
   ],
   "source": [
    "training_data.sample(10, random_state=123)"
   ]
  },
  {
   "cell_type": "markdown",
   "metadata": {},
   "source": [
    "We see that there are `NaN`s in data. Let's calculate mean values of features on **training data** and fill them in instead of the missing values. We will do that both for **train** and **test**.\n",
    "\n",
    "There are several ways to fill in skipped data:\n",
    "* mean, median;\n",
    "* regression predictions;\n",
    "* in case of time series -- last known value,\n",
    "* linear interpolation, etc.\n",
    "\n",
    "If the number of skipped values is small, you can throw the corresponding objects away."
   ]
  },
  {
   "cell_type": "code",
   "execution_count": 6,
   "metadata": {},
   "outputs": [
    {
     "name": "stdout",
     "output_type": "stream",
     "text": [
      "SeriousDlqin2yrs                        0\n",
      "RevolvingUtilizationOfUnsecuredLines    0\n",
      "age                                     0\n",
      "NumberOfTime30-59DaysPastDueNotWorse    0\n",
      "DebtRatio                               0\n",
      "MonthlyIncome                           0\n",
      "NumberOfOpenCreditLinesAndLoans         0\n",
      "NumberOfTimes90DaysLate                 0\n",
      "NumberRealEstateLoansOrLines            0\n",
      "NumberOfTime60-89DaysPastDueNotWorse    0\n",
      "NumberOfDependents                      0\n",
      "dtype: int64\n",
      "SeriousDlqin2yrs                        0\n",
      "RevolvingUtilizationOfUnsecuredLines    0\n",
      "age                                     0\n",
      "NumberOfTime30-59DaysPastDueNotWorse    0\n",
      "DebtRatio                               0\n",
      "MonthlyIncome                           0\n",
      "NumberOfOpenCreditLinesAndLoans         0\n",
      "NumberOfTimes90DaysLate                 0\n",
      "NumberRealEstateLoansOrLines            0\n",
      "NumberOfTime60-89DaysPastDueNotWorse    0\n",
      "NumberOfDependents                      0\n",
      "dtype: int64\n"
     ]
    }
   ],
   "source": [
    "# fill NA values with mean training values\n",
    "train_mean = training_data.mean()\n",
    "\n",
    "training_data.fillna(train_mean, inplace=True)\n",
    "test_data.fillna(train_mean, inplace=True)\n",
    "\n",
    "print(training_data.isnull().sum())\n",
    "print(test_data.isnull().sum())"
   ]
  },
  {
   "cell_type": "markdown",
   "metadata": {},
   "source": [
    "Compare train and test distributions"
   ]
  },
  {
   "cell_type": "code",
   "execution_count": 7,
   "metadata": {},
   "outputs": [
    {
     "data": {
      "image/png": "[encoded data removed]",
      "text/plain": [
       "<matplotlib.figure.Figure at 0x1129dae48>"
      ]
     },
     "metadata": {},
     "output_type": "display_data"
    }
   ],
   "source": [
    "plots = training_data.hist(figsize=(16, 9), bins=25, alpha=0.75) # that will plot training data histograms\n",
    "\n",
    "for plot in plots.flat: # that will draw test data on top of training histograms\n",
    "    column = plot.title.get_text()\n",
    "    if column:\n",
    "        test_data[column].hist(ax=plot, bins=25, alpha=0.55)"
   ]
  },
  {
   "cell_type": "markdown",
   "metadata": {},
   "source": [
    "Pay attention to **SeriousDlqin2yrs** -- 90 days past due delinquency or worse in the last 2 years. We see that most of the borrowers pay in time."
   ]
  },
  {
   "cell_type": "code",
   "execution_count": 8,
   "metadata": {},
   "outputs": [
    {
     "data": {
      "text/plain": [
       "0    4696\n",
       "1     305\n",
       "Name: SeriousDlqin2yrs, dtype: int64"
      ]
     },
     "execution_count": 8,
     "metadata": {},
     "output_type": "execute_result"
    }
   ],
   "source": [
    "# The data set is imbalanced: typically people return credits\n",
    "training_data[\"SeriousDlqin2yrs\"].value_counts()"
   ]
  },
  {
   "cell_type": "markdown",
   "metadata": {},
   "source": [
    "# Classification algorithms"
   ]
  },
  {
   "cell_type": "markdown",
   "metadata": {},
   "source": [
    "First of all, load data for learning as pairs $(X, y)$, where $X = (x_i)_{i=1}^n$ -- input features,\n",
    "and $y=(y_i)_{i=1}^n$ corresponding labels."
   ]
  },
  {
   "cell_type": "code",
   "execution_count": 9,
   "metadata": {
    "collapsed": true
   },
   "outputs": [],
   "source": [
    "training_X = training_data.drop(\"SeriousDlqin2yrs\", axis=1)\n",
    "training_y = training_data[\"SeriousDlqin2yrs\"]\n",
    "\n",
    "test_X = test_data.drop(\"SeriousDlqin2yrs\", axis=1)\n",
    "test_y = test_data[\"SeriousDlqin2yrs\"]"
   ]
  },
  {
   "cell_type": "markdown",
   "metadata": {},
   "source": [
    "Construct calssification algorithms and train them."
   ]
  },
  {
   "cell_type": "code",
   "execution_count": 10,
   "metadata": {},
   "outputs": [
    {
     "data": {
      "text/plain": [
       "DecisionTreeClassifier(class_weight=None, criterion='gini', max_depth=None,\n",
       "            max_features=None, max_leaf_nodes=None,\n",
       "            min_impurity_decrease=0.0, min_impurity_split=None,\n",
       "            min_samples_leaf=1, min_samples_split=2,\n",
       "            min_weight_fraction_leaf=0.0, presort=False, random_state=None,\n",
       "            splitter='best')"
      ]
     },
     "execution_count": 10,
     "metadata": {},
     "output_type": "execute_result"
    }
   ],
   "source": [
    "# Construct Decision Tree model\n",
    "\n",
    "decision_tree = DecisionTreeClassifier()\n",
    "decision_tree.fit(training_X, training_y)"
   ]
  },
  {
   "cell_type": "code",
   "execution_count": 11,
   "metadata": {},
   "outputs": [
    {
     "data": {
      "text/plain": [
       "KNeighborsClassifier(algorithm='auto', leaf_size=30, metric='minkowski',\n",
       "           metric_params=None, n_jobs=1, n_neighbors=5, p=2,\n",
       "           weights='uniform')"
      ]
     },
     "execution_count": 11,
     "metadata": {},
     "output_type": "execute_result"
    }
   ],
   "source": [
    "# Construct k Nearest Neighbors model\n",
    "\n",
    "knn = KNeighborsClassifier()\n",
    "knn.fit(training_X, training_y)"
   ]
  },
  {
   "cell_type": "code",
   "execution_count": 12,
   "metadata": {},
   "outputs": [
    {
     "name": "stdout",
     "output_type": "stream",
     "text": [
      "Training accuracy:\n",
      "\tDT accuracy:\t100.00%\n",
      "\tkNN accuracy:\t94.10%\n",
      "\tNumber of '0' labels:\t93.90%\n",
      "\n",
      "Test accuracy:\n",
      "\tDT accuarcy:\t89.84%\n",
      "\tkNN accuarcy:\t93.08%\n",
      "\tNumber of '0' labels:\t93.30%\n"
     ]
    }
   ],
   "source": [
    "print(\"Training accuracy:\")\n",
    "print(\"\\tDT accuracy:\\t%.2f%%\" % (100 * decision_tree.score(training_X, training_y)))\n",
    "print(\"\\tkNN accuracy:\\t%.2f%%\" % (100 * knn.score(training_X, training_y)))\n",
    "print(\"\\tNumber of '0' labels:\\t%.2f%%\" % (100 - 100 * np.mean(training_y)))\n",
    "print()\n",
    "\n",
    "print(\"Test accuracy:\")\n",
    "print(\"\\tDT accuarcy:\\t%.2f%%\" % (100 * decision_tree.score(test_X, test_y)))\n",
    "print(\"\\tkNN accuarcy:\\t%.2f%%\" % (100 * knn.score(test_X, test_y)))\n",
    "print(\"\\tNumber of '0' labels:\\t%.2f%%\" % (100 - 100 * np.mean(test_y)))"
   ]
  },
  {
   "cell_type": "code",
   "execution_count": 13,
   "metadata": {
    "collapsed": true
   },
   "outputs": [],
   "source": [
    "test_predictions_dt = decision_tree.predict(test_X)\n",
    "test_probabilities_dt = decision_tree.predict_proba(test_X)[:, 1]\n",
    "\n",
    "training_predictions_dt = decision_tree.predict(training_X)\n",
    "training_probabilities_dt = decision_tree.predict_proba(training_X)[:, 1]"
   ]
  },
  {
   "cell_type": "code",
   "execution_count": 14,
   "metadata": {
    "collapsed": true
   },
   "outputs": [],
   "source": [
    "test_predictions_knn = knn.predict(test_X)\n",
    "test_probabilities_knn = knn.predict_proba(test_X)[:, 1]\n",
    "\n",
    "training_predictions_knn = knn.predict(training_X)\n",
    "training_probabilities_knn = knn.predict_proba(training_X)[:, 1]"
   ]
  },
  {
   "cell_type": "markdown",
   "metadata": {
    "_cell_guid": "26dd2732-b34f-4177-8786-8794537494e1"
   },
   "source": [
    "# Classification quality measures"
   ]
  },
  {
   "cell_type": "markdown",
   "metadata": {},
   "source": [
    "## Confusion matrix\n",
    "\n",
    "Confusion matrix is table layout that allows visualization of the performance of an algorithm. Rows of this matrix correspond to actual classes of the test set, columns correspond to predicted labels. There are 4 types of elements if predictions are given:\n",
    "* True Positive\n",
    "* False Negative\n",
    "* False Positive\n",
    "* True Negative\n",
    "\n",
    "| Variable | Predicted True | Predicted False |\n",
    "| ------------- |-------------|-----|\n",
    "| Actual True  | TP | FN | \n",
    "| Actual False | FP | TN |\n"
   ]
  },
  {
   "cell_type": "code",
   "execution_count": 15,
   "metadata": {},
   "outputs": [
    {
     "name": "stdout",
     "output_type": "stream",
     "text": [
      "Confusion for Decision Tree:\n",
      "      0    1\n",
      "0  4411  255\n",
      "1   253   82\n",
      "Confusion for kNN:\n",
      "      0   1\n",
      "0  4651  15\n",
      "1   331   4\n"
     ]
    }
   ],
   "source": [
    "confusion_dt = pd.DataFrame(confusion_matrix(test_y, test_predictions_dt))\n",
    "\n",
    "confusion_knn = pd.DataFrame(confusion_matrix(test_y, test_predictions_knn))\n",
    "\n",
    "print('Confusion for Decision Tree:')\n",
    "print(confusion_dt)\n",
    "print('Confusion for kNN:')\n",
    "print(confusion_knn)"
   ]
  },
  {
   "cell_type": "markdown",
   "metadata": {},
   "source": [
    "If we want to compare metrics on different data, we can use instead True Positive Rate and False Positive Rate:\n",
    "* False Positive Rate is $\\frac{FP}{FP + TN}$\n",
    "* True  Positive Rate is $\\frac{TP}{TP + FN}$"
   ]
  },
  {
   "cell_type": "markdown",
   "metadata": {},
   "source": [
    "## ROC curve"
   ]
  },
  {
   "cell_type": "markdown",
   "metadata": {},
   "source": [
    "ROC stands for *Receiver Operating Characteristic*. This curve shows True Positive Rate (**TPR**) against False Positive Rate (**FPR**) as classifier's discrimination threshold is varied\n",
    "\n",
    "Remember that classifiers are usually constructed based on some function\n",
    "$f(x) \\in [0, 1]$ and threshold $\\tau$:\n",
    "$$ \\text{Classifier}\\bigl(\\text{object}\\bigr)\n",
    "    = \\begin{cases}\n",
    "    1 & \\text{if}\\, f(\\text{object}) \\geq \\tau\\,,\\\\\n",
    "    0 & \\text{else}\\,.\n",
    "    \\end{cases}\n",
    "    $$\n",
    "    \n",
    "**roc_curve** function from *scikit-learn* allows to easily obtain ROC curve points and **threshold** values."
   ]
  },
  {
   "cell_type": "code",
   "execution_count": 16,
   "metadata": {
    "collapsed": true
   },
   "outputs": [],
   "source": [
    "false_positive_rates_dt, true_positive_rates_dt, threshold_dt = roc_curve(test_y, test_probabilities_dt)\n",
    "\n",
    "false_positive_rates_knn, true_positive_rates_knn, threshold_knn = roc_curve(test_y, test_probabilities_knn)"
   ]
  },
  {
   "cell_type": "code",
   "execution_count": 17,
   "metadata": {},
   "outputs": [
    {
     "data": {
      "image/png": "[encoded data removed]",
      "text/plain": [
       "<matplotlib.figure.Figure at 0x1169605c0>"
      ]
     },
     "metadata": {},
     "output_type": "display_data"
    }
   ],
   "source": [
    "# create plot\n",
    "fig = plt.figure(figsize=(14, 7))\n",
    "\n",
    "# specify parameters for the first curve\n",
    "plot_1 = fig.add_subplot(121,\n",
    "                       xlabel=\"FPR\", xlim=(-.01, 1.01),\n",
    "                       ylabel=\"TPR\", ylim=(-.01, 1.01), title = 'Decision Tree')\n",
    "\n",
    "# draw the first curve\n",
    "plot_1.plot(false_positive_rates_dt, true_positive_rates_dt,\n",
    "          color='darkorange', lw=2, label = 'ROC-curve on test')\n",
    "plot_1.plot([0, 1], [0, 1], color='navy', lw=2, linestyle=':')\n",
    "plt.legend(loc=\"lower right\")\n",
    "\n",
    "# specify parameters for the second curve\n",
    "plot_2 = fig.add_subplot(122,\n",
    "                       xlabel=\"FPR\", xlim=(-.01, 1.01),\n",
    "                       ylabel=\"TPR\", ylim=(-.01, 1.01), title = 'k Nearest Neighbors')\n",
    "\n",
    "# draw the second curve\n",
    "plot_2.plot(false_positive_rates_knn, true_positive_rates_knn,\n",
    "          color='darkorange', lw=2, label = 'ROC-curve on test')\n",
    "plot_2.plot([0, 1], [0, 1], color='navy', lw=2, linestyle=':')\n",
    "plt.legend(loc=\"lower right\")\n",
    "\n",
    "plt.show()"
   ]
  },
  {
   "cell_type": "markdown",
   "metadata": {},
   "source": [
    "The closer **ROC** curve to the **upper left** corner, the better classification is.\n",
    "\n",
    "Despite being a good visual representation we usually need a number to make conclusions about calssification quality. In case of ROC curve this number is Area Under the Curve (**ROC-AUC**). \n",
    "\n",
    "*scikit-learn* has a special function **auc(...)**:"
   ]
  },
  {
   "cell_type": "code",
   "execution_count": 18,
   "metadata": {},
   "outputs": [
    {
     "name": "stdout",
     "output_type": "stream",
     "text": [
      "DT ROC-AUC on test data: 0.595062727511\n",
      "kNN ROC-AUC on test data: 0.510502779715\n"
     ]
    }
   ],
   "source": [
    "roc_auc_dt = auc(false_positive_rates_dt, true_positive_rates_dt)\n",
    "roc_auc_knn = auc(false_positive_rates_knn, true_positive_rates_knn)\n",
    "\n",
    "print(\"DT ROC-AUC on test data:\", roc_auc_dt) \n",
    "print(\"kNN ROC-AUC on test data:\", roc_auc_knn) "
   ]
  },
  {
   "cell_type": "markdown",
   "metadata": {},
   "source": [
    "**ROC-AUC** scale:\n",
    "* $0.90$ -- $1.00$ perfect;\n",
    "* $0.80$ -- $0.90$ good;\n",
    "* $0.70$ -- $0.80$ satisfactory;\n",
    "* $0.60$ -- $0.70$ bad;\n",
    "* $0.50$ -- $0.60$ very bad;\n",
    "* $0.00$ -- $0.50$ classifier confuses labels."
   ]
  },
  {
   "cell_type": "markdown",
   "metadata": {},
   "source": [
    "For the trainibng set ROC curve and ROC-AUC look much better."
   ]
  },
  {
   "cell_type": "code",
   "execution_count": 19,
   "metadata": {},
   "outputs": [
    {
     "name": "stdout",
     "output_type": "stream",
     "text": [
      "DT ROC-AUC on training data: 1.0\n",
      "kNN ROC-AUC on training data: 0.909384687352\n"
     ]
    }
   ],
   "source": [
    "training_false_positive_rates_dt, training_true_positive_rates_dt, _ = roc_curve(training_y, training_probabilities_dt)\n",
    "training_false_positive_rates_knn, training_true_positive_rates_knn, _ = roc_curve(training_y, training_probabilities_knn)\n",
    "\n",
    "training_roc_auc_dt = auc(training_false_positive_rates_dt, training_true_positive_rates_dt)\n",
    "training_roc_auc_knn = auc(training_false_positive_rates_knn, training_true_positive_rates_knn)\n",
    "\n",
    "print(\"DT ROC-AUC on training data:\", training_roc_auc_dt) \n",
    "print(\"kNN ROC-AUC on training data:\", training_roc_auc_knn) "
   ]
  },
  {
   "cell_type": "code",
   "execution_count": 20,
   "metadata": {},
   "outputs": [
    {
     "data": {
      "image/png": "[encoded data removed]",
      "text/plain": [
       "<matplotlib.figure.Figure at 0x116bae5f8>"
      ]
     },
     "metadata": {},
     "output_type": "display_data"
    }
   ],
   "source": [
    "fig = plt.figure(figsize=(14, 7))\n",
    "\n",
    "plot_1 = fig.add_subplot(121,\n",
    "                       xlabel=\"FPR\", xlim=(-.01, 1.01),\n",
    "                       ylabel=\"TPR\", ylim=(-.01, 1.01), title = 'Decision Tree')\n",
    "\n",
    "# draw the first curve\n",
    "plot_1.plot(training_false_positive_rates_dt, training_true_positive_rates_dt,\n",
    "          color='darkgreen', lw=2, label = 'ROC-curve on train (AUC = %0.2f)' % training_roc_auc_dt)\n",
    "plot_1.plot(false_positive_rates_dt, true_positive_rates_dt,\n",
    "          color='darkorange', lw=2, label = 'ROC-curve on test (AUC = %0.2f)' % roc_auc_dt)\n",
    "plot_1.plot([0, 1], [0, 1], color='navy', lw=2, linestyle=':')\n",
    "plt.legend(loc=\"lower right\")\n",
    "\n",
    "# specify parameters for the second curve\n",
    "plot_2 = fig.add_subplot(122,\n",
    "                       xlabel=\"FPR\", xlim=(-.01, 1.01),\n",
    "                       ylabel=\"TPR\", ylim=(-.01, 1.01), title = 'k Nearest Neighbors')\n",
    "\n",
    "# draw the second curve\n",
    "plot_2.plot(training_false_positive_rates_knn, training_true_positive_rates_knn,\n",
    "          color='darkgreen', lw=2, label = 'ROC-curve on train (AUC = %0.2f)' % training_roc_auc_knn)\n",
    "plot_2.plot(false_positive_rates_knn, true_positive_rates_knn,\n",
    "          color='darkorange', lw=2, label = 'ROC-curve on test (AUC = %0.2f)' % roc_auc_knn)\n",
    "plot_2.plot([0, 1], [0, 1], color='navy', lw=2, linestyle=':')\n",
    "plt.legend(loc=\"lower right\")\n",
    "\n",
    "plt.show()"
   ]
  },
  {
   "cell_type": "markdown",
   "metadata": {},
   "source": [
    "## Precision and Recall\n",
    "\n",
    "Precision and Recall are two other measures for evaluation of classification quality. Both of the metrics are calculated based on **confusion matrix**.\n",
    "\n",
    "<img src=\"figures/precision_recall.png\">\n",
    "\n",
    "Note that Recall equals to True Positive Rate."
   ]
  },
  {
   "cell_type": "markdown",
   "metadata": {},
   "source": [
    "Although \"accuracy\" and \"precision\" have very similar meanings, they are completely different metrics. Look how Precision and Recall are evaluated for k Nearest Neighbors classifier:"
   ]
  },
  {
   "cell_type": "code",
   "execution_count": 21,
   "metadata": {
    "collapsed": true
   },
   "outputs": [],
   "source": [
    "confusion = confusion_matrix(test_y, test_predictions_knn)"
   ]
  },
  {
   "cell_type": "code",
   "execution_count": 22,
   "metadata": {
    "collapsed": true
   },
   "outputs": [],
   "source": [
    "TN, FP = confusion[0, 0], confusion[0, 1]\n",
    "\n",
    "FN, TP = confusion[1, 0], confusion[1, 1]"
   ]
  },
  {
   "cell_type": "markdown",
   "metadata": {},
   "source": [
    "**Recall** of a classifier is equal to True Positive Rate **TPR** ($\\frac{TP}{TP + FN}$). This value may be interpreted as a sensitivity of a classifier to the objects with label `1`. If it is close to $100\\%$, then a classifier rarely \"miss\" the object of class `1`."
   ]
  },
  {
   "cell_type": "code",
   "execution_count": 23,
   "metadata": {},
   "outputs": [
    {
     "name": "stdout",
     "output_type": "stream",
     "text": [
      "Recall: 1.19%\n"
     ]
    }
   ],
   "source": [
    "recall = TP / (TP + FN)\n",
    "\n",
    "print(\"Recall: %.2f%%\" % (100 * recall))"
   ]
  },
  {
   "cell_type": "markdown",
   "metadata": {},
   "source": [
    "**Precision** -- is a fraction $\\frac{TP}{TP + FP}$. If this value is large, then a classifier assigns label `1` to objects with actual label `0` rarely.\n",
    "\n",
    "See how it is different to Accuracy = $\\frac{TP + TN}{TP + TN + FP + FN}$"
   ]
  },
  {
   "cell_type": "code",
   "execution_count": 24,
   "metadata": {},
   "outputs": [
    {
     "name": "stdout",
     "output_type": "stream",
     "text": [
      "Precision: 21.05%\n"
     ]
    }
   ],
   "source": [
    "precision = TP / (TP + FP)\n",
    "\n",
    "print(\"Precision: %.2f%%\" % (100 * precision))"
   ]
  },
  {
   "cell_type": "markdown",
   "metadata": {},
   "source": [
    "A classifier with large Recall but small Precision produces many false positive predictions and tends to assign many `1` labels.\n",
    "\n",
    "Vice versa, if a classifier has small Recall but large Precision, then it detects class `1` accurately, but misses many objects (many false negative predictions)."
   ]
  },
  {
   "cell_type": "markdown",
   "metadata": {},
   "source": [
    "### Precision-Recall curve"
   ]
  },
  {
   "cell_type": "markdown",
   "metadata": {},
   "source": [
    "In **precision-recall** space we may construct a curve similar to **ROC** curve in **FPR-TPR** space. PR curve also depicts the dependecy of Precision and Recall on threshold. *scikit* has the corresponding function: **precision_recall_curve(...)**.\n",
    "\n",
    "Let's calculate PR curve points.\n",
    "\n",
    "Note that unlike ROC curve, we cannot use interpolation for calculation of area under the curve. This may lead to larger values of the metric, which is not good. In this case we need to use **average_precision_score()** function instead of **auc()** function."
   ]
  },
  {
   "cell_type": "code",
   "execution_count": 25,
   "metadata": {},
   "outputs": [
    {
     "name": "stdout",
     "output_type": "stream",
     "text": [
      "DT PR-AUC on test data: 0.11014964995\n",
      "kNN PR-AUC on test data: 0.0699772358184\n"
     ]
    }
   ],
   "source": [
    "# generate values for Precision-Recall curve\n",
    "precision_dt, recall_dt, _ = precision_recall_curve(test_y, test_probabilities_dt)\n",
    "precision_knn, recall_knn, _ = precision_recall_curve(test_y, test_probabilities_knn)\n",
    "\n",
    "# calculate value under Precision-Recall curve\n",
    "pr_auc_dt = average_precision_score(test_y, test_probabilities_dt)\n",
    "pr_auc_knn = average_precision_score(test_y, test_probabilities_knn)\n",
    "\n",
    "print(\"DT PR-AUC on test data:\", pr_auc_dt) \n",
    "print(\"kNN PR-AUC on test data:\", pr_auc_knn)"
   ]
  },
  {
   "cell_type": "code",
   "execution_count": 26,
   "metadata": {},
   "outputs": [
    {
     "name": "stdout",
     "output_type": "stream",
     "text": [
      "DT PR-AUC on training data: 1.0\n",
      "kNN PR-AUC on training data: 0.291291159996\n"
     ]
    }
   ],
   "source": [
    "# generate values for training Precision Recall curve\n",
    "training_precision_dt, training_recall_dt, _ = precision_recall_curve(training_y, training_probabilities_dt)\n",
    "training_precision_knn, training_recall_knn, _ = precision_recall_curve(training_y, training_probabilities_knn)\n",
    "\n",
    "# TODO calculate value under precision-recall curve\n",
    "training_pr_auc_dt = average_precision_score(training_y, training_probabilities_dt)\n",
    "training_pr_auc_knn = average_precision_score(training_y, training_probabilities_knn)\n",
    "\n",
    "print(\"DT PR-AUC on training data:\", training_pr_auc_dt) \n",
    "print(\"kNN PR-AUC on training data:\", training_pr_auc_knn) "
   ]
  },
  {
   "cell_type": "code",
   "execution_count": 27,
   "metadata": {},
   "outputs": [
    {
     "data": {
      "image/png": "[encoded data removed]",
      "text/plain": [
       "<matplotlib.figure.Figure at 0x116b6d780>"
      ]
     },
     "metadata": {},
     "output_type": "display_data"
    }
   ],
   "source": [
    "fig = plt.figure(figsize=(14, 7))\n",
    "\n",
    "plot_1 = fig.add_subplot(121,\n",
    "                       xlabel=\"Recall\", xlim=(-.01, 1.01),\n",
    "                       ylabel=\"Precision\", ylim=(-.01, 1.01), title = 'Decision Tree')\n",
    "\n",
    "plot_1.plot(training_recall_dt, training_precision_dt,\n",
    "          color='darkgreen', lw=2, label = 'PR-curve on train (AUC = %0.2f)' % training_pr_auc_dt)\n",
    "plot_1.plot(recall_dt, precision_dt,\n",
    "          color='darkorange', lw=2, label = 'PR-curve on test (AUC = %0.2f)' % pr_auc_dt)\n",
    "plt.legend(loc=\"upper right\")\n",
    "\n",
    "\n",
    "plot_2 = fig.add_subplot(122,\n",
    "                       xlabel=\"Recall\", xlim=(-.01, 1.01),\n",
    "                       ylabel=\"Precision\", ylim=(-.01, 1.01), title = 'k Nearest Neighbors')\n",
    "\n",
    "plot_2.plot(training_recall_knn, training_precision_knn,\n",
    "          color='darkgreen', lw=2, label = 'PR-curve on train (AUC = %0.2f)' % training_pr_auc_knn)\n",
    "plot_2.plot(recall_knn, precision_knn,\n",
    "          color='darkorange', lw=2, label = 'PR-curve on test (AUC = %0.2f)' % pr_auc_knn)\n",
    "plt.legend(loc=\"upper right\")\n",
    "\n",
    "plt.show()"
   ]
  },
  {
   "cell_type": "markdown",
   "metadata": {},
   "source": [
    "The closer **PR** curve to the **upper right** corner, the better classification is.\n",
    "\n",
    "Large AUC value means that Precision and Recall are also large. That means that classifier makes small number of both False Positives and False Negatives."
   ]
  },
  {
   "cell_type": "markdown",
   "metadata": {},
   "source": [
    "## F1 score\n",
    "\n",
    "This metric allows to take into account a different cost for False Positive Errors and False Negative Errors.\n",
    "\n",
    "General $F_\\beta$ score is defined as follows:\n",
    "$$\n",
    "F_\\beta = (1 + \\beta^2) \\frac{Precision \\cdot Recall}{\\beta^2 Precision + Recall} = \\frac{1 + \\beta^2}{\\frac{\\beta^2}{Recall} + \\frac{1}{Precision}}= \\frac{\\beta + \\beta^{-1}}{\\beta\\frac{1}{\\text{Recall}} + \\beta^{-1}\\frac{1}{\\text{Precision}}}\n",
    "    \\,.\n",
    "$$\n",
    "\n",
    "Most commonly used is $F_1$ score:\n",
    "$$\n",
    "F_1 = \\frac{Precision \\cdot Recall}{Precision + Recall}\n",
    "$$\n",
    "\n",
    "Harmonic mean is used in order to make metric value very small when Precision or Recall is close to zero. Note that $F_1$ score doesn't describe how classifier works for True Negative results (**TN**)."
   ]
  },
  {
   "cell_type": "code",
   "execution_count": 28,
   "metadata": {},
   "outputs": [
    {
     "name": "stdout",
     "output_type": "stream",
     "text": [
      "DT F1 score on training data 1.0\n",
      "kNN F1 score on training data 0.0866873065015\n",
      "DT F1 score on test data 0.244047619048\n",
      "kNN F1 score on test data 0.0225988700565\n"
     ]
    }
   ],
   "source": [
    "print(\"DT F1 score on training data\", f1_score(training_y, training_predictions_dt))\n",
    "print(\"kNN F1 score on training data\", f1_score(training_y, training_predictions_knn))\n",
    "\n",
    "print(\"DT F1 score on test data\", f1_score(test_y, test_predictions_dt))\n",
    "print(\"kNN F1 score on test data\", f1_score(test_y, test_predictions_knn))"
   ]
  },
  {
   "cell_type": "markdown",
   "metadata": {},
   "source": [
    "$F_1$ score is good for imbalanced classification, when a number of class `1` objects is **much** bigger than class `0` objects."
   ]
  },
  {
   "cell_type": "markdown",
   "metadata": {},
   "source": [
    "Let's compare **accuracy** and $F_1$ score of our classifiers with *random* classifier, which works as follows:\n",
    "\n",
    "* estimate probability $\\hat{p}$ of class `1` on training data (frequency of class `1` objects);\n",
    "* for every test object predict randomly:\n",
    "    * label `1` with probability $\\hat{p}$,\n",
    "    * label `0` with probability $1 - \\hat{p}$."
   ]
  },
  {
   "cell_type": "code",
   "execution_count": 29,
   "metadata": {
    "collapsed": true
   },
   "outputs": [],
   "source": [
    "training_prob = sum(training_y) / len(training_y)\n",
    "random_predictions = np.random.binomial(1, training_prob, len(test_y))"
   ]
  },
  {
   "cell_type": "code",
   "execution_count": 30,
   "metadata": {},
   "outputs": [
    {
     "name": "stdout",
     "output_type": "stream",
     "text": [
      "Decision Tree accuracy\t\t 0.898420315937\n",
      "kNN accuracy\t\t\t 0.930813837233\n",
      "Random classifier accuracy\t 0.876624675065\n",
      "---\n",
      "Decision Tree F1 score\t\t 0.244047619048\n",
      "kNN F1 score\t\t\t 0.0225988700565\n",
      "FRandom classifier F1 score\t 0.0608828006088\n"
     ]
    }
   ],
   "source": [
    "print(\"Decision Tree accuracy\\t\\t\", accuracy_score(test_y, test_predictions_dt))\n",
    "print(\"kNN accuracy\\t\\t\\t\", accuracy_score(test_y, test_predictions_knn))\n",
    "print(\"Random classifier accuracy\\t\", accuracy_score(test_y, random_predictions))\n",
    "print('---')\n",
    "print(\"Decision Tree F1 score\\t\\t\", f1_score(test_y, test_predictions_dt))\n",
    "print(\"kNN F1 score\\t\\t\\t\", f1_score(test_y, test_predictions_knn))\n",
    "print(\"FRandom classifier F1 score\\t\", f1_score(test_y, random_predictions))"
   ]
  },
  {
   "cell_type": "markdown",
   "metadata": {},
   "source": [
    "# Exercise 1\n",
    "\n",
    "We have seen how some of classifiers work for this dataset. Now, try it yourself with Logistic Regression.\n",
    "\n",
    "* Fisrt, **import** **LogisticRegression()** function and train it on training data.\n",
    "* Then, calculate **ROC AUC**, **PR AUC** and **F1 score** on test data.\n",
    "* Try to change parameters to improve results.\n",
    "\n",
    "http://scikit-learn.org/stable/modules/generated/sklearn.linear_model.LogisticRegression.html"
   ]
  },
  {
   "cell_type": "code",
   "execution_count": 31,
   "metadata": {
    "collapsed": true
   },
   "outputs": [],
   "source": [
    "# import function here\n",
    "from sklearn.linear_model import LogisticRegression"
   ]
  },
  {
   "cell_type": "code",
   "execution_count": 32,
   "metadata": {},
   "outputs": [
    {
     "data": {
      "text/plain": [
       "LogisticRegression(C=1.0, class_weight={0: 0.1, 1: 0.9}, dual=False,\n",
       "          fit_intercept=True, intercept_scaling=1, max_iter=100,\n",
       "          multi_class='ovr', n_jobs=1, penalty='l2', random_state=None,\n",
       "          solver='liblinear', tol=0.0001, verbose=0, warm_start=False)"
      ]
     },
     "execution_count": 32,
     "metadata": {},
     "output_type": "execute_result"
    }
   ],
   "source": [
    "# logistic_regression = LogisticRegression()\n",
    "logistic_regression = LogisticRegression(class_weight = {0:0.1,1:0.9})\n",
    "logistic_regression.fit(training_X, training_y)"
   ]
  },
  {
   "cell_type": "code",
   "execution_count": 33,
   "metadata": {},
   "outputs": [],
   "source": [
    "test_predictions_lr = logistic_regression.predict(test_X)\n",
    "test_probabilities_lr = logistic_regression.predict_proba(test_X)[:,1]"
   ]
  },
  {
   "cell_type": "code",
   "execution_count": 34,
   "metadata": {},
   "outputs": [
    {
     "name": "stdout",
     "output_type": "stream",
     "text": [
      "ROC AUC:  0.771263058902\n"
     ]
    }
   ],
   "source": [
    "false_positive_rates_lr, true_positive_rates_lr, threshold_lr = roc_curve(test_y, test_probabilities_lr)\n",
    "roc_auc_lr = auc(false_positive_rates_lr, true_positive_rates_lr)\n",
    "print('ROC AUC: ', roc_auc_lr)"
   ]
  },
  {
   "cell_type": "code",
   "execution_count": 35,
   "metadata": {},
   "outputs": [
    {
     "name": "stdout",
     "output_type": "stream",
     "text": [
      "PR AUC:  0.264069969834\n"
     ]
    }
   ],
   "source": [
    "precision_lr, recall_lr, _ = precision_recall_curve(test_y, test_probabilities_lr)\n",
    "pr_auc_lr = average_precision_score(test_y, test_probabilities_lr)\n",
    "print('PR AUC: ', pr_auc_lr)"
   ]
  },
  {
   "cell_type": "code",
   "execution_count": 36,
   "metadata": {},
   "outputs": [
    {
     "name": "stdout",
     "output_type": "stream",
     "text": [
      "F1 score:  0.329004329004\n"
     ]
    }
   ],
   "source": [
    "f1_lr = f1_score(test_y,test_predictions_lr)\n",
    "print('F1 score: ', f1_lr)"
   ]
  },
  {
   "cell_type": "markdown",
   "metadata": {},
   "source": [
    "# Cross-validation technique\n",
    "\n",
    "In many cases test sample is not available or we have a small dataset, and we have only one sample: a training one. The most popular approach in this case is **cross-validation**.\n",
    "\n",
    "The most common way is $k$-fold cross-validation. The idea is to divide training sample into $k$ blocks, one of them is treated as an artificial test sample and other $k-1$ are used for training.\n",
    "\n",
    "*scikit* has several functions for dividing data into folds and for performing automated cross-validation. One of those functions is **GridSearchCV()**.\n",
    "\n",
    "<img src=\"figures/5-fold-cv.png\">"
   ]
  },
  {
   "cell_type": "code",
   "execution_count": 37,
   "metadata": {
    "collapsed": true
   },
   "outputs": [],
   "source": [
    "from sklearn.model_selection import GridSearchCV"
   ]
  },
  {
   "cell_type": "code",
   "execution_count": 38,
   "metadata": {},
   "outputs": [
    {
     "data": {
      "text/plain": [
       "GridSearchCV(cv=None, error_score='raise',\n",
       "       estimator=KNeighborsClassifier(algorithm='auto', leaf_size=30, metric='minkowski',\n",
       "           metric_params=None, n_jobs=1, n_neighbors=5, p=2,\n",
       "           weights='uniform'),\n",
       "       fit_params=None, iid=True, n_jobs=1,\n",
       "       param_grid={'n_neighbors': [5, 10, 15, 20]},\n",
       "       pre_dispatch='2*n_jobs', refit=True, return_train_score='warn',\n",
       "       scoring=None, verbose=0)"
      ]
     },
     "execution_count": 38,
     "metadata": {},
     "output_type": "execute_result"
    }
   ],
   "source": [
    "parameters_knn = {'n_neighbors': [5, 10, 15, 20]}\n",
    "knn_cv = GridSearchCV(knn, param_grid = parameters_knn)\n",
    "knn_cv.fit(training_X, training_y)"
   ]
  },
  {
   "cell_type": "code",
   "execution_count": 39,
   "metadata": {},
   "outputs": [
    {
     "data": {
      "text/plain": [
       "{'n_neighbors': 10}"
      ]
     },
     "execution_count": 39,
     "metadata": {},
     "output_type": "execute_result"
    }
   ],
   "source": [
    "knn_cv.best_params_"
   ]
  },
  {
   "cell_type": "code",
   "execution_count": 40,
   "metadata": {
    "collapsed": true
   },
   "outputs": [],
   "source": [
    "predictions_knn_cv = knn_cv.predict(test_X)\n",
    "probabilities_knn_cv = knn_cv.predict_proba(test_X)[:,1]"
   ]
  },
  {
   "cell_type": "code",
   "execution_count": 41,
   "metadata": {
    "collapsed": true
   },
   "outputs": [],
   "source": [
    "false_positive_rates_knn_cv, true_positive_rates_knn_cv, _ = roc_curve(test_y, probabilities_knn_cv)\n",
    "roc_auc_knn_cv = auc(false_positive_rates_knn_cv, true_positive_rates_knn_cv)"
   ]
  },
  {
   "cell_type": "code",
   "execution_count": 42,
   "metadata": {
    "collapsed": true
   },
   "outputs": [],
   "source": [
    "precision_knn_cv, recall_knn_cv, _ = precision_recall_curve(test_y, probabilities_knn_cv)\n",
    "pr_auc_knn_cv = average_precision_score(test_y, probabilities_knn_cv)"
   ]
  },
  {
   "cell_type": "code",
   "execution_count": 43,
   "metadata": {},
   "outputs": [
    {
     "name": "stderr",
     "output_type": "stream",
     "text": [
      "/Users/albertmatveev/anaconda3/lib/python3.6/site-packages/sklearn/metrics/classification.py:1135: UndefinedMetricWarning: F-score is ill-defined and being set to 0.0 due to no predicted samples.\n",
      "  'precision', 'predicted', average, warn_for)\n"
     ]
    }
   ],
   "source": [
    "f1_knn_cv = f1_score(test_y, predictions_knn_cv)"
   ]
  },
  {
   "cell_type": "code",
   "execution_count": 44,
   "metadata": {},
   "outputs": [
    {
     "name": "stdout",
     "output_type": "stream",
     "text": [
      "ROC AUC:  0.549520827069\n",
      "PR AUC:  0.0797195956759\n",
      "F1_score:  0.0\n"
     ]
    }
   ],
   "source": [
    "print('ROC AUC: ', roc_auc_knn_cv)\n",
    "print('PR AUC: ', pr_auc_knn_cv)\n",
    "print('F1_score: ', f1_knn_cv)"
   ]
  },
  {
   "cell_type": "code",
   "execution_count": 45,
   "metadata": {},
   "outputs": [
    {
     "data": {
      "text/html": [
       "<div>\n",
       "<style>\n",
       "    .dataframe thead tr:only-child th {\n",
       "        text-align: right;\n",
       "    }\n",
       "\n",
       "    .dataframe thead th {\n",
       "        text-align: left;\n",
       "    }\n",
       "\n",
       "    .dataframe tbody tr th {\n",
       "        vertical-align: top;\n",
       "    }\n",
       "</style>\n",
       "<table border=\"1\" class=\"dataframe\">\n",
       "  <thead>\n",
       "    <tr style=\"text-align: right;\">\n",
       "      <th></th>\n",
       "      <th>0</th>\n",
       "      <th>1</th>\n",
       "    </tr>\n",
       "  </thead>\n",
       "  <tbody>\n",
       "    <tr>\n",
       "      <th>0</th>\n",
       "      <td>4666</td>\n",
       "      <td>0</td>\n",
       "    </tr>\n",
       "    <tr>\n",
       "      <th>1</th>\n",
       "      <td>335</td>\n",
       "      <td>0</td>\n",
       "    </tr>\n",
       "  </tbody>\n",
       "</table>\n",
       "</div>"
      ],
      "text/plain": [
       "      0  1\n",
       "0  4666  0\n",
       "1   335  0"
      ]
     },
     "execution_count": 45,
     "metadata": {},
     "output_type": "execute_result"
    }
   ],
   "source": [
    "pd.DataFrame(confusion_matrix(test_y, predictions_knn_cv))"
   ]
  },
  {
   "cell_type": "markdown",
   "metadata": {},
   "source": [
    "# Exercise 2\n",
    "\n",
    "Now we know how to perform cross-validation. Try it yourself with Decision Tree.\n",
    "\n",
    "* Using **GridSearchCV** choose parameter **min_samples_leaf**. Try several values from 1 to 100.\n",
    "* Use **five**-fold cross-validation and **roc_auc** scoring.\n",
    "* Evaluate quality metrics and look how they changed. Make some plots.\n",
    "\n",
    "http://scikit-learn.org/stable/modules/generated/sklearn.tree.DecisionTreeClassifier.html\n",
    "http://scikit-learn.org/stable/modules/generated/sklearn.model_selection.GridSearchCV.html"
   ]
  },
  {
   "cell_type": "code",
   "execution_count": 46,
   "metadata": {},
   "outputs": [
    {
     "data": {
      "text/plain": [
       "GridSearchCV(cv=None, error_score='raise',\n",
       "       estimator=DecisionTreeClassifier(class_weight=None, criterion='gini', max_depth=None,\n",
       "            max_features=None, max_leaf_nodes=None,\n",
       "            min_impurity_decrease=0.0, min_impurity_split=None,\n",
       "            min_samples_leaf=1, min_samples_split=2,\n",
       "            min_weight_fraction_leaf=0.0, presort=False, random_state=None,\n",
       "            splitter='best'),\n",
       "       fit_params=None, iid=True, n_jobs=1,\n",
       "       param_grid={'min_samples_leaf': [1, 10, 100]},\n",
       "       pre_dispatch='2*n_jobs', refit=True, return_train_score='warn',\n",
       "       scoring='roc_auc', verbose=0)"
      ]
     },
     "execution_count": 46,
     "metadata": {},
     "output_type": "execute_result"
    }
   ],
   "source": [
    "parameters_dt = {'min_samples_leaf': [1, 10, 100]}\n",
    "dt_cv = GridSearchCV(decision_tree, param_grid = parameters_dt, scoring = 'roc_auc')\n",
    "dt_cv.fit(training_X, training_y)"
   ]
  },
  {
   "cell_type": "code",
   "execution_count": 47,
   "metadata": {},
   "outputs": [
    {
     "data": {
      "text/plain": [
       "{'min_samples_leaf': 100}"
      ]
     },
     "execution_count": 47,
     "metadata": {},
     "output_type": "execute_result"
    }
   ],
   "source": [
    "dt_cv.best_params_"
   ]
  },
  {
   "cell_type": "code",
   "execution_count": 48,
   "metadata": {
    "collapsed": true
   },
   "outputs": [],
   "source": [
    "predictions_dt_cv = dt_cv.predict(test_X)\n",
    "probabilities_dt_cv = dt_cv.predict_proba(test_X)[:,1]"
   ]
  },
  {
   "cell_type": "code",
   "execution_count": 49,
   "metadata": {
    "collapsed": true
   },
   "outputs": [],
   "source": [
    "false_positive_rates_dt_cv, true_positive_rates_dt_cv, _ = roc_curve(test_y, probabilities_dt_cv)\n",
    "roc_auc_dt_cv = auc(false_positive_rates_dt_cv, true_positive_rates_dt_cv)"
   ]
  },
  {
   "cell_type": "code",
   "execution_count": 50,
   "metadata": {
    "collapsed": true
   },
   "outputs": [],
   "source": [
    "precision_dt_cv, recall_dt_cv, _ = precision_recall_curve(test_y, probabilities_dt_cv)\n",
    "pr_auc_dt_cv = average_precision_score(test_y, probabilities_dt_cv)"
   ]
  },
  {
   "cell_type": "code",
   "execution_count": 51,
   "metadata": {
    "collapsed": true
   },
   "outputs": [],
   "source": [
    "f1_dt_cv = f1_score(test_y, predictions_dt_cv)"
   ]
  },
  {
   "cell_type": "code",
   "execution_count": 52,
   "metadata": {},
   "outputs": [
    {
     "name": "stdout",
     "output_type": "stream",
     "text": [
      "ROC AUC:  0.808453979566\n",
      "PR AUC:  0.284529222679\n",
      "F1_score:  0.211009174312\n"
     ]
    }
   ],
   "source": [
    "print('ROC AUC: ', roc_auc_dt_cv)\n",
    "print('PR AUC: ', pr_auc_dt_cv)\n",
    "print('F1_score: ', f1_dt_cv)"
   ]
  },
  {
   "cell_type": "code",
   "execution_count": 53,
   "metadata": {},
   "outputs": [
    {
     "data": {
      "image/png": "[encoded data removed]",
      "text/plain": [
       "<matplotlib.figure.Figure at 0x1a1d2059b0>"
      ]
     },
     "metadata": {},
     "output_type": "display_data"
    }
   ],
   "source": [
    "fig = plt.figure(figsize=(14, 7))\n",
    "\n",
    "plot_1 = fig.add_subplot(121,\n",
    "                       xlabel=\"FPR\", xlim=(-.01, 1.01),\n",
    "                       ylabel=\"TPR\", ylim=(-.01, 1.01), title = 'Decision Tree ROC curve')\n",
    "\n",
    "plot_1.plot(false_positive_rates_dt_cv, true_positive_rates_dt_cv,\n",
    "          color='darkgreen', lw=2, label = 'ROC-curve new (AUC = %0.2f)' % roc_auc_dt_cv)\n",
    "plot_1.plot(false_positive_rates_dt, true_positive_rates_dt,\n",
    "          color='darkorange', lw=2, label = 'ROC-curve old (AUC = %0.2f)' % roc_auc_dt)\n",
    "plot_1.plot([0, 1], [0, 1], color='navy', lw=2, linestyle=':')\n",
    "plt.legend(loc=\"lower right\")\n",
    "\n",
    "\n",
    "plot_2 = fig.add_subplot(122,\n",
    "                       xlabel=\"Recall\", xlim=(-.01, 1.01),\n",
    "                       ylabel=\"Precision\", ylim=(-.01, 1.01), title = 'Decision Tree PR curve')\n",
    "\n",
    "plot_2.plot(recall_dt_cv, precision_dt_cv,\n",
    "          color='darkgreen', lw=2, label = 'PR-curve new (AUC = %0.2f)' % pr_auc_dt_cv)\n",
    "plot_2.plot(recall_knn, precision_knn,\n",
    "          color='darkorange', lw=2, label = 'PR-curve old (AUC = %0.2f)' % pr_auc_dt)\n",
    "plt.legend(loc=\"upper right\")\n",
    "\n",
    "plt.show()"
   ]
  },
  {
   "cell_type": "markdown",
   "metadata": {},
   "source": [
    "# Multiclass classification"
   ]
  },
  {
   "cell_type": "markdown",
   "metadata": {},
   "source": [
    "Let's have a look how multiclass tasks are treated."
   ]
  },
  {
   "cell_type": "code",
   "execution_count": 54,
   "metadata": {
    "collapsed": true
   },
   "outputs": [],
   "source": [
    "# import some modules\n",
    "\n",
    "from sklearn.model_selection import train_test_split\n",
    "from sklearn.preprocessing import LabelEncoder\n",
    "\n",
    "from sklearn.base import clone"
   ]
  },
  {
   "cell_type": "code",
   "execution_count": 55,
   "metadata": {
    "collapsed": true
   },
   "outputs": [],
   "source": [
    "# for ZIP-files\n",
    "import zipfile"
   ]
  },
  {
   "cell_type": "markdown",
   "metadata": {},
   "source": [
    "## Load data"
   ]
  },
  {
   "cell_type": "markdown",
   "metadata": {},
   "source": [
    "We will use data from Kaggle contest *\"Otto Group\n",
    "Product Classification Challenge\"*, which was created to predict class of an item by several features.з\n",
    "\n",
    "https://www.kaggle.com/c/otto-group-product-classification-challenge\n",
    "\n",
    "Data are in ZIP, but we can load them easily"
   ]
  },
  {
   "cell_type": "code",
   "execution_count": 56,
   "metadata": {
    "collapsed": true
   },
   "outputs": [],
   "source": [
    "with zipfile.ZipFile('data/train.csv.zip') as archive:\n",
    "    dataset = pd.read_csv(archive.open('train.csv'), index_col='id')"
   ]
  },
  {
   "cell_type": "markdown",
   "metadata": {},
   "source": [
    "Data consist of the following:\n",
    "* **id** -- anonymized identifier;\n",
    "* **feat_1, ..., feat_93** -- features;\n",
    "* **target** -- actual class of an item."
   ]
  },
  {
   "cell_type": "markdown",
   "metadata": {},
   "source": [
    "Number of objects for every class in **target**"
   ]
  },
  {
   "cell_type": "code",
   "execution_count": 57,
   "metadata": {},
   "outputs": [
    {
     "data": {
      "text/plain": [
       "Class_2    16122\n",
       "Class_6    14135\n",
       "Class_8     8464\n",
       "Class_3     8004\n",
       "Class_9     4955\n",
       "Class_7     2839\n",
       "Class_5     2739\n",
       "Class_4     2691\n",
       "Class_1     1929\n",
       "Name: target, dtype: int64"
      ]
     },
     "execution_count": 57,
     "metadata": {},
     "output_type": "execute_result"
    }
   ],
   "source": [
    "dataset['target'].value_counts()"
   ]
  },
  {
   "cell_type": "markdown",
   "metadata": {},
   "source": [
    "Let's see random data slice"
   ]
  },
  {
   "cell_type": "code",
   "execution_count": 58,
   "metadata": {},
   "outputs": [
    {
     "data": {
      "text/html": [
       "<div>\n",
       "<style>\n",
       "    .dataframe thead tr:only-child th {\n",
       "        text-align: right;\n",
       "    }\n",
       "\n",
       "    .dataframe thead th {\n",
       "        text-align: left;\n",
       "    }\n",
       "\n",
       "    .dataframe tbody tr th {\n",
       "        vertical-align: top;\n",
       "    }\n",
       "</style>\n",
       "<table border=\"1\" class=\"dataframe\">\n",
       "  <thead>\n",
       "    <tr style=\"text-align: right;\">\n",
       "      <th></th>\n",
       "      <th>count</th>\n",
       "      <th>mean</th>\n",
       "      <th>std</th>\n",
       "      <th>min</th>\n",
       "      <th>25%</th>\n",
       "      <th>50%</th>\n",
       "      <th>75%</th>\n",
       "      <th>max</th>\n",
       "    </tr>\n",
       "  </thead>\n",
       "  <tbody>\n",
       "    <tr>\n",
       "      <th>feat_41</th>\n",
       "      <td>61878.0</td>\n",
       "      <td>0.303468</td>\n",
       "      <td>1.085672</td>\n",
       "      <td>0.0</td>\n",
       "      <td>0.0</td>\n",
       "      <td>0.0</td>\n",
       "      <td>0.0</td>\n",
       "      <td>36.0</td>\n",
       "    </tr>\n",
       "    <tr>\n",
       "      <th>feat_23</th>\n",
       "      <td>61878.0</td>\n",
       "      <td>0.142522</td>\n",
       "      <td>0.782979</td>\n",
       "      <td>0.0</td>\n",
       "      <td>0.0</td>\n",
       "      <td>0.0</td>\n",
       "      <td>0.0</td>\n",
       "      <td>64.0</td>\n",
       "    </tr>\n",
       "    <tr>\n",
       "      <th>feat_56</th>\n",
       "      <td>61878.0</td>\n",
       "      <td>0.303775</td>\n",
       "      <td>1.925806</td>\n",
       "      <td>0.0</td>\n",
       "      <td>0.0</td>\n",
       "      <td>0.0</td>\n",
       "      <td>0.0</td>\n",
       "      <td>62.0</td>\n",
       "    </tr>\n",
       "    <tr>\n",
       "      <th>feat_73</th>\n",
       "      <td>61878.0</td>\n",
       "      <td>0.591050</td>\n",
       "      <td>5.783233</td>\n",
       "      <td>0.0</td>\n",
       "      <td>0.0</td>\n",
       "      <td>0.0</td>\n",
       "      <td>0.0</td>\n",
       "      <td>352.0</td>\n",
       "    </tr>\n",
       "    <tr>\n",
       "      <th>feat_1</th>\n",
       "      <td>61878.0</td>\n",
       "      <td>0.386680</td>\n",
       "      <td>1.525330</td>\n",
       "      <td>0.0</td>\n",
       "      <td>0.0</td>\n",
       "      <td>0.0</td>\n",
       "      <td>0.0</td>\n",
       "      <td>61.0</td>\n",
       "    </tr>\n",
       "    <tr>\n",
       "      <th>feat_27</th>\n",
       "      <td>61878.0</td>\n",
       "      <td>0.696613</td>\n",
       "      <td>2.873222</td>\n",
       "      <td>0.0</td>\n",
       "      <td>0.0</td>\n",
       "      <td>0.0</td>\n",
       "      <td>0.0</td>\n",
       "      <td>123.0</td>\n",
       "    </tr>\n",
       "    <tr>\n",
       "      <th>feat_40</th>\n",
       "      <td>61878.0</td>\n",
       "      <td>1.653059</td>\n",
       "      <td>3.299798</td>\n",
       "      <td>0.0</td>\n",
       "      <td>0.0</td>\n",
       "      <td>0.0</td>\n",
       "      <td>2.0</td>\n",
       "      <td>41.0</td>\n",
       "    </tr>\n",
       "    <tr>\n",
       "      <th>feat_68</th>\n",
       "      <td>61878.0</td>\n",
       "      <td>0.392902</td>\n",
       "      <td>1.761054</td>\n",
       "      <td>0.0</td>\n",
       "      <td>0.0</td>\n",
       "      <td>0.0</td>\n",
       "      <td>0.0</td>\n",
       "      <td>109.0</td>\n",
       "    </tr>\n",
       "    <tr>\n",
       "      <th>feat_11</th>\n",
       "      <td>61878.0</td>\n",
       "      <td>1.252869</td>\n",
       "      <td>3.042333</td>\n",
       "      <td>0.0</td>\n",
       "      <td>0.0</td>\n",
       "      <td>0.0</td>\n",
       "      <td>1.0</td>\n",
       "      <td>38.0</td>\n",
       "    </tr>\n",
       "    <tr>\n",
       "      <th>feat_45</th>\n",
       "      <td>61878.0</td>\n",
       "      <td>0.238130</td>\n",
       "      <td>2.587131</td>\n",
       "      <td>0.0</td>\n",
       "      <td>0.0</td>\n",
       "      <td>0.0</td>\n",
       "      <td>0.0</td>\n",
       "      <td>80.0</td>\n",
       "    </tr>\n",
       "  </tbody>\n",
       "</table>\n",
       "</div>"
      ],
      "text/plain": [
       "           count      mean       std  min  25%  50%  75%    max\n",
       "feat_41  61878.0  0.303468  1.085672  0.0  0.0  0.0  0.0   36.0\n",
       "feat_23  61878.0  0.142522  0.782979  0.0  0.0  0.0  0.0   64.0\n",
       "feat_56  61878.0  0.303775  1.925806  0.0  0.0  0.0  0.0   62.0\n",
       "feat_73  61878.0  0.591050  5.783233  0.0  0.0  0.0  0.0  352.0\n",
       "feat_1   61878.0  0.386680  1.525330  0.0  0.0  0.0  0.0   61.0\n",
       "feat_27  61878.0  0.696613  2.873222  0.0  0.0  0.0  0.0  123.0\n",
       "feat_40  61878.0  1.653059  3.299798  0.0  0.0  0.0  2.0   41.0\n",
       "feat_68  61878.0  0.392902  1.761054  0.0  0.0  0.0  0.0  109.0\n",
       "feat_11  61878.0  1.252869  3.042333  0.0  0.0  0.0  1.0   38.0\n",
       "feat_45  61878.0  0.238130  2.587131  0.0  0.0  0.0  0.0   80.0"
      ]
     },
     "execution_count": 58,
     "metadata": {},
     "output_type": "execute_result"
    }
   ],
   "source": [
    "dataset.describe().T.sample(10, random_state=42)"
   ]
  },
  {
   "cell_type": "markdown",
   "metadata": {},
   "source": [
    "Divide data into input and output, transform labels from strings to numbers. **LabelEncoder** allows us to perform that transform nad obtain numbers from $0$ to $K-1$, where $K$ is the number of classes."
   ]
  },
  {
   "cell_type": "code",
   "execution_count": 59,
   "metadata": {
    "collapsed": true
   },
   "outputs": [],
   "source": [
    "X = np.asarray(dataset.drop('target', axis=1), dtype=float)\n",
    "target = dataset['target']\n",
    "\n",
    "label_encoder = LabelEncoder().fit(target)\n",
    "y = label_encoder.transform(target)"
   ]
  },
  {
   "cell_type": "markdown",
   "metadata": {},
   "source": [
    "Split data into training sample and test sample"
   ]
  },
  {
   "cell_type": "code",
   "execution_count": 60,
   "metadata": {
    "collapsed": true
   },
   "outputs": [],
   "source": [
    "split = train_test_split(X, y, test_size=0.5,\n",
    "                         random_state=42, stratify=y)\n",
    "train_X, test_X, train_y, test_y = split"
   ]
  },
  {
   "cell_type": "markdown",
   "metadata": {},
   "source": [
    "## Multiclass classification"
   ]
  },
  {
   "cell_type": "markdown",
   "metadata": {},
   "source": [
    "There are two kinds of multiclass classification problems:"
   ]
  },
  {
   "cell_type": "markdown",
   "metadata": {},
   "source": [
    "* **Multiclass** -- the object is labeled by only **one** of several classes:\n",
    "    * item classification into types, digit recognition."
   ]
  },
  {
   "cell_type": "markdown",
   "metadata": {},
   "source": [
    "* **Mulitlabel** -- the object is labeled by **several** labels:\n",
    "    * assigning relevant topics to a document, detection of a number of objects on a picture."
   ]
  },
  {
   "cell_type": "markdown",
   "metadata": {},
   "source": [
    "We will consider only **Mutliclass** problems."
   ]
  },
  {
   "cell_type": "markdown",
   "metadata": {},
   "source": [
    "Some machine learning algorithms are able to perform multiclass classification by design:\n",
    "\n",
    "* Naive Bayes classifier;\n",
    "* Decision Trees;\n",
    "* $k$-nearest neighbors."
   ]
  },
  {
   "cell_type": "markdown",
   "metadata": {},
   "source": [
    "For other models we need to use some meta-algorithms:\n",
    "* *One-vs-one*, **ovo**;\n",
    "* *One-vs-rest*, **ovr**;\n",
    "* Label coding."
   ]
  },
  {
   "cell_type": "markdown",
   "metadata": {},
   "source": [
    "<br/>"
   ]
  },
  {
   "cell_type": "markdown",
   "metadata": {},
   "source": [
    "Let's use Decision Tree classifier first. As mentioned, it can process multiclass data by design."
   ]
  },
  {
   "cell_type": "code",
   "execution_count": 61,
   "metadata": {},
   "outputs": [
    {
     "data": {
      "text/plain": [
       "DecisionTreeClassifier(class_weight=None, criterion='gini', max_depth=None,\n",
       "            max_features=None, max_leaf_nodes=None,\n",
       "            min_impurity_decrease=0.0, min_impurity_split=None,\n",
       "            min_samples_leaf=1, min_samples_split=2,\n",
       "            min_weight_fraction_leaf=0.0, presort=False, random_state=None,\n",
       "            splitter='best')"
      ]
     },
     "execution_count": 61,
     "metadata": {},
     "output_type": "execute_result"
    }
   ],
   "source": [
    "base_classifier = DecisionTreeClassifier()\n",
    "\n",
    "base_classifier.fit(train_X, train_y)"
   ]
  },
  {
   "cell_type": "markdown",
   "metadata": {},
   "source": [
    "Construct confusion matrix."
   ]
  },
  {
   "cell_type": "code",
   "execution_count": 62,
   "metadata": {},
   "outputs": [
    {
     "data": {
      "text/html": [
       "<div>\n",
       "<style>\n",
       "    .dataframe thead tr:only-child th {\n",
       "        text-align: right;\n",
       "    }\n",
       "\n",
       "    .dataframe thead th {\n",
       "        text-align: left;\n",
       "    }\n",
       "\n",
       "    .dataframe tbody tr th {\n",
       "        vertical-align: top;\n",
       "    }\n",
       "</style>\n",
       "<table border=\"1\" class=\"dataframe\">\n",
       "  <thead>\n",
       "    <tr style=\"text-align: right;\">\n",
       "      <th></th>\n",
       "      <th>0</th>\n",
       "      <th>1</th>\n",
       "      <th>2</th>\n",
       "      <th>3</th>\n",
       "      <th>4</th>\n",
       "      <th>5</th>\n",
       "      <th>6</th>\n",
       "      <th>7</th>\n",
       "      <th>8</th>\n",
       "    </tr>\n",
       "  </thead>\n",
       "  <tbody>\n",
       "    <tr>\n",
       "      <th>0</th>\n",
       "      <td>356</td>\n",
       "      <td>41</td>\n",
       "      <td>32</td>\n",
       "      <td>13</td>\n",
       "      <td>12</td>\n",
       "      <td>106</td>\n",
       "      <td>73</td>\n",
       "      <td>133</td>\n",
       "      <td>198</td>\n",
       "    </tr>\n",
       "    <tr>\n",
       "      <th>1</th>\n",
       "      <td>44</td>\n",
       "      <td>5619</td>\n",
       "      <td>1632</td>\n",
       "      <td>415</td>\n",
       "      <td>35</td>\n",
       "      <td>66</td>\n",
       "      <td>109</td>\n",
       "      <td>73</td>\n",
       "      <td>68</td>\n",
       "    </tr>\n",
       "    <tr>\n",
       "      <th>2</th>\n",
       "      <td>14</td>\n",
       "      <td>1678</td>\n",
       "      <td>1828</td>\n",
       "      <td>254</td>\n",
       "      <td>4</td>\n",
       "      <td>27</td>\n",
       "      <td>119</td>\n",
       "      <td>40</td>\n",
       "      <td>38</td>\n",
       "    </tr>\n",
       "    <tr>\n",
       "      <th>3</th>\n",
       "      <td>12</td>\n",
       "      <td>371</td>\n",
       "      <td>290</td>\n",
       "      <td>543</td>\n",
       "      <td>7</td>\n",
       "      <td>59</td>\n",
       "      <td>42</td>\n",
       "      <td>8</td>\n",
       "      <td>13</td>\n",
       "    </tr>\n",
       "    <tr>\n",
       "      <th>4</th>\n",
       "      <td>7</td>\n",
       "      <td>23</td>\n",
       "      <td>13</td>\n",
       "      <td>12</td>\n",
       "      <td>1289</td>\n",
       "      <td>3</td>\n",
       "      <td>7</td>\n",
       "      <td>8</td>\n",
       "      <td>8</td>\n",
       "    </tr>\n",
       "    <tr>\n",
       "      <th>5</th>\n",
       "      <td>122</td>\n",
       "      <td>105</td>\n",
       "      <td>58</td>\n",
       "      <td>48</td>\n",
       "      <td>5</td>\n",
       "      <td>6250</td>\n",
       "      <td>144</td>\n",
       "      <td>178</td>\n",
       "      <td>158</td>\n",
       "    </tr>\n",
       "    <tr>\n",
       "      <th>6</th>\n",
       "      <td>91</td>\n",
       "      <td>161</td>\n",
       "      <td>151</td>\n",
       "      <td>39</td>\n",
       "      <td>15</td>\n",
       "      <td>124</td>\n",
       "      <td>648</td>\n",
       "      <td>123</td>\n",
       "      <td>68</td>\n",
       "    </tr>\n",
       "    <tr>\n",
       "      <th>7</th>\n",
       "      <td>170</td>\n",
       "      <td>78</td>\n",
       "      <td>69</td>\n",
       "      <td>14</td>\n",
       "      <td>14</td>\n",
       "      <td>207</td>\n",
       "      <td>127</td>\n",
       "      <td>3410</td>\n",
       "      <td>143</td>\n",
       "    </tr>\n",
       "    <tr>\n",
       "      <th>8</th>\n",
       "      <td>208</td>\n",
       "      <td>91</td>\n",
       "      <td>41</td>\n",
       "      <td>18</td>\n",
       "      <td>10</td>\n",
       "      <td>136</td>\n",
       "      <td>40</td>\n",
       "      <td>138</td>\n",
       "      <td>1795</td>\n",
       "    </tr>\n",
       "  </tbody>\n",
       "</table>\n",
       "</div>"
      ],
      "text/plain": [
       "     0     1     2    3     4     5    6     7     8\n",
       "0  356    41    32   13    12   106   73   133   198\n",
       "1   44  5619  1632  415    35    66  109    73    68\n",
       "2   14  1678  1828  254     4    27  119    40    38\n",
       "3   12   371   290  543     7    59   42     8    13\n",
       "4    7    23    13   12  1289     3    7     8     8\n",
       "5  122   105    58   48     5  6250  144   178   158\n",
       "6   91   161   151   39    15   124  648   123    68\n",
       "7  170    78    69   14    14   207  127  3410   143\n",
       "8  208    91    41   18    10   136   40   138  1795"
      ]
     },
     "execution_count": 62,
     "metadata": {},
     "output_type": "execute_result"
    }
   ],
   "source": [
    "predict_y = base_classifier.predict(test_X)\n",
    "\n",
    "pd.DataFrame(confusion_matrix(test_y, predict_y))"
   ]
  },
  {
   "cell_type": "markdown",
   "metadata": {},
   "source": [
    "This is a generalization of this matrix to several classes."
   ]
  },
  {
   "cell_type": "markdown",
   "metadata": {},
   "source": [
    "We investigate ROC curves, they show how our algorithm separates one class from the others."
   ]
  },
  {
   "cell_type": "code",
   "execution_count": 63,
   "metadata": {},
   "outputs": [
    {
     "data": {
      "image/png": "[encoded data removed]",
      "text/plain": [
       "<matplotlib.figure.Figure at 0x116b53550>"
      ]
     },
     "metadata": {},
     "output_type": "display_data"
    }
   ],
   "source": [
    "fig = plt.figure(figsize=(16, 9))\n",
    "ax = fig.add_subplot(111,\n",
    "                     xlim=(-0.01, 1.01), xlabel=\"fpr\",\n",
    "                     ylim=(-0.01, 1.01), ylabel=\"tpr\")\n",
    "\n",
    "ax.plot([0, 1], [0, 1], color=\"navy\", linestyle=\":\", alpha=0.5, zorder=-99)\n",
    "\n",
    "predict_prob_y = base_classifier.predict_proba(test_X)\n",
    "for k in base_classifier.classes_:\n",
    "    fpr, tpr, _ = roc_curve(test_y, predict_prob_y[:, k], pos_label=k)\n",
    "    ax.plot(fpr, tpr, lw=2, label=k, alpha=0.7)\n",
    "\n",
    "ax.set_title(\"ROC curves on test sample\")\n",
    "ax.legend(loc='lower right', shadow=True, ncol=3)\n",
    "\n",
    "plt.show()"
   ]
  },
  {
   "cell_type": "markdown",
   "metadata": {},
   "source": [
    "**.score()** is used to calculate **Accuracy** for a classifier."
   ]
  },
  {
   "cell_type": "code",
   "execution_count": 64,
   "metadata": {},
   "outputs": [
    {
     "name": "stdout",
     "output_type": "stream",
     "text": [
      "Accuracy 70.261%\n"
     ]
    }
   ],
   "source": [
    "print(\"Accuracy %.3f%%\" % (100 * base_classifier.score(test_X, test_y)))"
   ]
  },
  {
   "cell_type": "markdown",
   "metadata": {},
   "source": [
    "<br/>"
   ]
  },
  {
   "cell_type": "markdown",
   "metadata": {},
   "source": [
    "## Meta-algorithms"
   ]
  },
  {
   "cell_type": "markdown",
   "metadata": {},
   "source": [
    "As a base classifier we will use Logistic Regression. Although it also can procces multiclass data, we will use it as a binary classifier."
   ]
  },
  {
   "cell_type": "code",
   "execution_count": 65,
   "metadata": {
    "collapsed": true
   },
   "outputs": [],
   "source": [
    "model = LogisticRegression()"
   ]
  },
  {
   "cell_type": "markdown",
   "metadata": {},
   "source": [
    "### One-vs-rest"
   ]
  },
  {
   "cell_type": "markdown",
   "metadata": {},
   "source": [
    "<img src=\"figures/ovr.png\" title=\"один против всех\"/>"
   ]
  },
  {
   "cell_type": "markdown",
   "metadata": {},
   "source": [
    "*One-vs-rest* strategy is the following"
   ]
  },
  {
   "cell_type": "markdown",
   "metadata": {},
   "source": [
    "* **Train**: for each label $k \\in \\{1.. K\\}$ train individual classifier $h_k$, which separates class $k$ from the others\n",
    "$y \\neq k$;\n",
    "\n",
    "```python\n",
    "def fit(X, y):\n",
    "    classifiers = []\n",
    "    for i in range(len(classes)):\n",
    "        y_i = np.where(y == classes[i], 1, 0)\n",
    "\n",
    "        classifiers.append(clone(classifier).fit(X, y_i))\n",
    "```"
   ]
  },
  {
   "cell_type": "markdown",
   "metadata": {},
   "source": [
    "* **Predict**: apply all $K$ classifiers to a new point $x$:\n",
    "    * if only one classifier works, choose it\n",
    "    * otherwise choose a class corresponding to the most confident classifier (which shows the larges probability).\n",
    "\n",
    "```python\n",
    "def predict(X):\n",
    "    scores = []\n",
    "    for clf in classifiers:\n",
    "        scores.append(clf.predict_proba(X)[:, 1])\n",
    "\n",
    "    scores = np.stack(scores, axis=1)\n",
    "    return classes[np.argmax(scores, axis=1)]\n",
    "```"
   ]
  },
  {
   "cell_type": "code",
   "execution_count": 66,
   "metadata": {
    "collapsed": true
   },
   "outputs": [],
   "source": [
    "from sklearn.multiclass import OneVsRestClassifier"
   ]
  },
  {
   "cell_type": "markdown",
   "metadata": {},
   "source": [
    "Apply **ovr** for our model."
   ]
  },
  {
   "cell_type": "code",
   "execution_count": 67,
   "metadata": {},
   "outputs": [
    {
     "data": {
      "text/plain": [
       "OneVsRestClassifier(estimator=LogisticRegression(C=1.0, class_weight=None, dual=False, fit_intercept=True,\n",
       "          intercept_scaling=1, max_iter=100, multi_class='ovr', n_jobs=1,\n",
       "          penalty='l2', random_state=None, solver='liblinear', tol=0.0001,\n",
       "          verbose=0, warm_start=False),\n",
       "          n_jobs=1)"
      ]
     },
     "execution_count": 67,
     "metadata": {},
     "output_type": "execute_result"
    }
   ],
   "source": [
    "ovr_classifier = OneVsRestClassifier(clone(model))\n",
    "\n",
    "ovr_classifier.fit(train_X, train_y)"
   ]
  },
  {
   "cell_type": "markdown",
   "metadata": {},
   "source": [
    "Confusion matrix"
   ]
  },
  {
   "cell_type": "code",
   "execution_count": 68,
   "metadata": {},
   "outputs": [
    {
     "data": {
      "text/html": [
       "<div>\n",
       "<style>\n",
       "    .dataframe thead tr:only-child th {\n",
       "        text-align: right;\n",
       "    }\n",
       "\n",
       "    .dataframe thead th {\n",
       "        text-align: left;\n",
       "    }\n",
       "\n",
       "    .dataframe tbody tr th {\n",
       "        vertical-align: top;\n",
       "    }\n",
       "</style>\n",
       "<table border=\"1\" class=\"dataframe\">\n",
       "  <thead>\n",
       "    <tr style=\"text-align: right;\">\n",
       "      <th></th>\n",
       "      <th>0</th>\n",
       "      <th>1</th>\n",
       "      <th>2</th>\n",
       "      <th>3</th>\n",
       "      <th>4</th>\n",
       "      <th>5</th>\n",
       "      <th>6</th>\n",
       "      <th>7</th>\n",
       "      <th>8</th>\n",
       "    </tr>\n",
       "  </thead>\n",
       "  <tbody>\n",
       "    <tr>\n",
       "      <th>0</th>\n",
       "      <td>331</td>\n",
       "      <td>113</td>\n",
       "      <td>0</td>\n",
       "      <td>0</td>\n",
       "      <td>1</td>\n",
       "      <td>96</td>\n",
       "      <td>21</td>\n",
       "      <td>169</td>\n",
       "      <td>233</td>\n",
       "    </tr>\n",
       "    <tr>\n",
       "      <th>1</th>\n",
       "      <td>9</td>\n",
       "      <td>7210</td>\n",
       "      <td>682</td>\n",
       "      <td>26</td>\n",
       "      <td>35</td>\n",
       "      <td>23</td>\n",
       "      <td>46</td>\n",
       "      <td>23</td>\n",
       "      <td>7</td>\n",
       "    </tr>\n",
       "    <tr>\n",
       "      <th>2</th>\n",
       "      <td>0</td>\n",
       "      <td>2855</td>\n",
       "      <td>1045</td>\n",
       "      <td>15</td>\n",
       "      <td>0</td>\n",
       "      <td>9</td>\n",
       "      <td>53</td>\n",
       "      <td>20</td>\n",
       "      <td>5</td>\n",
       "    </tr>\n",
       "    <tr>\n",
       "      <th>3</th>\n",
       "      <td>0</td>\n",
       "      <td>852</td>\n",
       "      <td>139</td>\n",
       "      <td>245</td>\n",
       "      <td>8</td>\n",
       "      <td>75</td>\n",
       "      <td>23</td>\n",
       "      <td>2</td>\n",
       "      <td>1</td>\n",
       "    </tr>\n",
       "    <tr>\n",
       "      <th>4</th>\n",
       "      <td>0</td>\n",
       "      <td>61</td>\n",
       "      <td>3</td>\n",
       "      <td>1</td>\n",
       "      <td>1304</td>\n",
       "      <td>0</td>\n",
       "      <td>0</td>\n",
       "      <td>1</td>\n",
       "      <td>0</td>\n",
       "    </tr>\n",
       "    <tr>\n",
       "      <th>5</th>\n",
       "      <td>35</td>\n",
       "      <td>140</td>\n",
       "      <td>8</td>\n",
       "      <td>8</td>\n",
       "      <td>3</td>\n",
       "      <td>6539</td>\n",
       "      <td>79</td>\n",
       "      <td>130</td>\n",
       "      <td>126</td>\n",
       "    </tr>\n",
       "    <tr>\n",
       "      <th>6</th>\n",
       "      <td>14</td>\n",
       "      <td>305</td>\n",
       "      <td>88</td>\n",
       "      <td>8</td>\n",
       "      <td>4</td>\n",
       "      <td>136</td>\n",
       "      <td>754</td>\n",
       "      <td>99</td>\n",
       "      <td>12</td>\n",
       "    </tr>\n",
       "    <tr>\n",
       "      <th>7</th>\n",
       "      <td>70</td>\n",
       "      <td>95</td>\n",
       "      <td>12</td>\n",
       "      <td>0</td>\n",
       "      <td>1</td>\n",
       "      <td>125</td>\n",
       "      <td>32</td>\n",
       "      <td>3824</td>\n",
       "      <td>73</td>\n",
       "    </tr>\n",
       "    <tr>\n",
       "      <th>8</th>\n",
       "      <td>47</td>\n",
       "      <td>128</td>\n",
       "      <td>2</td>\n",
       "      <td>2</td>\n",
       "      <td>4</td>\n",
       "      <td>92</td>\n",
       "      <td>6</td>\n",
       "      <td>118</td>\n",
       "      <td>2078</td>\n",
       "    </tr>\n",
       "  </tbody>\n",
       "</table>\n",
       "</div>"
      ],
      "text/plain": [
       "     0     1     2    3     4     5    6     7     8\n",
       "0  331   113     0    0     1    96   21   169   233\n",
       "1    9  7210   682   26    35    23   46    23     7\n",
       "2    0  2855  1045   15     0     9   53    20     5\n",
       "3    0   852   139  245     8    75   23     2     1\n",
       "4    0    61     3    1  1304     0    0     1     0\n",
       "5   35   140     8    8     3  6539   79   130   126\n",
       "6   14   305    88    8     4   136  754    99    12\n",
       "7   70    95    12    0     1   125   32  3824    73\n",
       "8   47   128     2    2     4    92    6   118  2078"
      ]
     },
     "execution_count": 68,
     "metadata": {},
     "output_type": "execute_result"
    }
   ],
   "source": [
    "predict_y = ovr_classifier.predict(test_X)\n",
    "\n",
    "pd.DataFrame(confusion_matrix(test_y, predict_y))"
   ]
  },
  {
   "cell_type": "markdown",
   "metadata": {},
   "source": [
    "**Accuracy**"
   ]
  },
  {
   "cell_type": "code",
   "execution_count": 69,
   "metadata": {},
   "outputs": [
    {
     "name": "stdout",
     "output_type": "stream",
     "text": [
      "Accuracy 75.406%\n"
     ]
    }
   ],
   "source": [
    "print(\"Accuracy %.3f%%\" % (100 * ovr_classifier.score(test_X, test_y)))"
   ]
  },
  {
   "cell_type": "markdown",
   "metadata": {},
   "source": [
    "### One-vs-one"
   ]
  },
  {
   "cell_type": "markdown",
   "metadata": {},
   "source": [
    "<img src=\"figures/ovo.png\" title=\"один против одного\"/>"
   ]
  },
  {
   "cell_type": "markdown",
   "metadata": {},
   "source": [
    "*One-vs-one* approach is the following:"
   ]
  },
  {
   "cell_type": "markdown",
   "metadata": {},
   "source": [
    "* **Train**: for every pair of different labels $i, j \\in \\{1.. K\\}$, $i \\prec j$, train a classifier $h_{ij}$, which separates objects of class $j$ from class $i$;\n",
    "\n",
    "```python\n",
    "def fit(X, y):\n",
    "    classifiers, n_classes = {}, len(classes)\n",
    "    for i in range(n_classes):\n",
    "        for j in range(i+1, n_classes):\n",
    "            mask = (y == i) | (y == j)\n",
    "            \n",
    "            # j -- 1, i -- 0\n",
    "            y_ij = np.where(y[mask] == j, 1, 0)\n",
    "            classifiers[(i, j)] = clone(classifier).fit(X[mask], y_ij)\n",
    "```"
   ]
  },
  {
   "cell_type": "markdown",
   "metadata": {},
   "source": [
    "* **Predict**: apply all$\\frac12K (K-1)$ classifiers to a new point $x$ and choose a class which has most of the \"votes\".\n",
    "\n",
    "```python\n",
    "def predict(X):\n",
    "    votes = np.zeros((n_samples, n_classes))\n",
    "    for i in range(n_classes):\n",
    "        for j in range(i+1, n_classes):\n",
    "            predicted = classifiers[(i, j)].predict(X)\n",
    "\n",
    "            votes[predicted == 0, i] += 1\n",
    "            votes[predicted == 1, j] += 1\n",
    "            \n",
    "    return classes[np.argmax(votes, axis=1)]\n",
    "```"
   ]
  },
  {
   "cell_type": "code",
   "execution_count": 70,
   "metadata": {
    "collapsed": true
   },
   "outputs": [],
   "source": [
    "from sklearn.multiclass import OneVsOneClassifier"
   ]
  },
  {
   "cell_type": "markdown",
   "metadata": {},
   "source": [
    "Apply **ovo**."
   ]
  },
  {
   "cell_type": "code",
   "execution_count": 71,
   "metadata": {},
   "outputs": [
    {
     "data": {
      "text/plain": [
       "OneVsOneClassifier(estimator=LogisticRegression(C=1.0, class_weight=None, dual=False, fit_intercept=True,\n",
       "          intercept_scaling=1, max_iter=100, multi_class='ovr', n_jobs=1,\n",
       "          penalty='l2', random_state=None, solver='liblinear', tol=0.0001,\n",
       "          verbose=0, warm_start=False),\n",
       "          n_jobs=1)"
      ]
     },
     "execution_count": 71,
     "metadata": {},
     "output_type": "execute_result"
    }
   ],
   "source": [
    "ovo_classifier = OneVsOneClassifier(clone(model))\n",
    "\n",
    "ovo_classifier.fit(train_X, train_y)"
   ]
  },
  {
   "cell_type": "markdown",
   "metadata": {},
   "source": [
    "Confusion matrix"
   ]
  },
  {
   "cell_type": "code",
   "execution_count": 72,
   "metadata": {},
   "outputs": [
    {
     "data": {
      "text/html": [
       "<div>\n",
       "<style>\n",
       "    .dataframe thead tr:only-child th {\n",
       "        text-align: right;\n",
       "    }\n",
       "\n",
       "    .dataframe thead th {\n",
       "        text-align: left;\n",
       "    }\n",
       "\n",
       "    .dataframe tbody tr th {\n",
       "        vertical-align: top;\n",
       "    }\n",
       "</style>\n",
       "<table border=\"1\" class=\"dataframe\">\n",
       "  <thead>\n",
       "    <tr style=\"text-align: right;\">\n",
       "      <th></th>\n",
       "      <th>0</th>\n",
       "      <th>1</th>\n",
       "      <th>2</th>\n",
       "      <th>3</th>\n",
       "      <th>4</th>\n",
       "      <th>5</th>\n",
       "      <th>6</th>\n",
       "      <th>7</th>\n",
       "      <th>8</th>\n",
       "    </tr>\n",
       "  </thead>\n",
       "  <tbody>\n",
       "    <tr>\n",
       "      <th>0</th>\n",
       "      <td>417</td>\n",
       "      <td>36</td>\n",
       "      <td>1</td>\n",
       "      <td>1</td>\n",
       "      <td>2</td>\n",
       "      <td>95</td>\n",
       "      <td>35</td>\n",
       "      <td>148</td>\n",
       "      <td>229</td>\n",
       "    </tr>\n",
       "    <tr>\n",
       "      <th>1</th>\n",
       "      <td>12</td>\n",
       "      <td>7037</td>\n",
       "      <td>724</td>\n",
       "      <td>117</td>\n",
       "      <td>28</td>\n",
       "      <td>31</td>\n",
       "      <td>56</td>\n",
       "      <td>33</td>\n",
       "      <td>23</td>\n",
       "    </tr>\n",
       "    <tr>\n",
       "      <th>2</th>\n",
       "      <td>5</td>\n",
       "      <td>2684</td>\n",
       "      <td>1158</td>\n",
       "      <td>54</td>\n",
       "      <td>1</td>\n",
       "      <td>6</td>\n",
       "      <td>60</td>\n",
       "      <td>26</td>\n",
       "      <td>8</td>\n",
       "    </tr>\n",
       "    <tr>\n",
       "      <th>3</th>\n",
       "      <td>1</td>\n",
       "      <td>659</td>\n",
       "      <td>116</td>\n",
       "      <td>483</td>\n",
       "      <td>11</td>\n",
       "      <td>46</td>\n",
       "      <td>23</td>\n",
       "      <td>1</td>\n",
       "      <td>5</td>\n",
       "    </tr>\n",
       "    <tr>\n",
       "      <th>4</th>\n",
       "      <td>2</td>\n",
       "      <td>50</td>\n",
       "      <td>1</td>\n",
       "      <td>2</td>\n",
       "      <td>1311</td>\n",
       "      <td>0</td>\n",
       "      <td>0</td>\n",
       "      <td>1</td>\n",
       "      <td>3</td>\n",
       "    </tr>\n",
       "    <tr>\n",
       "      <th>5</th>\n",
       "      <td>59</td>\n",
       "      <td>58</td>\n",
       "      <td>10</td>\n",
       "      <td>26</td>\n",
       "      <td>1</td>\n",
       "      <td>6545</td>\n",
       "      <td>107</td>\n",
       "      <td>140</td>\n",
       "      <td>122</td>\n",
       "    </tr>\n",
       "    <tr>\n",
       "      <th>6</th>\n",
       "      <td>38</td>\n",
       "      <td>207</td>\n",
       "      <td>87</td>\n",
       "      <td>16</td>\n",
       "      <td>7</td>\n",
       "      <td>132</td>\n",
       "      <td>837</td>\n",
       "      <td>83</td>\n",
       "      <td>13</td>\n",
       "    </tr>\n",
       "    <tr>\n",
       "      <th>7</th>\n",
       "      <td>105</td>\n",
       "      <td>55</td>\n",
       "      <td>10</td>\n",
       "      <td>2</td>\n",
       "      <td>3</td>\n",
       "      <td>123</td>\n",
       "      <td>51</td>\n",
       "      <td>3796</td>\n",
       "      <td>87</td>\n",
       "    </tr>\n",
       "    <tr>\n",
       "      <th>8</th>\n",
       "      <td>117</td>\n",
       "      <td>39</td>\n",
       "      <td>5</td>\n",
       "      <td>4</td>\n",
       "      <td>5</td>\n",
       "      <td>94</td>\n",
       "      <td>10</td>\n",
       "      <td>100</td>\n",
       "      <td>2103</td>\n",
       "    </tr>\n",
       "  </tbody>\n",
       "</table>\n",
       "</div>"
      ],
      "text/plain": [
       "     0     1     2    3     4     5    6     7     8\n",
       "0  417    36     1    1     2    95   35   148   229\n",
       "1   12  7037   724  117    28    31   56    33    23\n",
       "2    5  2684  1158   54     1     6   60    26     8\n",
       "3    1   659   116  483    11    46   23     1     5\n",
       "4    2    50     1    2  1311     0    0     1     3\n",
       "5   59    58    10   26     1  6545  107   140   122\n",
       "6   38   207    87   16     7   132  837    83    13\n",
       "7  105    55    10    2     3   123   51  3796    87\n",
       "8  117    39     5    4     5    94   10   100  2103"
      ]
     },
     "execution_count": 72,
     "metadata": {},
     "output_type": "execute_result"
    }
   ],
   "source": [
    "predict_y = ovo_classifier.predict(test_X)\n",
    "\n",
    "pd.DataFrame(confusion_matrix(test_y, predict_y))"
   ]
  },
  {
   "cell_type": "markdown",
   "metadata": {},
   "source": [
    "**Accuracy**"
   ]
  },
  {
   "cell_type": "code",
   "execution_count": 73,
   "metadata": {},
   "outputs": [
    {
     "name": "stdout",
     "output_type": "stream",
     "text": [
      "Accuracy 76.560%\n"
     ]
    }
   ],
   "source": [
    "print(\"Accuracy %.3f%%\" % (100 * ovo_classifier.score(test_X, test_y)))"
   ]
  },
  {
   "cell_type": "markdown",
   "metadata": {},
   "source": [
    "### Output coding"
   ]
  },
  {
   "cell_type": "markdown",
   "metadata": {},
   "source": [
    "<img src=\"figures/coding.png\" title=\"бинарное кодирование меток\" />"
   ]
  },
  {
   "cell_type": "markdown",
   "metadata": {},
   "source": [
    "The algorithm for output coding is:"
   ]
  },
  {
   "cell_type": "markdown",
   "metadata": {},
   "source": [
    "* **Preprocessing**: for every label $\\{1..K\\}$ assign a unique binary string of length $L$ -- **code** of a class;\n",
    "* **Train**: Train binary classifier on labels $0-1$ in every position of binary string;\n",
    "\n",
    "```python\n",
    "def fit(X, y):\n",
    "    classifiers, n_classes = [], len(classes)\n",
    "    code_book = ... # pairwise exclusive binary vectors\n",
    "                    #  in a table of size n_classes x n_code_size\n",
    "\n",
    "    # map labels to numbers and encode\n",
    "    label_map = LabelEncoder().fit(y)\n",
    "    class_index = label_map.transform(y)\n",
    "    encoding = code_book.take(class_index, axis=0)\n",
    "\n",
    "    for i in range(n_code_size):\n",
    "        y_i = encoding[:, i]\n",
    "        classifiers.append(clone(classifier).fit(X, y_i))\n",
    "```"
   ]
  },
  {
   "cell_type": "markdown",
   "metadata": {},
   "source": [
    "* **Predict**: for test object combine **binary string from predictions** of every classifier and find **the closest code** in **coding table**.\n",
    "\n",
    "```python\n",
    "def predict(X):\n",
    "    scores = []\n",
    "    for clf in classifiers:\n",
    "        scores.append(clf.predict(X))\n",
    "\n",
    "    # obtain matrices of pairwise diustances n_samples x n_classes    \n",
    "    scores = np.stack(scores, axis=1)\n",
    "    distances = pairwise_distance(scores, code_book)\n",
    "\n",
    "    return classes[np.argmin(distances, axis=1)]\n",
    "```"
   ]
  },
  {
   "cell_type": "markdown",
   "metadata": {},
   "source": [
    "Coding table may be filled by different codes, but the most popular are:\n",
    "* Random binary strings;\n",
    "* Error correcting codes."
   ]
  },
  {
   "cell_type": "markdown",
   "metadata": {},
   "source": [
    "# Exercise 3\n",
    "\n",
    "Try to figure out Output coding by yourself.\n",
    "\n",
    "* First, import OutputCodeClassifer.\n",
    "* Specify a code size such that the code is **twice** longer than a number of classes.\n",
    "* Train a model, see a confusion matrix and calculate accuracy."
   ]
  },
  {
   "cell_type": "code",
   "execution_count": 74,
   "metadata": {
    "collapsed": true
   },
   "outputs": [],
   "source": [
    "from sklearn.multiclass import OutputCodeClassifier"
   ]
  },
  {
   "cell_type": "markdown",
   "metadata": {},
   "source": [
    "Apply **Output Coding**."
   ]
  },
  {
   "cell_type": "code",
   "execution_count": 75,
   "metadata": {},
   "outputs": [
    {
     "data": {
      "text/plain": [
       "OutputCodeClassifier(code_size=2.0,\n",
       "           estimator=LogisticRegression(C=1.0, class_weight=None, dual=False, fit_intercept=True,\n",
       "          intercept_scaling=1, max_iter=100, multi_class='ovr', n_jobs=1,\n",
       "          penalty='l2', random_state=None, solver='liblinear', tol=0.0001,\n",
       "          verbose=0, warm_start=False),\n",
       "           n_jobs=1, random_state=None)"
      ]
     },
     "execution_count": 75,
     "metadata": {},
     "output_type": "execute_result"
    }
   ],
   "source": [
    "oc_classifier = OutputCodeClassifier(\n",
    "    clone(model),\n",
    "    code_size=2.)\n",
    "\n",
    "oc_classifier.fit(train_X, train_y)"
   ]
  },
  {
   "cell_type": "markdown",
   "metadata": {},
   "source": [
    "Confusion matrix"
   ]
  },
  {
   "cell_type": "code",
   "execution_count": 76,
   "metadata": {},
   "outputs": [
    {
     "data": {
      "text/html": [
       "<div>\n",
       "<style>\n",
       "    .dataframe thead tr:only-child th {\n",
       "        text-align: right;\n",
       "    }\n",
       "\n",
       "    .dataframe thead th {\n",
       "        text-align: left;\n",
       "    }\n",
       "\n",
       "    .dataframe tbody tr th {\n",
       "        vertical-align: top;\n",
       "    }\n",
       "</style>\n",
       "<table border=\"1\" class=\"dataframe\">\n",
       "  <thead>\n",
       "    <tr style=\"text-align: right;\">\n",
       "      <th></th>\n",
       "      <th>0</th>\n",
       "      <th>1</th>\n",
       "      <th>2</th>\n",
       "      <th>3</th>\n",
       "      <th>4</th>\n",
       "      <th>5</th>\n",
       "      <th>6</th>\n",
       "      <th>7</th>\n",
       "      <th>8</th>\n",
       "    </tr>\n",
       "  </thead>\n",
       "  <tbody>\n",
       "    <tr>\n",
       "      <th>0</th>\n",
       "      <td>275</td>\n",
       "      <td>179</td>\n",
       "      <td>0</td>\n",
       "      <td>1</td>\n",
       "      <td>2</td>\n",
       "      <td>80</td>\n",
       "      <td>13</td>\n",
       "      <td>180</td>\n",
       "      <td>234</td>\n",
       "    </tr>\n",
       "    <tr>\n",
       "      <th>1</th>\n",
       "      <td>9</td>\n",
       "      <td>7296</td>\n",
       "      <td>609</td>\n",
       "      <td>6</td>\n",
       "      <td>77</td>\n",
       "      <td>14</td>\n",
       "      <td>31</td>\n",
       "      <td>14</td>\n",
       "      <td>5</td>\n",
       "    </tr>\n",
       "    <tr>\n",
       "      <th>2</th>\n",
       "      <td>0</td>\n",
       "      <td>3028</td>\n",
       "      <td>861</td>\n",
       "      <td>3</td>\n",
       "      <td>45</td>\n",
       "      <td>6</td>\n",
       "      <td>46</td>\n",
       "      <td>9</td>\n",
       "      <td>4</td>\n",
       "    </tr>\n",
       "    <tr>\n",
       "      <th>3</th>\n",
       "      <td>0</td>\n",
       "      <td>969</td>\n",
       "      <td>170</td>\n",
       "      <td>106</td>\n",
       "      <td>9</td>\n",
       "      <td>79</td>\n",
       "      <td>10</td>\n",
       "      <td>1</td>\n",
       "      <td>1</td>\n",
       "    </tr>\n",
       "    <tr>\n",
       "      <th>4</th>\n",
       "      <td>0</td>\n",
       "      <td>89</td>\n",
       "      <td>3</td>\n",
       "      <td>0</td>\n",
       "      <td>1276</td>\n",
       "      <td>0</td>\n",
       "      <td>0</td>\n",
       "      <td>1</td>\n",
       "      <td>1</td>\n",
       "    </tr>\n",
       "    <tr>\n",
       "      <th>5</th>\n",
       "      <td>43</td>\n",
       "      <td>179</td>\n",
       "      <td>5</td>\n",
       "      <td>12</td>\n",
       "      <td>0</td>\n",
       "      <td>6511</td>\n",
       "      <td>72</td>\n",
       "      <td>133</td>\n",
       "      <td>113</td>\n",
       "    </tr>\n",
       "    <tr>\n",
       "      <th>6</th>\n",
       "      <td>1</td>\n",
       "      <td>427</td>\n",
       "      <td>68</td>\n",
       "      <td>6</td>\n",
       "      <td>6</td>\n",
       "      <td>124</td>\n",
       "      <td>690</td>\n",
       "      <td>91</td>\n",
       "      <td>7</td>\n",
       "    </tr>\n",
       "    <tr>\n",
       "      <th>7</th>\n",
       "      <td>47</td>\n",
       "      <td>197</td>\n",
       "      <td>8</td>\n",
       "      <td>2</td>\n",
       "      <td>2</td>\n",
       "      <td>110</td>\n",
       "      <td>23</td>\n",
       "      <td>3785</td>\n",
       "      <td>58</td>\n",
       "    </tr>\n",
       "    <tr>\n",
       "      <th>8</th>\n",
       "      <td>82</td>\n",
       "      <td>145</td>\n",
       "      <td>0</td>\n",
       "      <td>7</td>\n",
       "      <td>7</td>\n",
       "      <td>83</td>\n",
       "      <td>6</td>\n",
       "      <td>130</td>\n",
       "      <td>2017</td>\n",
       "    </tr>\n",
       "  </tbody>\n",
       "</table>\n",
       "</div>"
      ],
      "text/plain": [
       "     0     1    2    3     4     5    6     7     8\n",
       "0  275   179    0    1     2    80   13   180   234\n",
       "1    9  7296  609    6    77    14   31    14     5\n",
       "2    0  3028  861    3    45     6   46     9     4\n",
       "3    0   969  170  106     9    79   10     1     1\n",
       "4    0    89    3    0  1276     0    0     1     1\n",
       "5   43   179    5   12     0  6511   72   133   113\n",
       "6    1   427   68    6     6   124  690    91     7\n",
       "7   47   197    8    2     2   110   23  3785    58\n",
       "8   82   145    0    7     7    83    6   130  2017"
      ]
     },
     "execution_count": 76,
     "metadata": {},
     "output_type": "execute_result"
    }
   ],
   "source": [
    "predict_y = oc_classifier.predict(test_X)\n",
    "\n",
    "pd.DataFrame(confusion_matrix(test_y, predict_y))"
   ]
  },
  {
   "cell_type": "markdown",
   "metadata": {},
   "source": [
    "**Accuracy**"
   ]
  },
  {
   "cell_type": "code",
   "execution_count": 77,
   "metadata": {},
   "outputs": [
    {
     "name": "stdout",
     "output_type": "stream",
     "text": [
      "Accuracy 73.748%\n"
     ]
    }
   ],
   "source": [
    "print(\"Accuracy %.3f%%\" % (100 * oc_classifier.score(test_X, test_y)))"
   ]
  },
  {
   "cell_type": "markdown",
   "metadata": {},
   "source": [
    "<br/>"
   ]
  },
  {
   "cell_type": "code",
   "execution_count": null,
   "metadata": {
    "collapsed": true
   },
   "outputs": [],
   "source": []
  }
 ],
 "metadata": {
  "_change_revision": 36,
  "_is_fork": false,
  "kernelspec": {
   "display_name": "Python 3",
   "language": "python",
   "name": "python3"
  },
  "language_info": {
   "codemirror_mode": {
    "name": "ipython",
    "version": 3
   },
   "file_extension": ".py",
   "mimetype": "text/x-python",
   "name": "python",
   "nbconvert_exporter": "python",
   "pygments_lexer": "ipython3",
   "version": "3.6.3"
  }
 },
 "nbformat": 4,
 "nbformat_minor": 1
}
