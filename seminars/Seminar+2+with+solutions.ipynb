{
 "cells": [
  {
   "cell_type": "markdown",
   "metadata": {
    "collapsed": true
   },
   "source": [
    "# Seminar 2: Linear Regression\n",
    "Course: MA06018, Machine Learning by professor Evgeny Burnaev <br\\>\n",
    "Author: Evgenii Egorov"
   ]
  },
  {
   "cell_type": "code",
   "execution_count": 1,
   "metadata": {
    "collapsed": true
   },
   "outputs": [],
   "source": [
    "import numpy as np\n",
    "import pandas as pd \n",
    "from pandas import Series, DataFrame\n",
    "import matplotlib.pyplot as plt\n",
    "%matplotlib inline"
   ]
  },
  {
   "cell_type": "markdown",
   "metadata": {},
   "source": [
    "### Table of containts:\n",
    "* [Dataset manipulation](#df) \n",
    "* Simple Linear Regression, $L_2$ (\"ridge\") Regularization [Exercise 1](#ols_1)\n",
    "* $L_1$ Regulariztion (\"lasso\") [Exercise 1](#ols_2)\n",
    "* Total Variation Regularization (\"fused lasso\")\n",
    "    [Exercise 1](#tv_1)\n",
    "    [Exercise 2](#tv_2)\n",
    "    [Exercise 3](#tv_3)\n",
    "    [Exercise 4](#tv_4)\n",
    "    [Exercise 5](#tv_5)"
   ]
  },
  {
   "cell_type": "markdown",
   "metadata": {},
   "source": [
    "<a id='df'></a>\n",
    "### Dataset \"Melbourne Housing Snapshot\""
   ]
  },
  {
   "cell_type": "code",
   "execution_count": 3,
   "metadata": {
    "collapsed": true
   },
   "outputs": [],
   "source": [
    "data = pd.read_csv('data/melburn_data.csv', index_col='Unnamed: 0')"
   ]
  },
  {
   "cell_type": "code",
   "execution_count": 4,
   "metadata": {},
   "outputs": [
    {
     "name": "stdout",
     "output_type": "stream",
     "text": [
      "Suburb 0 Reservoir\n",
      "Address 0 1/1 Clarendon St\n",
      "Rooms 0 3\n",
      "Type 0 h\n",
      "Price 0 600000.0\n",
      "Method 0 S\n",
      "SellerG 0 Nelson\n",
      "Date 0 27/05/2017\n",
      "Distance 1 11.2\n",
      "Postcode 1 3073.0\n",
      "Bedroom2 3469 3.0\n",
      "Bathroom 3471 1.0\n",
      "Car 3576 2.0\n",
      "Landsize 4793 0.0\n",
      "BuildingArea 10634 120.0\n",
      "YearBuilt 9438 1970.0\n",
      "CouncilArea 6163 Moreland\n",
      "Lattitude 3332 -37.8361\n",
      "Longtitude 3332 144.9966\n",
      "Regionname 1 Southern Metropolitan\n",
      "Propertycount 1 21650.0\n"
     ]
    }
   ],
   "source": [
    "[print(col, data[col].isnull().sum(), data[col].mode()[0]) for col in data.columns];"
   ]
  },
  {
   "cell_type": "code",
   "execution_count": 5,
   "metadata": {
    "collapsed": true
   },
   "outputs": [],
   "source": [
    "data.drop(data.index[data.isnull().sum(axis=1) > 0], axis=0, inplace=True)"
   ]
  },
  {
   "cell_type": "code",
   "execution_count": 6,
   "metadata": {},
   "outputs": [
    {
     "name": "stdout",
     "output_type": "stream",
     "text": [
      "<class 'pandas.core.frame.DataFrame'>\n",
      "Int64Index: 6196 entries, 2 to 19739\n",
      "Data columns (total 21 columns):\n",
      "Suburb           6196 non-null object\n",
      "Address          6196 non-null object\n",
      "Rooms            6196 non-null int64\n",
      "Type             6196 non-null object\n",
      "Price            6196 non-null float64\n",
      "Method           6196 non-null object\n",
      "SellerG          6196 non-null object\n",
      "Date             6196 non-null object\n",
      "Distance         6196 non-null float64\n",
      "Postcode         6196 non-null float64\n",
      "Bedroom2         6196 non-null float64\n",
      "Bathroom         6196 non-null float64\n",
      "Car              6196 non-null float64\n",
      "Landsize         6196 non-null float64\n",
      "BuildingArea     6196 non-null float64\n",
      "YearBuilt        6196 non-null float64\n",
      "CouncilArea      6196 non-null object\n",
      "Lattitude        6196 non-null float64\n",
      "Longtitude       6196 non-null float64\n",
      "Regionname       6196 non-null object\n",
      "Propertycount    6196 non-null float64\n",
      "dtypes: float64(12), int64(1), object(8)\n",
      "memory usage: 1.0+ MB\n"
     ]
    }
   ],
   "source": [
    "data.info()"
   ]
  },
  {
   "cell_type": "code",
   "execution_count": 7,
   "metadata": {},
   "outputs": [
    {
     "data": {
      "text/html": [
       "<div>\n",
       "<style>\n",
       "    .dataframe thead tr:only-child th {\n",
       "        text-align: right;\n",
       "    }\n",
       "\n",
       "    .dataframe thead th {\n",
       "        text-align: left;\n",
       "    }\n",
       "\n",
       "    .dataframe tbody tr th {\n",
       "        vertical-align: top;\n",
       "    }\n",
       "</style>\n",
       "<table border=\"1\" class=\"dataframe\">\n",
       "  <thead>\n",
       "    <tr style=\"text-align: right;\">\n",
       "      <th></th>\n",
       "      <th>Suburb</th>\n",
       "      <th>Address</th>\n",
       "      <th>Rooms</th>\n",
       "      <th>Type</th>\n",
       "      <th>Price</th>\n",
       "      <th>Method</th>\n",
       "      <th>SellerG</th>\n",
       "      <th>Date</th>\n",
       "      <th>Distance</th>\n",
       "      <th>Postcode</th>\n",
       "      <th>...</th>\n",
       "      <th>Bathroom</th>\n",
       "      <th>Car</th>\n",
       "      <th>Landsize</th>\n",
       "      <th>BuildingArea</th>\n",
       "      <th>YearBuilt</th>\n",
       "      <th>CouncilArea</th>\n",
       "      <th>Lattitude</th>\n",
       "      <th>Longtitude</th>\n",
       "      <th>Regionname</th>\n",
       "      <th>Propertycount</th>\n",
       "    </tr>\n",
       "  </thead>\n",
       "  <tbody>\n",
       "    <tr>\n",
       "      <th>2</th>\n",
       "      <td>Abbotsford</td>\n",
       "      <td>25 Bloomburg St</td>\n",
       "      <td>2</td>\n",
       "      <td>h</td>\n",
       "      <td>1035000.0</td>\n",
       "      <td>S</td>\n",
       "      <td>Biggin</td>\n",
       "      <td>4/02/2016</td>\n",
       "      <td>2.5</td>\n",
       "      <td>3067.0</td>\n",
       "      <td>...</td>\n",
       "      <td>1.0</td>\n",
       "      <td>0.0</td>\n",
       "      <td>156.0</td>\n",
       "      <td>79.0</td>\n",
       "      <td>1900.0</td>\n",
       "      <td>Yarra</td>\n",
       "      <td>-37.8079</td>\n",
       "      <td>144.9934</td>\n",
       "      <td>Northern Metropolitan</td>\n",
       "      <td>4019.0</td>\n",
       "    </tr>\n",
       "    <tr>\n",
       "      <th>4</th>\n",
       "      <td>Abbotsford</td>\n",
       "      <td>5 Charles St</td>\n",
       "      <td>3</td>\n",
       "      <td>h</td>\n",
       "      <td>1465000.0</td>\n",
       "      <td>SP</td>\n",
       "      <td>Biggin</td>\n",
       "      <td>4/03/2017</td>\n",
       "      <td>2.5</td>\n",
       "      <td>3067.0</td>\n",
       "      <td>...</td>\n",
       "      <td>2.0</td>\n",
       "      <td>0.0</td>\n",
       "      <td>134.0</td>\n",
       "      <td>150.0</td>\n",
       "      <td>1900.0</td>\n",
       "      <td>Yarra</td>\n",
       "      <td>-37.8093</td>\n",
       "      <td>144.9944</td>\n",
       "      <td>Northern Metropolitan</td>\n",
       "      <td>4019.0</td>\n",
       "    </tr>\n",
       "    <tr>\n",
       "      <th>6</th>\n",
       "      <td>Abbotsford</td>\n",
       "      <td>55a Park St</td>\n",
       "      <td>4</td>\n",
       "      <td>h</td>\n",
       "      <td>1600000.0</td>\n",
       "      <td>VB</td>\n",
       "      <td>Nelson</td>\n",
       "      <td>4/06/2016</td>\n",
       "      <td>2.5</td>\n",
       "      <td>3067.0</td>\n",
       "      <td>...</td>\n",
       "      <td>1.0</td>\n",
       "      <td>2.0</td>\n",
       "      <td>120.0</td>\n",
       "      <td>142.0</td>\n",
       "      <td>2014.0</td>\n",
       "      <td>Yarra</td>\n",
       "      <td>-37.8072</td>\n",
       "      <td>144.9941</td>\n",
       "      <td>Northern Metropolitan</td>\n",
       "      <td>4019.0</td>\n",
       "    </tr>\n",
       "    <tr>\n",
       "      <th>11</th>\n",
       "      <td>Abbotsford</td>\n",
       "      <td>124 Yarra St</td>\n",
       "      <td>3</td>\n",
       "      <td>h</td>\n",
       "      <td>1876000.0</td>\n",
       "      <td>S</td>\n",
       "      <td>Nelson</td>\n",
       "      <td>7/05/2016</td>\n",
       "      <td>2.5</td>\n",
       "      <td>3067.0</td>\n",
       "      <td>...</td>\n",
       "      <td>2.0</td>\n",
       "      <td>0.0</td>\n",
       "      <td>245.0</td>\n",
       "      <td>210.0</td>\n",
       "      <td>1910.0</td>\n",
       "      <td>Yarra</td>\n",
       "      <td>-37.8024</td>\n",
       "      <td>144.9993</td>\n",
       "      <td>Northern Metropolitan</td>\n",
       "      <td>4019.0</td>\n",
       "    </tr>\n",
       "    <tr>\n",
       "      <th>14</th>\n",
       "      <td>Abbotsford</td>\n",
       "      <td>98 Charles St</td>\n",
       "      <td>2</td>\n",
       "      <td>h</td>\n",
       "      <td>1636000.0</td>\n",
       "      <td>S</td>\n",
       "      <td>Nelson</td>\n",
       "      <td>8/10/2016</td>\n",
       "      <td>2.5</td>\n",
       "      <td>3067.0</td>\n",
       "      <td>...</td>\n",
       "      <td>1.0</td>\n",
       "      <td>2.0</td>\n",
       "      <td>256.0</td>\n",
       "      <td>107.0</td>\n",
       "      <td>1890.0</td>\n",
       "      <td>Yarra</td>\n",
       "      <td>-37.8060</td>\n",
       "      <td>144.9954</td>\n",
       "      <td>Northern Metropolitan</td>\n",
       "      <td>4019.0</td>\n",
       "    </tr>\n",
       "  </tbody>\n",
       "</table>\n",
       "<p>5 rows × 21 columns</p>\n",
       "</div>"
      ],
      "text/plain": [
       "        Suburb          Address  Rooms Type      Price Method SellerG  \\\n",
       "2   Abbotsford  25 Bloomburg St      2    h  1035000.0      S  Biggin   \n",
       "4   Abbotsford     5 Charles St      3    h  1465000.0     SP  Biggin   \n",
       "6   Abbotsford      55a Park St      4    h  1600000.0     VB  Nelson   \n",
       "11  Abbotsford     124 Yarra St      3    h  1876000.0      S  Nelson   \n",
       "14  Abbotsford    98 Charles St      2    h  1636000.0      S  Nelson   \n",
       "\n",
       "         Date  Distance  Postcode      ...       Bathroom  Car  Landsize  \\\n",
       "2   4/02/2016       2.5    3067.0      ...            1.0  0.0     156.0   \n",
       "4   4/03/2017       2.5    3067.0      ...            2.0  0.0     134.0   \n",
       "6   4/06/2016       2.5    3067.0      ...            1.0  2.0     120.0   \n",
       "11  7/05/2016       2.5    3067.0      ...            2.0  0.0     245.0   \n",
       "14  8/10/2016       2.5    3067.0      ...            1.0  2.0     256.0   \n",
       "\n",
       "    BuildingArea  YearBuilt  CouncilArea Lattitude  Longtitude  \\\n",
       "2           79.0     1900.0        Yarra  -37.8079    144.9934   \n",
       "4          150.0     1900.0        Yarra  -37.8093    144.9944   \n",
       "6          142.0     2014.0        Yarra  -37.8072    144.9941   \n",
       "11         210.0     1910.0        Yarra  -37.8024    144.9993   \n",
       "14         107.0     1890.0        Yarra  -37.8060    144.9954   \n",
       "\n",
       "               Regionname Propertycount  \n",
       "2   Northern Metropolitan        4019.0  \n",
       "4   Northern Metropolitan        4019.0  \n",
       "6   Northern Metropolitan        4019.0  \n",
       "11  Northern Metropolitan        4019.0  \n",
       "14  Northern Metropolitan        4019.0  \n",
       "\n",
       "[5 rows x 21 columns]"
      ]
     },
     "execution_count": 7,
     "metadata": {},
     "output_type": "execute_result"
    }
   ],
   "source": [
    "data.head()"
   ]
  },
  {
   "cell_type": "code",
   "execution_count": 8,
   "metadata": {
    "collapsed": true
   },
   "outputs": [],
   "source": [
    "X_names = ['Rooms', 'Distance', 'Bedroom2', 'Bathroom', 'Car',  'Lattitude', 'Longtitude', 'Propertycount']\n",
    "y_name = ['Price']\n",
    "\n",
    "X = data[X_names]\n",
    "y = data[y_name]"
   ]
  },
  {
   "cell_type": "code",
   "execution_count": 9,
   "metadata": {},
   "outputs": [
    {
     "data": {
      "image/png": "[encoded data removed]",
      "text/plain": [
       "<matplotlib.figure.Figure at 0x105f5e320>"
      ]
     },
     "metadata": {},
     "output_type": "display_data"
    }
   ],
   "source": [
    "plt.hist(y.values);"
   ]
  },
  {
   "cell_type": "code",
   "execution_count": 10,
   "metadata": {
    "collapsed": true
   },
   "outputs": [],
   "source": [
    "y = y / np.max(y)"
   ]
  },
  {
   "cell_type": "code",
   "execution_count": 11,
   "metadata": {},
   "outputs": [
    {
     "data": {
      "image/png": "[encoded data removed]",
      "text/plain": [
       "<matplotlib.figure.Figure at 0x105fd6588>"
      ]
     },
     "metadata": {},
     "output_type": "display_data"
    }
   ],
   "source": [
    "plt.hist(y.values);"
   ]
  },
  {
   "cell_type": "code",
   "execution_count": 12,
   "metadata": {
    "collapsed": true
   },
   "outputs": [],
   "source": [
    "from sklearn.model_selection import train_test_split\n",
    "from sklearn.metrics import mean_squared_error, mean_absolute_error, r2_score"
   ]
  },
  {
   "cell_type": "code",
   "execution_count": 13,
   "metadata": {
    "collapsed": true
   },
   "outputs": [],
   "source": [
    "X_train, X_test, y_train, y_test = train_test_split(X, y, test_size=0.25, shuffle=True, random_state=1010)"
   ]
  },
  {
   "cell_type": "markdown",
   "metadata": {},
   "source": [
    "### Simple Linear Regression"
   ]
  },
  {
   "cell_type": "code",
   "execution_count": 14,
   "metadata": {
    "collapsed": true
   },
   "outputs": [],
   "source": [
    "from sklearn.linear_model import LinearRegression as LR"
   ]
  },
  {
   "cell_type": "markdown",
   "metadata": {},
   "source": [
    "Please visti http://scikit-learn.org/stable/modules/generated/sklearn.linear_model.LinearRegression.html and find out method of solving, that LinearRegression use"
   ]
  },
  {
   "cell_type": "code",
   "execution_count": 15,
   "metadata": {},
   "outputs": [
    {
     "data": {
      "text/plain": [
       "LinearRegression(copy_X=True, fit_intercept=True, n_jobs=1, normalize=False)"
      ]
     },
     "execution_count": 15,
     "metadata": {},
     "output_type": "execute_result"
    }
   ],
   "source": [
    "ols = LR(fit_intercept=True, normalize=False)\n",
    "ols.fit(X_train, y_train)"
   ]
  },
  {
   "cell_type": "code",
   "execution_count": 16,
   "metadata": {
    "collapsed": true
   },
   "outputs": [],
   "source": [
    "def RegressionModelScores(model, true_values, predictions, give_coeff=False):\n",
    "    print(\"Sqrt of mean squared error: %.4f\"\n",
    "          % mean_squared_error(true_values, predictions) ** 0.5)\n",
    "    print(\"Mean absolute error: %.4f\"\n",
    "          % mean_absolute_error(true_values, predictions))\n",
    "    # Explained variance score: 1 is perfect prediction\n",
    "    print('Variance score: %.4f' % r2_score(true_values, predictions))\n",
    "    plt.hist(model.coef_);\n",
    "    if give_coeff:\n",
    "        return model.coef_"
   ]
  },
  {
   "cell_type": "code",
   "execution_count": 17,
   "metadata": {},
   "outputs": [
    {
     "name": "stdout",
     "output_type": "stream",
     "text": [
      "Sqrt of mean squared error: 0.0479\n",
      "Mean absolute error: 0.0339\n",
      "Variance score: 0.5529\n"
     ]
    },
    {
     "data": {
      "image/png": "[encoded data removed]",
      "text/plain": [
       "<matplotlib.figure.Figure at 0x1a11f3d320>"
      ]
     },
     "metadata": {},
     "output_type": "display_data"
    }
   ],
   "source": [
    "predictions = ols.predict(X_test)\n",
    "RegressionModelScores(ols, y_test, predictions)"
   ]
  },
  {
   "cell_type": "markdown",
   "metadata": {},
   "source": [
    "<a id='ols_1'></a>\n",
    "*** LR Exercise 1 ***"
   ]
  },
  {
   "cell_type": "markdown",
   "metadata": {},
   "source": [
    "$$\n",
    "\\hat{y} = X(X^TX)^{-1}X^Ty = Hy \n",
    "$$\n",
    "\n",
    "And $h_{ii} = \\sum_{j}h_{ij}^2$. Hence $h_{ii}$ is measue influence of $i$-th data point to result prediction. Sometimes deleting leveraged points help. Try on this dataset, but be carefull."
   ]
  },
  {
   "cell_type": "markdown",
   "metadata": {},
   "source": [
    "** Solution **"
   ]
  },
  {
   "cell_type": "code",
   "execution_count": 18,
   "metadata": {},
   "outputs": [
    {
     "data": {
      "image/png": "[encoded data removed]",
      "text/plain": [
       "<matplotlib.figure.Figure at 0x1a11f97630>"
      ]
     },
     "metadata": {},
     "output_type": "display_data"
    }
   ],
   "source": [
    "H = X_train.values @ np.linalg.inv(X_train.values.T @ X_train.values) @ X_train.values.T \n",
    "h = np.diagonal(H)\n",
    "plt.plot(h);"
   ]
  },
  {
   "cell_type": "code",
   "execution_count": 19,
   "metadata": {},
   "outputs": [
    {
     "data": {
      "image/png": "[encoded data removed]",
      "text/plain": [
       "<matplotlib.figure.Figure at 0x1a12017d30>"
      ]
     },
     "metadata": {},
     "output_type": "display_data"
    }
   ],
   "source": [
    "plt.hist(h);"
   ]
  },
  {
   "cell_type": "code",
   "execution_count": 20,
   "metadata": {
    "collapsed": true
   },
   "outputs": [],
   "source": [
    "X_train_no_lv = X_train[h < 0.04]\n",
    "y_train_no_lv = y_train[h < 0.04]"
   ]
  },
  {
   "cell_type": "code",
   "execution_count": 21,
   "metadata": {},
   "outputs": [
    {
     "data": {
      "text/plain": [
       "LinearRegression(copy_X=True, fit_intercept=True, n_jobs=1, normalize=False)"
      ]
     },
     "execution_count": 21,
     "metadata": {},
     "output_type": "execute_result"
    }
   ],
   "source": [
    "ols_no_lv = LR(fit_intercept=True, normalize=False)\n",
    "ols_no_lv.fit(X_train_no_lv, y_train_no_lv)"
   ]
  },
  {
   "cell_type": "code",
   "execution_count": 22,
   "metadata": {},
   "outputs": [
    {
     "name": "stdout",
     "output_type": "stream",
     "text": [
      "Sqrt of mean squared error: 0.0478\n",
      "Mean absolute error: 0.0339\n",
      "Variance score: 0.5536\n"
     ]
    },
    {
     "data": {
      "image/png": "[encoded data removed]",
      "text/plain": [
       "<matplotlib.figure.Figure at 0x10625a898>"
      ]
     },
     "metadata": {},
     "output_type": "display_data"
    }
   ],
   "source": [
    "predictions_no_lvl = ols_no_lv.predict(X_test)\n",
    "RegressionModelScores(ols_no_lv, y_test, predictions_no_lvl)"
   ]
  },
  {
   "cell_type": "markdown",
   "metadata": {},
   "source": [
    "We get some improvment!"
   ]
  },
  {
   "cell_type": "markdown",
   "metadata": {},
   "source": [
    "However, score is so smole. Let's start with adding polynomial features and $l_2$ regularization as they are potentially corrilated. To tune its hyperparametr, we will use crossvalidation grid search"
   ]
  },
  {
   "cell_type": "code",
   "execution_count": 23,
   "metadata": {
    "collapsed": true
   },
   "outputs": [],
   "source": [
    "from sklearn.preprocessing import PolynomialFeatures"
   ]
  },
  {
   "cell_type": "code",
   "execution_count": 24,
   "metadata": {
    "collapsed": true
   },
   "outputs": [],
   "source": [
    "polynomial_transformer = PolynomialFeatures(degree=2)\n",
    "X_poly = polynomial_transformer.fit_transform(X)\n",
    "X_train, X_test, y_train, y_test = train_test_split(X_poly, y, test_size=0.25, shuffle=True, random_state=1010)"
   ]
  },
  {
   "cell_type": "code",
   "execution_count": 25,
   "metadata": {
    "collapsed": true
   },
   "outputs": [],
   "source": [
    "from sklearn.model_selection import GridSearchCV\n",
    "from sklearn.linear_model import Ridge"
   ]
  },
  {
   "cell_type": "code",
   "execution_count": 26,
   "metadata": {
    "collapsed": true
   },
   "outputs": [],
   "source": [
    "ridge_ols = Ridge(fit_intercept=True, random_state=1010, tol=1e-4, solver='auto')\n",
    "alpha_linspace = np.linspace(0.0001,3,10)\n",
    "parameters = {'alpha':alpha_linspace}\n",
    "gridsearch_ridge = GridSearchCV(ridge_ols, parameters, cv=5, verbose=0, scoring='r2')"
   ]
  },
  {
   "cell_type": "code",
   "execution_count": 27,
   "metadata": {},
   "outputs": [
    {
     "data": {
      "text/plain": [
       "GridSearchCV(cv=5, error_score='raise',\n",
       "       estimator=Ridge(alpha=1.0, copy_X=True, fit_intercept=True, max_iter=None,\n",
       "   normalize=False, random_state=1010, solver='auto', tol=0.0001),\n",
       "       fit_params=None, iid=True, n_jobs=1,\n",
       "       param_grid={'alpha': array([  1.00000e-04,   3.33422e-01,   6.66744e-01,   1.00007e+00,\n",
       "         1.33339e+00,   1.66671e+00,   2.00003e+00,   2.33336e+00,\n",
       "         2.66668e+00,   3.00000e+00])},\n",
       "       pre_dispatch='2*n_jobs', refit=True, return_train_score='warn',\n",
       "       scoring='r2', verbose=0)"
      ]
     },
     "execution_count": 27,
     "metadata": {},
     "output_type": "execute_result"
    }
   ],
   "source": [
    "gridsearch_ridge.fit(X_train, y_train.values.flatten())"
   ]
  },
  {
   "cell_type": "code",
   "execution_count": 28,
   "metadata": {},
   "outputs": [
    {
     "data": {
      "image/png": "[encoded data removed]",
      "text/plain": [
       "<matplotlib.figure.Figure at 0x10613d320>"
      ]
     },
     "metadata": {},
     "output_type": "display_data"
    }
   ],
   "source": [
    "plt.plot(alpha_linspace, gridsearch_ridge.cv_results_['mean_test_score']);"
   ]
  },
  {
   "cell_type": "code",
   "execution_count": 29,
   "metadata": {
    "collapsed": true
   },
   "outputs": [],
   "source": [
    "best_ridge = gridsearch_ridge.best_estimator_"
   ]
  },
  {
   "cell_type": "code",
   "execution_count": 30,
   "metadata": {},
   "outputs": [
    {
     "data": {
      "text/plain": [
       "Ridge(alpha=0.0001, copy_X=True, fit_intercept=True, max_iter=None,\n",
       "   normalize=False, random_state=1010, solver='auto', tol=0.0001)"
      ]
     },
     "execution_count": 30,
     "metadata": {},
     "output_type": "execute_result"
    }
   ],
   "source": [
    "best_ridge"
   ]
  },
  {
   "cell_type": "code",
   "execution_count": 31,
   "metadata": {},
   "outputs": [
    {
     "name": "stdout",
     "output_type": "stream",
     "text": [
      "Sqrt of mean squared error: 0.0421\n",
      "Mean absolute error: 0.0301\n",
      "Variance score: 0.6545\n"
     ]
    },
    {
     "data": {
      "image/png": "[encoded data removed]",
      "text/plain": [
       "<matplotlib.figure.Figure at 0x1a11bb3e80>"
      ]
     },
     "metadata": {},
     "output_type": "display_data"
    }
   ],
   "source": [
    "predictions = best_ridge.predict(X_test)\n",
    "RegressionModelScores(best_ridge, y_test, predictions)"
   ]
  },
  {
   "cell_type": "markdown",
   "metadata": {},
   "source": [
    "### $L_1$ Regularization (\"Lasso\")\n",
    "*** Lasso Exercise 1 ***\n",
    "\n",
    "Make the same analysis with sklearn.linear_model.LassoLars"
   ]
  },
  {
   "cell_type": "markdown",
   "metadata": {},
   "source": [
    "<a id='ols_2'></a>"
   ]
  },
  {
   "cell_type": "markdown",
   "metadata": {},
   "source": [
    "*** Solution ***"
   ]
  },
  {
   "cell_type": "code",
   "execution_count": 32,
   "metadata": {
    "collapsed": true
   },
   "outputs": [],
   "source": [
    "from sklearn.linear_model import LassoLars as Lasso"
   ]
  },
  {
   "cell_type": "code",
   "execution_count": 33,
   "metadata": {
    "collapsed": true
   },
   "outputs": [],
   "source": [
    "lasso_ols = Lasso(fit_intercept=True, normalize=False)\n",
    "alpha_linspace = np.linspace(1e-6,1,5)\n",
    "parameters = {'alpha':alpha_linspace}\n",
    "gridsearch_lasso = GridSearchCV(lasso_ols, parameters, cv=5, verbose=2, scoring='r2')"
   ]
  },
  {
   "cell_type": "code",
   "execution_count": 34,
   "metadata": {},
   "outputs": [
    {
     "name": "stdout",
     "output_type": "stream",
     "text": [
      "Fitting 5 folds for each of 5 candidates, totalling 25 fits\n",
      "[CV] alpha=1e-06 .....................................................\n",
      "[CV] ...................................... alpha=1e-06, total=   0.0s\n",
      "[CV] alpha=1e-06 .....................................................\n",
      "[CV] ...................................... alpha=1e-06, total=   0.0s\n",
      "[CV] alpha=1e-06 .....................................................\n",
      "[CV] ...................................... alpha=1e-06, total=   0.0s\n",
      "[CV] alpha=1e-06 .....................................................\n",
      "[CV] ...................................... alpha=1e-06, total=   0.0s\n",
      "[CV] alpha=1e-06 .....................................................\n",
      "[CV] ...................................... alpha=1e-06, total=   0.0s\n",
      "[CV] alpha=0.25000075 ................................................\n",
      "[CV] ................................. alpha=0.25000075, total=   0.0s\n",
      "[CV] alpha=0.25000075 ................................................\n",
      "[CV] ................................. alpha=0.25000075, total=   0.0s\n",
      "[CV] alpha=0.25000075 ................................................\n",
      "[CV] ................................. alpha=0.25000075, total=   0.0s\n",
      "[CV] alpha=0.25000075 ................................................\n",
      "[CV] ................................. alpha=0.25000075, total=   0.0s\n",
      "[CV] alpha=0.25000075 ................................................\n",
      "[CV] ................................. alpha=0.25000075, total=   0.0s\n",
      "[CV] alpha=0.5000005 .................................................\n",
      "[CV] .................................. alpha=0.5000005, total=   0.0s\n",
      "[CV] alpha=0.5000005 .................................................\n",
      "[CV] .................................. alpha=0.5000005, total=   0.0s\n",
      "[CV] alpha=0.5000005 .................................................\n",
      "[CV] .................................. alpha=0.5000005, total=   0.0s\n",
      "[CV] alpha=0.5000005 .................................................\n",
      "[CV] .................................. alpha=0.5000005, total=   0.0s\n",
      "[CV] alpha=0.5000005 .................................................\n",
      "[CV] .................................. alpha=0.5000005, total=   0.0s\n",
      "[CV] alpha=0.75000025 ................................................\n",
      "[CV] ................................. alpha=0.75000025, total=   0.0s\n",
      "[CV] alpha=0.75000025 ................................................\n",
      "[CV] ................................. alpha=0.75000025, total=   0.0s\n",
      "[CV] alpha=0.75000025 ................................................\n",
      "[CV] ................................. alpha=0.75000025, total=   0.0s\n",
      "[CV] alpha=0.75000025 ................................................\n",
      "[CV] ................................. alpha=0.75000025, total=   0.0s\n",
      "[CV] alpha=0.75000025 ................................................\n",
      "[CV] ................................. alpha=0.75000025, total=   0.0s\n",
      "[CV] alpha=1.0 .......................................................\n",
      "[CV] ........................................ alpha=1.0, total=   0.0s\n",
      "[CV] alpha=1.0 .......................................................\n",
      "[CV] ........................................ alpha=1.0, total=   0.0s\n",
      "[CV] alpha=1.0 .......................................................\n",
      "[CV] ........................................ alpha=1.0, total=   0.0s\n",
      "[CV] alpha=1.0 .......................................................\n",
      "[CV] ........................................ alpha=1.0, total=   0.0s\n",
      "[CV] alpha=1.0 .......................................................\n",
      "[CV] ........................................ alpha=1.0, total=   0.0s\n"
     ]
    },
    {
     "name": "stderr",
     "output_type": "stream",
     "text": [
      "[Parallel(n_jobs=1)]: Done   1 out of   1 | elapsed:    0.0s remaining:    0.0s\n",
      "[Parallel(n_jobs=1)]: Done  25 out of  25 | elapsed:    0.2s finished\n"
     ]
    },
    {
     "data": {
      "text/plain": [
       "GridSearchCV(cv=5, error_score='raise',\n",
       "       estimator=LassoLars(alpha=1.0, copy_X=True, eps=2.2204460492503131e-16,\n",
       "     fit_intercept=True, fit_path=True, max_iter=500, normalize=False,\n",
       "     positive=False, precompute='auto', verbose=False),\n",
       "       fit_params=None, iid=True, n_jobs=1,\n",
       "       param_grid={'alpha': array([  1.00000e-06,   2.50001e-01,   5.00000e-01,   7.50000e-01,\n",
       "         1.00000e+00])},\n",
       "       pre_dispatch='2*n_jobs', refit=True, return_train_score='warn',\n",
       "       scoring='r2', verbose=2)"
      ]
     },
     "execution_count": 34,
     "metadata": {},
     "output_type": "execute_result"
    }
   ],
   "source": [
    "gridsearch_lasso.fit(X_train, y_train.values.flatten())"
   ]
  },
  {
   "cell_type": "code",
   "execution_count": 35,
   "metadata": {},
   "outputs": [
    {
     "data": {
      "text/plain": [
       "array([ 0.55662591,  0.4680516 ,  0.42137176,  0.40456852,  0.3832551 ])"
      ]
     },
     "execution_count": 35,
     "metadata": {},
     "output_type": "execute_result"
    }
   ],
   "source": [
    "gridsearch_lasso.cv_results_['mean_test_score']"
   ]
  },
  {
   "cell_type": "code",
   "execution_count": 36,
   "metadata": {},
   "outputs": [
    {
     "data": {
      "image/png": "[encoded data removed]",
      "text/plain": [
       "<matplotlib.figure.Figure at 0x107cd8128>"
      ]
     },
     "metadata": {},
     "output_type": "display_data"
    }
   ],
   "source": [
    "plt.plot(alpha_linspace, gridsearch_lasso.cv_results_['mean_test_score']);"
   ]
  },
  {
   "cell_type": "code",
   "execution_count": 37,
   "metadata": {
    "collapsed": true
   },
   "outputs": [],
   "source": [
    "best_lasso = gridsearch_lasso.best_estimator_"
   ]
  },
  {
   "cell_type": "code",
   "execution_count": 38,
   "metadata": {},
   "outputs": [
    {
     "data": {
      "text/plain": [
       "LassoLars(alpha=9.9999999999999995e-07, copy_X=True,\n",
       "     eps=2.2204460492503131e-16, fit_intercept=True, fit_path=True,\n",
       "     max_iter=500, normalize=False, positive=False, precompute='auto',\n",
       "     verbose=False)"
      ]
     },
     "execution_count": 38,
     "metadata": {},
     "output_type": "execute_result"
    }
   ],
   "source": [
    "best_lasso"
   ]
  },
  {
   "cell_type": "code",
   "execution_count": 39,
   "metadata": {},
   "outputs": [
    {
     "name": "stdout",
     "output_type": "stream",
     "text": [
      "Sqrt of mean squared error: 0.0422\n",
      "Mean absolute error: 0.0302\n",
      "Variance score: 0.6522\n"
     ]
    },
    {
     "data": {
      "image/png": "[encoded data removed]",
      "text/plain": [
       "<matplotlib.figure.Figure at 0x1a123b5eb8>"
      ]
     },
     "metadata": {},
     "output_type": "display_data"
    }
   ],
   "source": [
    "predictions = best_lasso.predict(X_test)\n",
    "RegressionModelScores(best_lasso, y_test, predictions)"
   ]
  },
  {
   "cell_type": "markdown",
   "metadata": {},
   "source": [
    "### Total Variation Regularization (\"Fused Lasso\")"
   ]
  },
  {
   "cell_type": "markdown",
   "metadata": {},
   "source": [
    "Consider we observing $1D$ measurments of the system status from the sensor at the eqvistidance time momets. However, measurments are noisy (autonomous robot in harsh conditions on Mars or some not well-defined sensors on the exgauster of mining company).\n",
    "\n",
    "Hence, our model:\n",
    "\n",
    "$$\n",
    "\\begin{aligned}\n",
    "& n = 0,\\dots, N \\\\\n",
    "& y(n) := \\text{Observation at the moment $n$} \\\\\n",
    "& x(n) := \\text{Real value of a measurment at the moment $n$} \\\\\n",
    "& w(n) := \\text{Some noize value at the moment $n$, not observable} \\\\\n",
    "& \\text{Model: } y(n) = x(n) + w(n)\n",
    "\\end{aligned}\n",
    "$$\n",
    "\n",
    "\n"
   ]
  },
  {
   "cell_type": "markdown",
   "metadata": {},
   "source": [
    "As we want to recover true signal from noise observations, we obtain the regression problem. More over, consider our system changes over time between states, but inside state it changes slow. Than natural regularization is **total variation**. Unlike $\\mathcal{l_2}$ based reconstruction, total variation regularization filters high frequency noise out while preserving sharp jumps. \n",
    "\n",
    "$$\n",
    "\\begin{aligned}\n",
    "& x \\in \\mathbb{R}^N \\\\\n",
    "& TV(x) = \\sum\\limits_{n=1}^{N-1}|x(n) - x(n-1)| \n",
    "\\end{aligned}\n",
    "$$\n",
    "\n",
    "And our problem can be state as:\n",
    "\n",
    "$$\n",
    "\\begin{aligned}\n",
    "& \\arg\\min\\limits_x \\left\\{\\frac{1}{2}\\left(y(n)-x(n)\\right)^2 + \\lambda\\sum\\limits_{n=1}^{N-1}\\left|x(n) - x(n-1)\\right|\\right\\} \\\\\n",
    "& \\lambda > 0, \\text{ smooting parameter }\n",
    "\\end{aligned}\n",
    "$$\n",
    "\n",
    "For simplicity, we can rewrite our problem in matrix-vector form:\n",
    "\n",
    "$$\n",
    "\\begin{aligned}\n",
    "& \\arg\\min\\limits_x \\left\\{\\frac{1}{2}\\|y - x\\|^2_2 + \\lambda\\|Dx\\|_1\\right\\} \\\\\n",
    "& y, x\\in\\mathbb{R}^N \\\\\n",
    "& D = \\begin{pmatrix}\n",
    "-1 & 1  &   &   &  \\\\ \n",
    "  & -1  & 1  &  & \\\\\\ \n",
    "  &  & \\ddots  & \\ddots \\\\ \n",
    "  &  &   & -1 & 1\\\\\n",
    "\\end{pmatrix} \\in\\mathbb{R}^{(N-1)\\times N}\n",
    "\\end{aligned}\n",
    "$$\n",
    "\n",
    "From observation $\\|Dx\\|_1 = \\max\\limits_{u,\\|u\\|\\leq 1}\\langle u, Dx\\rangle$ clear that problem is convex. However it is not smooth. And in constrast with $\\mathcal{l}_1$ it is not coordinate-wise separable.\n",
    "\n",
    "Than we can consider **MM algorithm**\n",
    "\n",
    "$$\n",
    "\\begin{aligned}\n",
    "F(x) \\text{:= original function for optimization} \\\\\n",
    "\\textbf{MM Algorithm} \\\\\n",
    "& 0.~k = 0, \\text{Initialize }x_0 \\\\\n",
    "& 1.~\\text{Choose $G_k$ such that:} \\\\\n",
    "& \\text{ (a) }G_k(x)\\geq F(x)~\\forall x \\in \\text{dom } F \\\\\n",
    "& \\text{ (b) }G_k(x_k) = F(x_k) \\\\\n",
    "& 2.~x_{k+1} = \\arg\\min\\limits_{x}G_k(x) \\\\\n",
    "& 3.~k=k+1, \\text{ return to step 2, untill stopping criteria }\n",
    "\\end{aligned}\n",
    "$$"
   ]
  },
  {
   "cell_type": "markdown",
   "metadata": {},
   "source": [
    "*** Solution Derivation ***\n",
    "\n",
    "One can observe:\n",
    "\n",
    "$$\n",
    "\\begin{aligned}\n",
    "& g(t) = \\frac{1}{2|t_k|}t^2 + \\frac{1}{2}|t_k| \\geq |t| = f(t) \\\\\n",
    "& g(t_k) = |t_k| = f(t_k)\n",
    "\\end{aligned}\n",
    "$$\n",
    "\n",
    "Hence, we can majorize our problem. $v\\in\\mathbb{R}^{N-1}$ For each $v(n)$ we can use inequality above. Summing them up:\n",
    "\n",
    "$$\n",
    "\\begin{aligned}\n",
    "& \\sum\\limits_{n} \\frac{1}{2|v_k(n)|}v(n)^2 + \\frac{1}{2}|v_k(n)| \\sum\\limits_{n} \\geq |v(n)| \\\\\n",
    "& \\text{In matrix-vector form:} \\\\\n",
    "& \\frac{1}{2}v^T\\Lambda_k^{-1}v + \\frac{1}{2}\\|v_k\\|_1 \\geq \\|v\\|_1, \\text{ where } \\Lambda = \\text{diag}(|v_k|) \\\\\n",
    "& \\text{Subsitute } v = Dx: \\\\\n",
    "& \\frac{1}{2}x^TD^T\\Lambda_k^{-1}Dx + \\frac{1}{2}\\|Dx_k\\|_1 \\geq \\|Dx\\|_1, \\text{ where } \\Lambda = \\text{diag}(|Dx_k|) \\\\\n",
    "\\end{aligned}\n",
    "$$\n",
    "\n",
    "Finally adding postive reconstruction error and times $\\lambda$, $\\lambda > 0$:\n",
    "\n",
    "$$\n",
    "G_k(x) = \\frac{1}{2}\\|y-x\\|_2^2 + \\frac{\\lambda}{2}x^TD^T\\Lambda_k^{-1}Dx + \\frac{\\lambda}{2}\\|Dx_k\\|_1\n",
    "$$\n",
    "\n",
    "Please note that $G_k(x)$ is convex on x and smooth. So by first order conditions we can find explicit solution"
   ]
  },
  {
   "cell_type": "markdown",
   "metadata": {},
   "source": [
    "<a id='tv_1'></a>\n",
    "*** TV Exercise 1 ***\n",
    "\n",
    "Find derivative on $x$\n",
    "\n",
    "$$\n",
    "\\frac{\\partial}{\\partial x}G_k(x) = \\frac{\\partial}{\\partial x} \\left[\\frac{1}{2}\\|y-x\\|_2^2 + \\frac{\\lambda}{2}x^TD^T\\Lambda_k^{-1}Dx + \\frac{\\lambda}{2}\\|Dx_k\\|_1\\right] = \\dots\n",
    "$$"
   ]
  },
  {
   "cell_type": "markdown",
   "metadata": {},
   "source": [
    "** Solution **\n",
    "\n",
    "$$\n",
    "\\frac{\\partial}{\\partial x}G_k(x) = -y + x + \\lambda D^T\\Lambda_k^{-1}Dx\n",
    "$$"
   ]
  },
  {
   "cell_type": "markdown",
   "metadata": {},
   "source": [
    "<a id='tv_2'></a>\n",
    "*** TV Exercise 2 ***\n",
    "\n",
    "Find optimal $x$ from $\\frac{\\partial}{\\partial x}G_k(x) = 0$"
   ]
  },
  {
   "cell_type": "markdown",
   "metadata": {},
   "source": [
    "** Solution **\n",
    "\n",
    "$$\n",
    "\\begin{aligned}\n",
    "& -y + x + \\lambda D^T\\Lambda_kDx = 0 \\\\\n",
    "& y = (I + \\lambda D^T\\Lambda_k^{-1}D)x \\\\\n",
    "& x = (I + \\lambda D^T\\Lambda_k^{-1}D)^{-1}y\n",
    "\\end{aligned}\n",
    "$$"
   ]
  },
  {
   "cell_type": "markdown",
   "metadata": {},
   "source": [
    "<a id='tv_3'></a>\n",
    "*** TV Exercise 3 ***"
   ]
  },
  {
   "cell_type": "markdown",
   "metadata": {},
   "source": [
    "Recall defenition of $\\Lambda_k$:\n",
    "\n",
    "$$\n",
    "\\Lambda_k = \\text{diag}{|Dx_k|}\n",
    "$$\n",
    "\n",
    "Hence, $\\Lambda_k^{-1}$ will have very huge numbers, if $x_k$ has small variation. Therefore, we should avoid inversion of it by using matrix lemma. \n",
    "\n",
    "Using \n",
    "\n",
    "$$\n",
    "(A+BCD)^{-1} = A^{-1}-A^{-1}B(C^{-1}+DA^{-1}B)^{-1}DA^{-1}\n",
    "$$\n",
    "\n",
    "Rewrite optimal $x$"
   ]
  },
  {
   "cell_type": "markdown",
   "metadata": {},
   "source": [
    "** Solution **"
   ]
  },
  {
   "cell_type": "markdown",
   "metadata": {},
   "source": [
    "$$\n",
    "\\begin{aligned}\n",
    "& (A+BCD)^{-1} = A^{-1}-A^{-1}B(C^{-1}+DA^{-1}B)^{-1}DA^{-1} \\\\\n",
    "& (I + \\lambda D^T\\Lambda_k^{-1}D)^{-1} = I - \\lambda D^T(\\Lambda_k+\\lambda DD^T)^{-1}D = I -  D^T(\\frac{1}{\\lambda}\\Lambda_k+DD^T)^{-1}D\n",
    "\\end{aligned}\n",
    "$$"
   ]
  },
  {
   "cell_type": "markdown",
   "metadata": {},
   "source": [
    "Finally, we get:\n",
    "    \n",
    "$$\n",
    "x_{k+1} = y - D^T(\\frac{1}{\\lambda}\\text{diag}(|Dx_k|)+DD^T)^{-1}Dy\n",
    "$$"
   ]
  },
  {
   "cell_type": "markdown",
   "metadata": {},
   "source": [
    "<a id='tv_4'></a>\n",
    "*** TV Exercise 4 ***\n",
    "\n",
    "Implement MM algorithm. Note that\n",
    "\n",
    "$$\n",
    "DD^T = \\begin{pmatrix}\n",
    "2 & -1  &   &   &  \\\\ \n",
    "-1  & 2  & -1  &  & \\\\\\ \n",
    "  &  & \\ddots  & \\ddots \\\\ \n",
    "  &  &   & -1 & 2 & -1 \\\\\n",
    "  &  &   &  & -1 & 2\n",
    "\\end{pmatrix}\n",
    "$$\n",
    "\n",
    "Hence matrix $(\\frac{1}{\\lambda}\\Lambda_k+DD^T)$ is tridiagonal and we can store it in the sparse format."
   ]
  },
  {
   "cell_type": "code",
   "execution_count": null,
   "metadata": {
    "collapsed": true
   },
   "outputs": [],
   "source": [
    "# !conda install tqdm -y"
   ]
  },
  {
   "cell_type": "code",
   "execution_count": 40,
   "metadata": {
    "collapsed": true
   },
   "outputs": [],
   "source": [
    "from scipy.sparse import diags\n",
    "from tqdm import tqdm"
   ]
  },
  {
   "cell_type": "code",
   "execution_count": 41,
   "metadata": {
    "collapsed": true
   },
   "outputs": [],
   "source": [
    "def tv_denoise(y, x_0, C, max_iter):\n",
    "    N = y.shape[0]\n",
    "    \n",
    "    # D matrix\n",
    "    d_main_diag = [-1] * (N-1)\n",
    "    d_up_diag = [1] * (N)\n",
    "    D = diags([d_main_diag, d_up_diag], [0, 1], shape=(N-1,N))\n",
    "    \n",
    "    # Same way construct DD^T matrix\n",
    "    dd_t_main_diag = [2] * (N-1)\n",
    "    dd_t_up_diag = [-1] * (N-2)\n",
    "    dd_t_down_diag = [-1] * (N-2)\n",
    "    DD_T = diags([dd_t_main_diag, dd_t_up_diag, dd_t_down_diag], [0, 1, -1], shape=(N-1, N-1))\n",
    "    \n",
    "    x_k = x_0.copy()\n",
    "    for k in tqdm(range(max_iter)):\n",
    "        D_x_k = np.abs(D @ x_k)\n",
    "        Lambda_k = diags([D_x_k], [0], shape=(N-1, N-1))\n",
    "        smooth_matrix_k = Lambda_k / C + DD_T\n",
    "        \n",
    "        inv_smooth_matrix_k = np.linalg.pinv(smooth_matrix_k.todense()) # can be optimized by Thomas algorithm\n",
    "        x_k_vec = y - D.T @ inv_smooth_matrix_k @ D @ y\n",
    "        x_k = np.squeeze(np.asarray(x_k_vec))\n",
    "    \n",
    "    return x_k"
   ]
  },
  {
   "cell_type": "markdown",
   "metadata": {},
   "source": [
    "*** Example Generation *** "
   ]
  },
  {
   "cell_type": "code",
   "execution_count": 42,
   "metadata": {
    "collapsed": true
   },
   "outputs": [],
   "source": [
    "y = np.vectorize(lambda x: - 0.5 * x ** 2)"
   ]
  },
  {
   "cell_type": "code",
   "execution_count": 43,
   "metadata": {
    "collapsed": true
   },
   "outputs": [],
   "source": [
    "basic_motion = y(np.linspace(-1, 0, 250))\n",
    "series = np.hstack((basic_motion, basic_motion - 1., basic_motion + 1.5))"
   ]
  },
  {
   "cell_type": "code",
   "execution_count": 44,
   "metadata": {},
   "outputs": [
    {
     "data": {
      "image/png": "[encoded data removed]",
      "text/plain": [
       "<matplotlib.figure.Figure at 0x1a1e16d080>"
      ]
     },
     "metadata": {},
     "output_type": "display_data"
    }
   ],
   "source": [
    "plt.figure(figsize=(20, 10))\n",
    "plt.plot(series);\n",
    "plt.xlabel('n');\n",
    "plt.ylabel('x(n)');\n",
    "plt.title('Real signal');"
   ]
  },
  {
   "cell_type": "code",
   "execution_count": 45,
   "metadata": {
    "collapsed": true
   },
   "outputs": [],
   "source": [
    "np.random.seed(101)\n",
    "series_noised = series +  0.05 * np.random.randn(series.shape[0])"
   ]
  },
  {
   "cell_type": "code",
   "execution_count": 46,
   "metadata": {
    "scrolled": false
   },
   "outputs": [
    {
     "data": {
      "image/png": "[encoded data removed]",
      "text/plain": [
       "<matplotlib.figure.Figure at 0x1a1e0bacc0>"
      ]
     },
     "metadata": {},
     "output_type": "display_data"
    }
   ],
   "source": [
    "plt.figure(figsize=(20, 10))\n",
    "plt.plot(series_noised);\n",
    "plt.xlabel('n');\n",
    "plt.ylabel('y(n)');\n",
    "plt.title('Observed signal');"
   ]
  },
  {
   "cell_type": "code",
   "execution_count": 47,
   "metadata": {},
   "outputs": [
    {
     "name": "stderr",
     "output_type": "stream",
     "text": [
      "100%|██████████| 100/100 [00:15<00:00,  6.30it/s]\n"
     ]
    }
   ],
   "source": [
    "initial_guess = np.array([series_noised.mean()] * series_noised.shape[0])\n",
    "series_denoised = tv_denoise(series_noised, initial_guess, 1, 100)"
   ]
  },
  {
   "cell_type": "code",
   "execution_count": 48,
   "metadata": {},
   "outputs": [
    {
     "data": {
      "image/png": "[encoded data removed]",
      "text/plain": [
       "<matplotlib.figure.Figure at 0x1a1e90d588>"
      ]
     },
     "metadata": {},
     "output_type": "display_data"
    }
   ],
   "source": [
    "plt.figure(figsize=(20, 10))\n",
    "plt.plot(series_denoised);\n",
    "plt.xlabel('n');\n",
    "plt.ylabel('Model(n)');\n",
    "plt.title('Reconstructed signal');"
   ]
  },
  {
   "cell_type": "markdown",
   "metadata": {},
   "source": [
    "<a id='tv_5'></a>\n",
    "*** TV Exercise 5 ***\n",
    "\n",
    "Play around with different $\\lambda$ parametr and number of iterations. Modify function with stopping criteria."
   ]
  }
 ],
 "metadata": {
  "kernelspec": {
   "display_name": "Python 3",
   "language": "python",
   "name": "python3"
  },
  "language_info": {
   "codemirror_mode": {
    "name": "ipython",
    "version": 3
   },
   "file_extension": ".py",
   "mimetype": "text/x-python",
   "name": "python",
   "nbconvert_exporter": "python",
   "pygments_lexer": "ipython3",
   "version": "3.6.3"
  }
 },
 "nbformat": 4,
 "nbformat_minor": 2
}
