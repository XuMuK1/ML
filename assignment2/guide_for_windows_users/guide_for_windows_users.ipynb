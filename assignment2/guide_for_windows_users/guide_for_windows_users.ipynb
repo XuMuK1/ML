{
 "cells": [
  {
   "cell_type": "markdown",
   "metadata": {},
   "source": [
    "# Running LUbuntu 16.04 Lts image for ML"
   ]
  },
  {
   "cell_type": "markdown",
   "metadata": {},
   "source": [
    "<br/> <!-- This was intentionally left blank -->"
   ]
  },
  {
   "cell_type": "markdown",
   "metadata": {},
   "source": [
    "1 . Please install the latest version (5.2.6) of [Oracle VirtualBox](https://www.virtualbox.org/).\n",
    "This software allows you to run virtual machines with other operating systems.\n",
    "\n",
    "2 . Get the LUbuntu image: download the whole folder `Skoltech ML` from [this location](https://drive.google.com/drive/folders/1713o67MbpwBQbkDYiQXUbALLwVxYDuO6?usp=sharing).\n",
    "Make sure to download `SkoltechML.vbox` ($3$ Kb.) and `SkoltechML.vhd` ($9.31$ Gb.)\n",
    "and put them in the **one dedicated folder**.\n",
    "\n",
    "3 . Locate the `SkoltechML.vbox` file and double-click on it. This launches the virtual\n",
    "machine with LUbuntu, anaconda 5.0+, python 3.6+ and all the latest modules and packages\n",
    "(as of 2018-02-08).\n",
    "\n",
    "4 . After the image boots up, log in to the system using the folowing credentials:\n",
    "```\n",
    "login: student\n",
    "password: qwedsa\n",
    "```\n",
    "Hit `log In`.\n",
    "\n",
    "<img title=\"Login screen\" alt=\"Contact TA!\"\n",
    " src=\"./images/12-login.png\" width=\"50%\"/>\n",
    "\n",
    "<br/> <!-- This was intentionally left blank -->\n",
    "\n",
    "5 . Locate the LXTerminal icon on the desktop and **double click** on it.\n",
    "\n",
    "<img title=\"Double-click on the terminal icon\" alt=\"Contact TA!\"\n",
    " src=\"./images/01-terminal.png\" width=\"50%\"/>\n",
    "\n",
    "<br/> <!-- This was intentionally left blank -->\n",
    "\n",
    "6 . Run the command\n",
    "```bash\n",
    "source activate base\n",
    "```\n",
    "\n",
    "<img title=\"Type in 'source activate' and hit enter!\" alt=\"Contact TA!\"\n",
    " src=\"./images/02-environment.png\" width=\"50%\"/>\n",
    "\n",
    "<br/> <!-- This was intentionally left blank -->\n",
    "\n",
    "7 . The following command will launch a notebook server on port **8899** which **accepts**\n",
    "connections from **anywhere** and **requires no security token**. These settings are okay\n",
    "when used in a virtual machine, but **you must never use them on a real server of your own\n",
    "machine**\n",
    "```bash\n",
    "jupyter notebook --no-browser --ip=* --port=8899 --NotebookApp.token=''\n",
    "```\n",
    "\n",
    "<img title=\"Launch the notebook server\" alt=\"Contact TA!\"\n",
    " src=\"./images/03-notebook.png\" width=\"50%\"/>\n",
    "\n",
    "<br/> <!-- This was intentionally left blank -->\n",
    "\n",
    "8 . Loacte and click once the **Network connections** icon in the system tray. Make sure that\n",
    "**Enable Networking** is checked in the pop up menu.\n",
    "\n",
    "<img title=\"Click one the Network Connections icon\" alt=\"Contact TA!\"\n",
    " src=\"./images/04-connections.png\" width=\"50%\"/>\n",
    "\n",
    "<br/> <!-- This was intentionally left blank -->\n",
    "\n",
    "9 . Click on the **Connection Information** menu item in the popup.\n",
    "\n",
    "<img title=\"Select the Connection Information menu item\" alt=\"Contact TA!\"\n",
    " src=\"./images/05-conninfo.png\" width=\"50%\"/>\n",
    "\n",
    "<br/> <!-- This was intentionally left blank -->\n",
    "\n",
    "10 . Find the **IP Address** line and write down the ip address. It is `192.168.68.116`\n",
    "in the provided screenshot, but **yours will be defferent**!\n",
    "\n",
    "<img title=\"Locate and write down the IP address\" alt=\"Contact TA!\"\n",
    " src=\"./images/06-ip.png\" width=\"50%\"/>\n",
    "\n",
    "<br/> <!-- This was intentionally left blank -->\n",
    "\n",
    "11 . Follow the \"Selecting Bridged Networking\" section of [this guide](https://www.howtogeek.com/122641/how-to-forward-ports-to-a-virtual-machine-and-use-it-as-a-server/) to set up proper netwrok settings.\n",
    "This will allows you to connect to the virtual machine as if it were a notebook server,\n",
    "once you finish this guide."
   ]
  },
  {
   "cell_type": "markdown",
   "metadata": {},
   "source": [
    "<br/> <!-- This was intentionally left blank -->"
   ]
  }
 ],
 "metadata": {
  "kernelspec": {
   "display_name": "Python 3",
   "language": "python",
   "name": "python3"
  },
  "language_info": {
   "codemirror_mode": {
    "name": "ipython",
    "version": 3
   },
   "file_extension": ".py",
   "mimetype": "text/x-python",
   "name": "python",
   "nbconvert_exporter": "python",
   "pygments_lexer": "ipython3",
   "version": "3.6.2"
  }
 },
 "nbformat": 4,
 "nbformat_minor": 2
}
